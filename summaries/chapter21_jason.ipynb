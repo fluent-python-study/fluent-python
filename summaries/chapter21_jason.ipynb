{
 "cells": [
  {
   "cell_type": "markdown",
   "metadata": {},
   "source": [
    "# 21. 클래스 메타프로그래밍"
   ]
  },
  {
   "cell_type": "markdown",
   "metadata": {},
   "source": [
    "## Index\n",
    "- 21.1 클래스 팩토리\n",
    "- 21.2 디스크립터를 커스터마이즈하기 위한 클래스 데커레이터\n",
    "- 21.3 임포트 타임과 런타임\n",
    "- 21.4 메타클래스 기본 지식\n",
    "- 21.5 디스크립터를 커스터마이즈하기 위한 메타클래스\n",
    "- 21.6 메타클래스 \\__prepare\\__() 특별 메서드\n",
    "- 21.7 객체로서의 클래스"
   ]
  },
  {
   "cell_type": "markdown",
   "metadata": {},
   "source": [
    "<blockquote>meta는 영어의 접두사로, 다른 개념으로부터의 추상화를 가리키며 후자를 완성하거나 추가하는 데에 쓰인다.</blockquote>"
   ]
  },
  {
   "cell_type": "markdown",
   "metadata": {},
   "source": [
    "클래스 메타프로그래밍은 런타임에 클래스를 만들거나 커스터마이징 하는 기술이다. 파이썬에서 클래스는 일급 객체이다. 따라서 클래스를 만드는 또 다른 클래스가 있을 수 있다. 이것을 metaclass라고 한다."
   ]
  },
  {
   "cell_type": "markdown",
   "metadata": {},
   "source": [
    "## 21.1 클래스 팩토리"
   ]
  },
  {
   "cell_type": "code",
   "execution_count": 19,
   "metadata": {},
   "outputs": [
    {
     "data": {
      "text/plain": [
       "Dog(name='Rex', weight=30, owner='Bob')"
      ]
     },
     "execution_count": 19,
     "metadata": {},
     "output_type": "execute_result"
    }
   ],
   "source": [
    "#Example 21-1\n",
    "Dog = record_factory('Dog','name weight owner')\n",
    "rex = Dog('Rex', 30, 'Bob')\n",
    "rex"
   ]
  },
  {
   "cell_type": "code",
   "execution_count": 20,
   "metadata": {},
   "outputs": [
    {
     "data": {
      "text/plain": [
       "('Rex', 30)"
      ]
     },
     "execution_count": 20,
     "metadata": {},
     "output_type": "execute_result"
    }
   ],
   "source": [
    "name, weight, _ = rex\n",
    "name, weight"
   ]
  },
  {
   "cell_type": "code",
   "execution_count": 21,
   "metadata": {},
   "outputs": [
    {
     "data": {
      "text/plain": [
       "\"Bob's dog weighs 30kg\""
      ]
     },
     "execution_count": 21,
     "metadata": {},
     "output_type": "execute_result"
    }
   ],
   "source": [
    "\"{2}'s dog weighs {1}kg\".format(*rex)"
   ]
  },
  {
   "cell_type": "code",
   "execution_count": 22,
   "metadata": {},
   "outputs": [
    {
     "data": {
      "text/plain": [
       "Dog(name='Rex', weight=32, owner='Bob')"
      ]
     },
     "execution_count": 22,
     "metadata": {},
     "output_type": "execute_result"
    }
   ],
   "source": [
    "rex.weight = 32\n",
    "rex"
   ]
  },
  {
   "cell_type": "code",
   "execution_count": 23,
   "metadata": {},
   "outputs": [
    {
     "data": {
      "text/plain": [
       "(__main__.Dog, object)"
      ]
     },
     "execution_count": 23,
     "metadata": {},
     "output_type": "execute_result"
    }
   ],
   "source": [
    "Dog(name='Rex', weight=32, owner='Bob')\n",
    "Dog.__mro__"
   ]
  },
  {
   "cell_type": "code",
   "execution_count": 13,
   "metadata": {},
   "outputs": [],
   "source": [
    "#Example 21-2\n",
    "\n",
    "def record_factory(cls_name, field_names):\n",
    "    try:\n",
    "        field_names = field_names.replace(',', ' ').split()\n",
    "    except AttributeError: #no .replace or .split\n",
    "        pass # assume it's already a sequence of identifiers\n",
    "    field_names = tuple(field_names)\n",
    "    \n",
    "    def __init__(self, *args, **kwargs):\n",
    "        attrs = dict(zip(self.__slots__, args))\n",
    "        attrs.update(kwargs)\n",
    "        for name, value in attrs.items():\n",
    "            setattr(self, name, value)\n",
    "\n",
    "    def __iter__(self):\n",
    "        for name in self.__slots__:\n",
    "            yield getattr(self, name)\n",
    "            \n",
    "    def __repr__(self):\n",
    "        values = ', '.join('{}={!r}'.format(*i) for i\n",
    "                          in zip(self.__slots__, self))\n",
    "        return '{}({})'.format(self.__class__.__name__, values)\n",
    "    \n",
    "    cls_attrs = dict(__slots__ = field_names,\n",
    "                     __init__ = __init__,\n",
    "                     __iter__ = __iter__,\n",
    "                     __repr__ = __repr__)\n",
    "    \n",
    "    return type(cls_name, (object, ), cls_attrs)"
   ]
  },
  {
   "cell_type": "markdown",
   "metadata": {},
   "source": [
    "`type(my_object)`는 함수가 아니라 클래스이다.\n",
    "``` Python\n",
    "MyClass = type('MyClass', (MySuperClass, MyMixin),\n",
    "               {'x':42, 'x2': lambda self: self.x * 2})\n",
    "```\n",
    "는\n",
    "``` Python\n",
    "class MyClass(MySuperClass, MyMixin):\n",
    "    x = 42\n",
    "    \n",
    "    def x2(self):\n",
    "        return self.x * 2\n",
    "```\n",
    "`record_factory`로 만든 인스턴스는 직렬화할 수 없다. 따라서 `pickle`을 사용할 수 없다. 즉 `type`의 인스턴스가 `MyClass`와 같이 클래스라는 것. "
   ]
  },
  {
   "cell_type": "markdown",
   "metadata": {},
   "source": [
    "## 21.2 디스크립터를 커스터마이즈하기 위한 클래스 데커레이터\n",
    "20절의 LineItem Take #5에서 저장소 이름이 `_Quantity#0`과 같이 저장되어 디버깅하기 어려운 문제가 있었다. \n",
    "```Python\n",
    ">>> LineItem.weight.storage_name\n",
    "'_Quantity#0'\n",
    "```\n",
    "으로 나오는 것보다, 실제 이름이 포함되어\n",
    "``` Python\n",
    "'_Quantity#weight'\n",
    "```\n",
    "로 나오는 것이 좋다."
   ]
  },
  {
   "cell_type": "markdown",
   "metadata": {},
   "source": [
    "Lineitem Take #4를 기억해보면, 디스크립터가 인스턴스화 되었을 때는 관리 속성의 이름을 알 수 있는 방법이 없기 때문에 descriptive storage name을 사용하지 않는다. 하지만 일단 전체 클래스가 바운딩 되어서 완성되면, 검사도 할 수 있고 디스크립터에 이름도 지을 수 있다. 이것은 LineItem 클래스의 `__new__` 메서드에서 수행 할 수 있으므로 디스크립터가 `__init__` 메서드에서 사용될 때까지 올바른 storage name이 설정된다. `__new__`의 문제는 모든 새로운 `LineItem` 인스턴스를 만들 때마다 호출된다는 것. 디스크립터의 바인딩은 한번만 하면 되는데! 클래스가 만들어질 때 이름을 정해보자. 이것은 '클래스 데커레이터'나 '메타클래스'를 사용하면 할 수 있다."
   ]
  },
  {
   "cell_type": "code",
   "execution_count": 14,
   "metadata": {
    "collapsed": true
   },
   "outputs": [
    {
     "ename": "ModuleNotFoundError",
     "evalue": "No module named 'model_v6'",
     "output_type": "error",
     "traceback": [
      "\u001b[0;31m---------------------------------------------------------------------------\u001b[0m",
      "\u001b[0;31mModuleNotFoundError\u001b[0m                       Traceback (most recent call last)",
      "\u001b[0;32m<ipython-input-14-f854ef36b28c>\u001b[0m in \u001b[0;36m<module>\u001b[0;34m\u001b[0m\n\u001b[1;32m      1\u001b[0m \u001b[0;31m#Example 21-3\u001b[0m\u001b[0;34m\u001b[0m\u001b[0;34m\u001b[0m\u001b[0;34m\u001b[0m\u001b[0m\n\u001b[1;32m      2\u001b[0m \u001b[0;34m\u001b[0m\u001b[0m\n\u001b[0;32m----> 3\u001b[0;31m \u001b[0;32mimport\u001b[0m \u001b[0mmodel_v6\u001b[0m \u001b[0;32mas\u001b[0m \u001b[0mmodel\u001b[0m\u001b[0;34m\u001b[0m\u001b[0;34m\u001b[0m\u001b[0m\n\u001b[0m\u001b[1;32m      4\u001b[0m \u001b[0;34m\u001b[0m\u001b[0m\n\u001b[1;32m      5\u001b[0m \u001b[0;34m@\u001b[0m\u001b[0mmodel\u001b[0m\u001b[0;34m.\u001b[0m\u001b[0mentity\u001b[0m\u001b[0;34m\u001b[0m\u001b[0;34m\u001b[0m\u001b[0m\n",
      "\u001b[0;31mModuleNotFoundError\u001b[0m: No module named 'model_v6'"
     ]
    }
   ],
   "source": [
    "#Example 21-3\n",
    "\n",
    "import model_v6 as model\n",
    "\n",
    "@model.entity\n",
    "class LineItem:\n",
    "    description = model.NonBlank()\n",
    "    weight = model.Quantity()\n",
    "    price = model.Quantity()\n",
    "    \n",
    "    def __init__(self, description, weight, price):\n",
    "        self.description = description\n",
    "        self.weight = weight\n",
    "        self.price = price\n",
    "            \n",
    "    def subtotal(self):\n",
    "        return self.weight * self.price"
   ]
  },
  {
   "cell_type": "markdown",
   "metadata": {},
   "source": [
    "인터프리터가 평가하고 결과 클래스 객체는 `model.entity`에 전달. Python은 `model.entity`가 반환하는 것을 글로벌 이름 `LineItem`에 바인딩."
   ]
  },
  {
   "cell_type": "code",
   "execution_count": 15,
   "metadata": {},
   "outputs": [],
   "source": [
    "#Example 21-4: a class decorator\n",
    "\n",
    "def entity(cls):\n",
    "    for key, attr in cls.__dict__.items():\n",
    "        if isinstance(attr, Validated):\n",
    "            #if the attribute is one of our Validated descriptors\n",
    "            type_name = type(attr).__name__\n",
    "            attr.storage_naem = '_{}#{}'.format(type_name, key)\n",
    "            #naming convention\n",
    "    return cls"
   ]
  },
  {
   "cell_type": "markdown",
   "metadata": {},
   "source": [
    "클래스 데커레이터의 큰 단점은 직접적으로 적용되는 클래스에서만 작동한다는 것이다. 이것은 데코레이터가 변경한 내용에 따라 데코레이터가 변경한 내용을 데코 레이팅된 클래스의 서브 클래스가 상속할 수도 있고 상속하지 않을 수도 있음을 의미함."
   ]
  },
  {
   "cell_type": "markdown",
   "metadata": {},
   "source": [
    "## 21.3 임포트 타임과 런타임\n",
    "중간에 애매한 곳이 있어서 정확히 나누기는 힘들다.\n",
    "### import time\n",
    "인터프리터가 소스코드를 읽어서 실행가능한 바이트코드를 만들어낸다. `syntax error`도 이 때 일어남. local `__pycache__`에 최신의 `.pyc` 파일이 있으면 이 과정은 건너뛴다.\n",
    "\n",
    "### import문\n",
    "단순한 선언이 아니라 프로세스에서 처음으로 가져올 때 가져온 모듈의 top-level code를 실제로 실행하는데 이 top-level code는 Runtime의 일반적인 작업을 포함하여 모든 작업을 수행할 수 있다. 그래서 정확히 import time과 runtime을 구분하기 어렵다! `import`는 모든 종류의 runtime 동작을 트리거 할 수 있다.\n",
    "\n",
    "일반적인 경우, 인터프리터가 임포트 시 최상위 함수를 정의하지만 함수가 런타임에 호출되는 경우에만 본문을 실행함. 함수 본문을 컴파일하지만, 실행하지는 않음.\n",
    "\n",
    "클래스는? 인터프리터가 클래스가 다른 클래스로 중첩되더라도 모든 클래스 본문을 다 실행함. 클래스 본문 실행의 의미는 속성과 함수가 정의되고 나서 클래스 객체 자체가 빌드되는 것을 의미함. 이러한 점에서, 클래스의 본문은 최상위 레벨 코드이고 import time에 실행된다.\n",
    "\n",
    "이해가 안간다면?! `The Evaluation Time Exercise` 예제를 따라해보자!"
   ]
  },
  {
   "cell_type": "markdown",
   "metadata": {},
   "source": [
    "## 21.4 메타클래스 기본 지식\n",
    "메타클래스는 class factory이다. 클래스도 객체이므로 각각의 클래스는 다른 클래스의 객체가 되어야 한다. 기본적으로 클래스는 `type`의 인스턴스이다. 다른 말로 `type`은 대부분의 빌트인, 사용자 정의 클래스들의 메타클래스이다.\n",
    "\n",
    "![fig21_2](../images/fig21_2.png)\n",
    "\n",
    "- `object`는 `type`의 인스턴스이고, `type`은 `object`의 서브클래스이다.\n",
    "- `type`은 `type` 그 자체의 인스턴스이다.\n",
    "- 모든 클래스는 `type`의 인스턴스이지만, 모든 메타클래스는 또한 `type`의 서브클래스이기 때문에 class factory의 역할을 할 수 있다.\n",
    "- 메타클래스는 `__init__`을 구현함으로 인스턴스를 커스터마이징 할 수 있다. `__init__` 메소드는 클래스 데커레이터가 하는 모든 것을 할 수 있지만 더 효과가 크다. \n",
    "\n",
    "`The Metaclass Evaluation Time Exercise`를 보자!"
   ]
  },
  {
   "cell_type": "markdown",
   "metadata": {},
   "source": [
    "## 21.5 디스크립터를 커스터마이즈하기 위한 메타클래스\n",
    "User-level을 더 간단하게 만들어보자!"
   ]
  },
  {
   "cell_type": "code",
   "execution_count": 16,
   "metadata": {
    "collapsed": true
   },
   "outputs": [
    {
     "ename": "ModuleNotFoundError",
     "evalue": "No module named 'model_v7'",
     "output_type": "error",
     "traceback": [
      "\u001b[0;31m---------------------------------------------------------------------------\u001b[0m",
      "\u001b[0;31mModuleNotFoundError\u001b[0m                       Traceback (most recent call last)",
      "\u001b[0;32m<ipython-input-16-2e8e226eb10f>\u001b[0m in \u001b[0;36m<module>\u001b[0;34m\u001b[0m\n\u001b[1;32m      1\u001b[0m \u001b[0;31m#Example 21-14\u001b[0m\u001b[0;34m\u001b[0m\u001b[0;34m\u001b[0m\u001b[0;34m\u001b[0m\u001b[0m\n\u001b[1;32m      2\u001b[0m \u001b[0;34m\u001b[0m\u001b[0m\n\u001b[0;32m----> 3\u001b[0;31m \u001b[0;32mimport\u001b[0m \u001b[0mmodel_v7\u001b[0m \u001b[0;32mas\u001b[0m \u001b[0mmodel\u001b[0m\u001b[0;34m\u001b[0m\u001b[0;34m\u001b[0m\u001b[0m\n\u001b[0m\u001b[1;32m      4\u001b[0m \u001b[0;34m\u001b[0m\u001b[0m\n\u001b[1;32m      5\u001b[0m \u001b[0;32mclass\u001b[0m \u001b[0mLineItem\u001b[0m\u001b[0;34m(\u001b[0m\u001b[0mmodel\u001b[0m\u001b[0;34m.\u001b[0m\u001b[0mEntity\u001b[0m\u001b[0;34m)\u001b[0m\u001b[0;34m:\u001b[0m\u001b[0;34m\u001b[0m\u001b[0;34m\u001b[0m\u001b[0m\n",
      "\u001b[0;31mModuleNotFoundError\u001b[0m: No module named 'model_v7'"
     ]
    }
   ],
   "source": [
    "#Example 21-14\n",
    "\n",
    "import model_v7 as model\n",
    "\n",
    "class LineItem(model.Entity):\n",
    "    description = model.NonBlank()\n",
    "    weight = model.Quantity()\n",
    "    price = model.Quantity()\n",
    "    \n",
    "    def __init__(self, description, weight, price):\n",
    "        self.description = description\n",
    "        self.weight = weight\n",
    "        self.price = price\n",
    "    \n",
    "    def subtotal(self):\n",
    "        return self.weight * self.price"
   ]
  },
  {
   "cell_type": "code",
   "execution_count": 24,
   "metadata": {
    "collapsed": true
   },
   "outputs": [
    {
     "ename": "NameError",
     "evalue": "name 'Validated' is not defined",
     "output_type": "error",
     "traceback": [
      "\u001b[0;31m---------------------------------------------------------------------------\u001b[0m",
      "\u001b[0;31mNameError\u001b[0m                                 Traceback (most recent call last)",
      "\u001b[0;32m<ipython-input-24-4962d08960fe>\u001b[0m in \u001b[0;36m<module>\u001b[0;34m\u001b[0m\n\u001b[1;32m      9\u001b[0m                 \u001b[0mattr\u001b[0m\u001b[0;34m.\u001b[0m\u001b[0mstorage_name\u001b[0m \u001b[0;34m=\u001b[0m \u001b[0;34m'_{}#{}'\u001b[0m\u001b[0;34m.\u001b[0m\u001b[0mformat\u001b[0m\u001b[0;34m(\u001b[0m\u001b[0mtype_name\u001b[0m\u001b[0;34m,\u001b[0m \u001b[0mkey\u001b[0m\u001b[0;34m)\u001b[0m\u001b[0;34m\u001b[0m\u001b[0;34m\u001b[0m\u001b[0m\n\u001b[1;32m     10\u001b[0m \u001b[0;34m\u001b[0m\u001b[0m\n\u001b[0;32m---> 11\u001b[0;31m \u001b[0;32mclass\u001b[0m \u001b[0mEntity\u001b[0m\u001b[0;34m(\u001b[0m\u001b[0mmetaclass\u001b[0m\u001b[0;34m=\u001b[0m\u001b[0mEntityMeta\u001b[0m\u001b[0;34m)\u001b[0m\u001b[0;34m:\u001b[0m\u001b[0;34m\u001b[0m\u001b[0;34m\u001b[0m\u001b[0m\n\u001b[0m\u001b[1;32m     12\u001b[0m     \u001b[0;34m\"\"\"Business entity with validated fields\"\"\"\u001b[0m\u001b[0;34m\u001b[0m\u001b[0;34m\u001b[0m\u001b[0m\n",
      "\u001b[0;32m<ipython-input-24-4962d08960fe>\u001b[0m in \u001b[0;36m__init__\u001b[0;34m(cls, name, bases, attr_dict)\u001b[0m\n\u001b[1;32m      5\u001b[0m         \u001b[0msuper\u001b[0m\u001b[0;34m(\u001b[0m\u001b[0;34m)\u001b[0m\u001b[0;34m.\u001b[0m\u001b[0m__init__\u001b[0m\u001b[0;34m(\u001b[0m\u001b[0mname\u001b[0m\u001b[0;34m,\u001b[0m \u001b[0mbases\u001b[0m\u001b[0;34m,\u001b[0m \u001b[0mattr_dict\u001b[0m\u001b[0;34m)\u001b[0m\u001b[0;34m\u001b[0m\u001b[0;34m\u001b[0m\u001b[0m\n\u001b[1;32m      6\u001b[0m         \u001b[0;32mfor\u001b[0m \u001b[0mkey\u001b[0m\u001b[0;34m,\u001b[0m \u001b[0mattr\u001b[0m \u001b[0;32min\u001b[0m \u001b[0mattr_dict\u001b[0m\u001b[0;34m.\u001b[0m\u001b[0mitems\u001b[0m\u001b[0;34m(\u001b[0m\u001b[0;34m)\u001b[0m\u001b[0;34m:\u001b[0m\u001b[0;34m\u001b[0m\u001b[0;34m\u001b[0m\u001b[0m\n\u001b[0;32m----> 7\u001b[0;31m             \u001b[0;32mif\u001b[0m \u001b[0misinstance\u001b[0m\u001b[0;34m(\u001b[0m\u001b[0mattr\u001b[0m\u001b[0;34m,\u001b[0m \u001b[0mValidated\u001b[0m\u001b[0;34m)\u001b[0m\u001b[0;34m:\u001b[0m\u001b[0;34m\u001b[0m\u001b[0;34m\u001b[0m\u001b[0m\n\u001b[0m\u001b[1;32m      8\u001b[0m                 \u001b[0mtype_name\u001b[0m \u001b[0;34m=\u001b[0m \u001b[0mtype\u001b[0m\u001b[0;34m(\u001b[0m\u001b[0mattr\u001b[0m\u001b[0;34m)\u001b[0m\u001b[0;34m.\u001b[0m\u001b[0m__name__\u001b[0m\u001b[0;34m\u001b[0m\u001b[0;34m\u001b[0m\u001b[0m\n\u001b[1;32m      9\u001b[0m                 \u001b[0mattr\u001b[0m\u001b[0;34m.\u001b[0m\u001b[0mstorage_name\u001b[0m \u001b[0;34m=\u001b[0m \u001b[0;34m'_{}#{}'\u001b[0m\u001b[0;34m.\u001b[0m\u001b[0mformat\u001b[0m\u001b[0;34m(\u001b[0m\u001b[0mtype_name\u001b[0m\u001b[0;34m,\u001b[0m \u001b[0mkey\u001b[0m\u001b[0;34m)\u001b[0m\u001b[0;34m\u001b[0m\u001b[0;34m\u001b[0m\u001b[0m\n",
      "\u001b[0;31mNameError\u001b[0m: name 'Validated' is not defined"
     ]
    }
   ],
   "source": [
    "class EntityMeta(type):\n",
    "    \"\"\"Metaclass for business entities with validated fields\"\"\"\n",
    "    \n",
    "    def __init__(cls, name, bases, attr_dict):\n",
    "        super().__init__(name, bases, attr_dict)\n",
    "        for key, attr in attr_dict.items():\n",
    "            if isinstance(attr, Validated):\n",
    "                type_name = type(attr).__name__\n",
    "                attr.storage_name = '_{}#{}'.format(type_name, key)\n",
    "                \n",
    "class Entity(metaclass=EntityMeta):\n",
    "    \"\"\"Business entity with validated fields\"\"\""
   ]
  },
  {
   "cell_type": "markdown",
   "metadata": {},
   "source": [
    "![fig21_4](../images/fig21_4.png)\n",
    "디스크립터(weight, price)의 설정은 `EntityMeta.__init__`에 의해서 실행된다."
   ]
  },
  {
   "cell_type": "markdown",
   "metadata": {},
   "source": [
    "## 21.6 메타클래스 \\__prepare\\__() 특별 메서드\n",
    "기본적으로 이름-속성 매핑은 `dict`을 사용하기 때문에 순서 정보가 손실. `__prepare()__` 특별 메서드를 사용!"
   ]
  },
  {
   "cell_type": "code",
   "execution_count": 25,
   "metadata": {
    "collapsed": true
   },
   "outputs": [
    {
     "ename": "NameError",
     "evalue": "name 'Validated' is not defined",
     "output_type": "error",
     "traceback": [
      "\u001b[0;31m---------------------------------------------------------------------------\u001b[0m",
      "\u001b[0;31mNameError\u001b[0m                                 Traceback (most recent call last)",
      "\u001b[0;32m<ipython-input-25-63ef5ee9df82>\u001b[0m in \u001b[0;36m<module>\u001b[0;34m\u001b[0m\n\u001b[1;32m     23\u001b[0m \u001b[0;34m\u001b[0m\u001b[0m\n\u001b[1;32m     24\u001b[0m \u001b[0;34m\u001b[0m\u001b[0m\n\u001b[0;32m---> 25\u001b[0;31m \u001b[0;32mclass\u001b[0m \u001b[0mEntity\u001b[0m\u001b[0;34m(\u001b[0m\u001b[0mmetaclass\u001b[0m\u001b[0;34m=\u001b[0m\u001b[0mEntityMeta\u001b[0m\u001b[0;34m)\u001b[0m\u001b[0;34m:\u001b[0m\u001b[0;34m\u001b[0m\u001b[0;34m\u001b[0m\u001b[0m\n\u001b[0m\u001b[1;32m     26\u001b[0m     \u001b[0;34m\"\"\"Business entity with validated fields\"\"\"\u001b[0m\u001b[0;34m\u001b[0m\u001b[0;34m\u001b[0m\u001b[0m\n\u001b[1;32m     27\u001b[0m \u001b[0;34m\u001b[0m\u001b[0m\n",
      "\u001b[0;32m<ipython-input-25-63ef5ee9df82>\u001b[0m in \u001b[0;36m__init__\u001b[0;34m(cls, name, bases, attr_dict)\u001b[0m\n\u001b[1;32m     17\u001b[0m             \u001b[0;31m#attr_dict은 __init__을 실행하기 전에 실행한 __prepare__에서 받아온\u001b[0m\u001b[0;34m\u001b[0m\u001b[0;34m\u001b[0m\u001b[0;34m\u001b[0m\u001b[0m\n\u001b[1;32m     18\u001b[0m             \u001b[0;31m#OrderedDict임. 따라서 추가된 순서대로 속성을 검토함.\u001b[0m\u001b[0;34m\u001b[0m\u001b[0;34m\u001b[0m\u001b[0;34m\u001b[0m\u001b[0m\n\u001b[0;32m---> 19\u001b[0;31m             \u001b[0;32mif\u001b[0m \u001b[0misinstance\u001b[0m\u001b[0;34m(\u001b[0m\u001b[0mattr\u001b[0m\u001b[0;34m,\u001b[0m \u001b[0mValidated\u001b[0m\u001b[0;34m)\u001b[0m\u001b[0;34m:\u001b[0m\u001b[0;34m\u001b[0m\u001b[0;34m\u001b[0m\u001b[0m\n\u001b[0m\u001b[1;32m     20\u001b[0m                 \u001b[0mtype_name\u001b[0m \u001b[0;34m=\u001b[0m \u001b[0mtype\u001b[0m\u001b[0;34m(\u001b[0m\u001b[0mattr\u001b[0m\u001b[0;34m)\u001b[0m\u001b[0;34m.\u001b[0m\u001b[0m__name__\u001b[0m\u001b[0;34m\u001b[0m\u001b[0;34m\u001b[0m\u001b[0m\n\u001b[1;32m     21\u001b[0m                 \u001b[0mattr\u001b[0m\u001b[0;34m.\u001b[0m\u001b[0mstorage_name\u001b[0m \u001b[0;34m=\u001b[0m \u001b[0;34m'_{}#{}'\u001b[0m\u001b[0;34m.\u001b[0m\u001b[0mformat\u001b[0m\u001b[0;34m(\u001b[0m\u001b[0mtype_name\u001b[0m\u001b[0;34m,\u001b[0m \u001b[0mkey\u001b[0m\u001b[0;34m)\u001b[0m\u001b[0;34m\u001b[0m\u001b[0;34m\u001b[0m\u001b[0m\n",
      "\u001b[0;31mNameError\u001b[0m: name 'Validated' is not defined"
     ]
    }
   ],
   "source": [
    "#Example 21-16\n",
    "\n",
    "import collections\n",
    "\n",
    "class EntityMeta(type):\n",
    "    \"\"\"Metaclass for business entities with validated fields\"\"\"\n",
    "    \n",
    "    @classmethod\n",
    "    def __prepare__(cls, name, bases):\n",
    "        return collections.OrderedDict() \n",
    "        #class 속성이 저장될 빈 OrderedDict\n",
    "    \n",
    "    def __init__(cls, name, bases, attr_dict):\n",
    "        super().__init__(name, bases, attr_dict)\n",
    "        cls._field_names = []\n",
    "        for key, attr in attr_dict.items():\n",
    "            #attr_dict은 __init__을 실행하기 전에 실행한 __prepare__에서 받아온\n",
    "            #OrderedDict임. 따라서 추가된 순서대로 속성을 검토함.\n",
    "            if isinstance(attr, Validated):\n",
    "                type_name = type(attr).__name__\n",
    "                attr.storage_name = '_{}#{}'.format(type_name, key)\n",
    "                cls._field_names.append(key)\n",
    "             \n",
    "            \n",
    "class Entity(metaclass=EntityMeta):\n",
    "    \"\"\"Business entity with validated fields\"\"\"\n",
    "    \n",
    "    @classmethod\n",
    "    def field_names(cls):\n",
    "        for name in cls._field_names:\n",
    "            yield name"
   ]
  },
  {
   "cell_type": "markdown",
   "metadata": {},
   "source": [
    "## 21.7 객체로서의 클래스\n",
    "모든 클래스는 파이썬 데이터 모델에 정의된 많은 속성들이 있다. 지금까지 봤던 것들은 `__mro__`, `__class__`, `__name__`이 있고 다른 속성들도 알아보자.\n",
    "### cls.\\_\\_bases\\_\\_\n",
    "클래스의 베이스 클래스들의 튜플\n",
    "\n",
    "### cls.\\_\\_qualname\\_\\_\n",
    "모듈의 전역 범위에서 클래스 정의까지의 점선 경로(dotted path)인 클래스 또는 함수의 정규화 된 이름을 포함하는 Python 3.3의 새 속성. 예를 들어, 예제 21-6에서 inner class 'ClassTwo'의 `__qualname__`은 'ClassOne.ClassTwo'이고, `__name__`은 'ClassTwo'이다.\n",
    "\n",
    "### cls.\\__subclasses\\__()\n",
    "클래스의 직속 서브클래스들을 리스트로 반환하는 메소드. 순환 참조를 막기 위해 약한 참조를 사용하고 현재 메모리에 있는 서브클래스들의 목록을 반환한다.\n",
    "\n",
    "### cls.mro()\n",
    "인터프리터는 클래스의 \\_\\_mro\\_\\_ 속성에 저장된 슈퍼 클래스의 튜플을 얻기 위해 클래스를 빌드할 때 사용한다."
   ]
  },
  {
   "cell_type": "markdown",
   "metadata": {},
   "source": [
    "## 21.8 Reference\n",
    "[핵심만 간단히, Hello world 파이썬 3!](https://wikidocs.net/21056)  \n",
    "[알파해커 블로그](https://alphahackerhan.tistory.com/34)"
   ]
  },
  {
   "cell_type": "code",
   "execution_count": null,
   "metadata": {},
   "outputs": [],
   "source": []
  }
 ],
 "metadata": {
  "kernelspec": {
   "display_name": "Python 3",
   "language": "python",
   "name": "python3"
  },
  "language_info": {
   "codemirror_mode": {
    "name": "ipython",
    "version": 3
   },
   "file_extension": ".py",
   "mimetype": "text/x-python",
   "name": "python",
   "nbconvert_exporter": "python",
   "pygments_lexer": "ipython3",
   "version": "3.6.9"
  }
 },
 "nbformat": 4,
 "nbformat_minor": 4
}
