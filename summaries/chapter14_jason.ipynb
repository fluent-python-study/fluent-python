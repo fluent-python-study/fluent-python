{
 "cells": [
  {
   "cell_type": "markdown",
   "metadata": {},
   "source": [
    "# Part 4: Control Flow\n",
    "# 14. 반복할 수 있는 객체, 반복자, 제너레이터"
   ]
  },
  {
   "cell_type": "markdown",
   "metadata": {},
   "source": [
    "## Index\n",
    "- 14.1 Sentence 버전 #1: 단어 시퀀스\n",
    "- 14.2 반복형과 반복자\n",
    "- 14.3 Sentence 버전 #2: 고전적인 반복자\n",
    "- 14.4 Sentence 버전 #3: 제너레이터 함수\n",
    "- 14.5 Sentence 버전 #4: 느긋한 구현\n",
    "- 14.6 Sentence 버전 #5: 제너레이터 표현식\n",
    "- 14.7 제너레이터 표현식 : 언제 사용하나?\n",
    "- 14.8 또 다른 예제 : 등차수열 제너레이터\n",
    "- 14.9 표준 라이브러리의 제너레이터 함수\n",
    "- 14.10 파이썬 3.3의 새로운 구문 : yield from\n",
    "- 14.11 반복형을 리듀스하는 함수\n",
    "- 14.12 iter() 함수 들여다보기\n",
    "- 14.13 사례 연구 : 데이터베이스 변환 유틸리티 안의 제너레이터\n",
    "- 14.14 코루틴으로서의 제너레이터\n",
    "- 14.15 요약"
   ]
  },
  {
   "cell_type": "markdown",
   "metadata": {},
   "source": [
    "## 14.1 Sentence 버전 #1: 단어 시퀀스\n",
    "`Sentence` 객체는 입력 받은 텍스트를 단어 단위로 반복하는 객체. 시작은 `Sequence`를 이용하여! `Sequence`는 iterable하니까!"
   ]
  },
  {
   "cell_type": "code",
   "execution_count": 1,
   "metadata": {},
   "outputs": [],
   "source": [
    "#Example 14-1\n",
    "import re\n",
    "import reprlib\n",
    "\n",
    "RE_WORD = re.compile('\\w+')\n",
    "\n",
    "class Sentence:\n",
    "    \n",
    "    def __init__(self, text):\n",
    "        self.text = text\n",
    "        self.words = RE_WORD.findall(text)\n",
    "        \n",
    "    def __getitem__(self, index):\n",
    "        return self.words[index]\n",
    "    \n",
    "    def __len__(self):\n",
    "        return len(self.words)\n",
    "    \n",
    "    def __repr__(self):\n",
    "        return 'Sentence(%s)' % reprlib.repr(self.text)"
   ]
  },
  {
   "cell_type": "code",
   "execution_count": 2,
   "metadata": {},
   "outputs": [
    {
     "data": {
      "text/plain": [
       "Sentence('\"The time ha... Walrus said,')"
      ]
     },
     "execution_count": 2,
     "metadata": {},
     "output_type": "execute_result"
    }
   ],
   "source": [
    "#Example 14-2\n",
    "s = Sentence('\"The time has come,\" the Walrus said,')\n",
    "s"
   ]
  },
  {
   "cell_type": "code",
   "execution_count": 3,
   "metadata": {},
   "outputs": [
    {
     "name": "stdout",
     "output_type": "stream",
     "text": [
      "The\n",
      "time\n",
      "has\n",
      "come\n",
      "the\n",
      "Walrus\n",
      "said\n"
     ]
    }
   ],
   "source": [
    "for word in s:\n",
    "    print(word)"
   ]
  },
  {
   "cell_type": "code",
   "execution_count": 4,
   "metadata": {},
   "outputs": [
    {
     "data": {
      "text/plain": [
       "['The', 'time', 'has', 'come', 'the', 'Walrus', 'said']"
      ]
     },
     "execution_count": 4,
     "metadata": {},
     "output_type": "execute_result"
    }
   ],
   "source": [
    "list(s)"
   ]
  },
  {
   "cell_type": "markdown",
   "metadata": {},
   "source": [
    "왜 `Sequence`는 iterable일까? 인터프리터가 객체 x를 반복하면 `iter(x)`를 자동으로 호출한다. `iter` 내장 함수는:  \n",
    "1. 객체가 `__iter__`를 구현했는지 확인하고 반복자를 얻기 위해 호출한다.\n",
    "2. `__iter__`가 구현 되어있지 않고, `__getitem__`이 구현되어 있으면, 인덱스 0부터 순차적으로 아이템을 가져오는 방식으로 반복자를 만들어낸다.\n",
    "3. 만약 실패하면, 파이썬은 `TypeError`를 발생하고 대체로 \"C object is not iterable,\"이라고 말한다.\n",
    "\n",
    "이게 `Sequence`가 iterable인 이유. `__getitem__`을 가지고 있고 표준 시퀀스는 `__iter__`까지 구현되어 있음. 이것은 duck typing의 극한의 형태. 이걸 goose typing의 관점에서 보면 심플하지만 유연하지 않음. 단순히 `__iter__`이 구현되어 있으면 `iterable`이라고 하면 되기 때문. 서브클래싱이나 등록은 필요하지 않음. `abc.Iterable`에 `__subclasshook__`이 이미 구현되어 있기 때문."
   ]
  },
  {
   "cell_type": "code",
   "execution_count": 5,
   "metadata": {},
   "outputs": [
    {
     "data": {
      "text/plain": [
       "True"
      ]
     },
     "execution_count": 5,
     "metadata": {},
     "output_type": "execute_result"
    }
   ],
   "source": [
    "class Foo:\n",
    "    def __iter__(self):\n",
    "        pass\n",
    "    \n",
    "from collections import abc\n",
    "issubclass(Foo, abc.Iterable)"
   ]
  },
  {
   "cell_type": "code",
   "execution_count": 6,
   "metadata": {},
   "outputs": [
    {
     "data": {
      "text/plain": [
       "True"
      ]
     },
     "execution_count": 6,
     "metadata": {},
     "output_type": "execute_result"
    }
   ],
   "source": [
    "f = Foo()\n",
    "isinstance(f, abc.Iterable)"
   ]
  },
  {
   "cell_type": "markdown",
   "metadata": {},
   "source": [
    "보면 정상적으로 서브클래스, 인스턴스로 인식하는 것을 볼 수 있다. 하지만 #14-1은?"
   ]
  },
  {
   "cell_type": "code",
   "execution_count": 7,
   "metadata": {},
   "outputs": [
    {
     "data": {
      "text/plain": [
       "False"
      ]
     },
     "execution_count": 7,
     "metadata": {},
     "output_type": "execute_result"
    }
   ],
   "source": [
    "issubclass(Sentence, abc.Iterable)"
   ]
  },
  {
   "cell_type": "markdown",
   "metadata": {},
   "source": [
    "### 응 안돼"
   ]
  },
  {
   "cell_type": "markdown",
   "metadata": {},
   "source": [
    "객체가 iterable인지 명시적으로 확인하고 바로 객체를 iterate하면 의미가 없다. 왜냐하면 어짜피 `TypeError`가 발생하기 때문! 명시적으로 체크하기보다 `TypeError`를 `try/except`로 처리하는게 나을 수도 있다. 나중에 iteration을 하고 싶은 거면 미리 오류를 잡는 거기 때문에 명시적으로 확인하는게 의미가 있다."
   ]
  },
  {
   "cell_type": "markdown",
   "metadata": {},
   "source": [
    "## 14.2 반복형과 반복자\n",
    "파이썬은 iterable에서 iterator를 얻는다."
   ]
  },
  {
   "cell_type": "code",
   "execution_count": 8,
   "metadata": {},
   "outputs": [
    {
     "name": "stdout",
     "output_type": "stream",
     "text": [
      "A\n",
      "B\n",
      "C\n"
     ]
    }
   ],
   "source": [
    "s = 'ABC'\n",
    "it = iter(s)\n",
    "while True:\n",
    "    try:\n",
    "        print(next(it)) #next available item\n",
    "    except StopIteration: # signal that the iterator is exhausted\n",
    "        del it\n",
    "        break"
   ]
  },
  {
   "cell_type": "markdown",
   "metadata": {},
   "source": [
    "![fig14-1](../images/fig_14-1.png)"
   ]
  },
  {
   "cell_type": "code",
   "execution_count": 9,
   "metadata": {},
   "outputs": [],
   "source": [
    "#Example 14-3\n",
    "from abc import *\n",
    "\n",
    "class Iterator(abc.Iterable):\n",
    "    \n",
    "    __slots__ = ()\n",
    "    \n",
    "    @abstractmethod\n",
    "    def __next__(self):\n",
    "        'Return the next item from the iterator. When exhausted, raise StopIteration'\n",
    "        raise StopIteration\n",
    "        \n",
    "    def __iter__(self):\n",
    "        return self\n",
    "    \n",
    "    @classmethod\n",
    "    def __subclasshook__(cls, C):\n",
    "        if cls is Iterator:\n",
    "            if (any(\"__next__\" in B.__dict__ for B in C.__mro__) and\n",
    "                any(\"__iter__\" in B.__dict__ for B in C.__mro__)):\n",
    "                return true\n",
    "        return NotImplemented"
   ]
  },
  {
   "cell_type": "code",
   "execution_count": 10,
   "metadata": {},
   "outputs": [
    {
     "data": {
      "text/plain": [
       "'Pig'"
      ]
     },
     "execution_count": 10,
     "metadata": {},
     "output_type": "execute_result"
    }
   ],
   "source": [
    "s3 = Sentence('Pig and Pepper')\n",
    "it = iter(s3)\n",
    "next(it)"
   ]
  },
  {
   "cell_type": "code",
   "execution_count": 11,
   "metadata": {},
   "outputs": [
    {
     "data": {
      "text/plain": [
       "'and'"
      ]
     },
     "execution_count": 11,
     "metadata": {},
     "output_type": "execute_result"
    }
   ],
   "source": [
    "next(it)"
   ]
  },
  {
   "cell_type": "code",
   "execution_count": 12,
   "metadata": {},
   "outputs": [
    {
     "data": {
      "text/plain": [
       "'Pepper'"
      ]
     },
     "execution_count": 12,
     "metadata": {},
     "output_type": "execute_result"
    }
   ],
   "source": [
    "next(it)"
   ]
  },
  {
   "cell_type": "code",
   "execution_count": 13,
   "metadata": {},
   "outputs": [
    {
     "ename": "StopIteration",
     "evalue": "",
     "output_type": "error",
     "traceback": [
      "\u001b[0;31m---------------------------------------------------------------------------\u001b[0m",
      "\u001b[0;31mStopIteration\u001b[0m                             Traceback (most recent call last)",
      "\u001b[0;32m<ipython-input-13-bc1ab118995a>\u001b[0m in \u001b[0;36m<module>\u001b[0;34m\u001b[0m\n\u001b[0;32m----> 1\u001b[0;31m \u001b[0mnext\u001b[0m\u001b[0;34m(\u001b[0m\u001b[0mit\u001b[0m\u001b[0;34m)\u001b[0m\u001b[0;34m\u001b[0m\u001b[0;34m\u001b[0m\u001b[0m\n\u001b[0m",
      "\u001b[0;31mStopIteration\u001b[0m: "
     ]
    }
   ],
   "source": [
    "next(it)"
   ]
  },
  {
   "cell_type": "markdown",
   "metadata": {},
   "source": [
    "`iterator`는 `__next__`와 `__iter__`만 요구하기 때문에 `next()`를 돌려보면서 `StopIteration`이 나올 때까지 보는 것밖에 아이템이 남았는지 확인할 수 있는 방법이 없다. 그리고 빠꾸도 없기 때문에 다시 시작하려면 `iter()`에 `iterable`을 넣어서 `iterator`를 만들어야 함."
   ]
  },
  {
   "cell_type": "markdown",
   "metadata": {},
   "source": [
    "## 14.3 Sentence 버전 #2: 고전적인 반복자"
   ]
  },
  {
   "cell_type": "code",
   "execution_count": 14,
   "metadata": {},
   "outputs": [],
   "source": [
    "#Example 14-4\n",
    "import re\n",
    "import reprlib\n",
    "\n",
    "RE_WORD = re.compile('\\w+')\n",
    "\n",
    "class Sentence:\n",
    "    \n",
    "    def __init__(self, text):\n",
    "        self.text = text\n",
    "        self.words = RE_WORD.findall(text)\n",
    "    \n",
    "    def __repr__(self):\n",
    "        return 'Sentence(%s)' % reprlib.repr(self.text)\n",
    "\n",
    "    def __iter__(self):\n",
    "        return SentenIterator(self.words)\n",
    "    \n",
    "\n",
    "class SentenceIterator:\n",
    "\n",
    "    def __init__(self, words):\n",
    "        self.words = words\n",
    "        self.index = 0\n",
    "        \n",
    "    def __next__(self):\n",
    "        try:\n",
    "            word = self.words[self.index]\n",
    "        except IndexError:\n",
    "            raise StopIteration()\n",
    "        self.index += 1\n",
    "        return word\n",
    "    \n",
    "    def __iter__(self):\n",
    "        return self"
   ]
  },
  {
   "cell_type": "code",
   "execution_count": 15,
   "metadata": {},
   "outputs": [
    {
     "data": {
      "text/plain": [
       "True"
      ]
     },
     "execution_count": 15,
     "metadata": {},
     "output_type": "execute_result"
    }
   ],
   "source": [
    "issubclass(SentenceIterator, abc.Iterator)"
   ]
  },
  {
   "cell_type": "markdown",
   "metadata": {},
   "source": [
    "정리를 해보자!  \n",
    "`iterable` : 매번 새로운 `iterator`를 객체화하는 `__iter__` 함수를 가짐<br>\n",
    "`iterator` : 각각의 아이템을 반환하기 위한 `__next__`, 자기 자신을 반환하는 `__iter__` 메소드를 가짐.  \n",
    "\n",
    "<blockquote>iterator는 iterable이지만 iterable은 iterator가 아니다.</blockquote>\n",
    "\n",
    "`Sentence`에 `__next__`를 구현해보면 어떨까? 각각의 `Sentence` 인스턴스가 동시에 `iterable`이고 자신을 순환하는 `iterator`가 될까? 안된다!  \n",
    "다중 순회를 지원하기 위해서는 `iter(my_iterable)`이 호출될 때 새롭고 독립적인 `iterator`를 만들어내야 한다. "
   ]
  },
  {
   "cell_type": "markdown",
   "metadata": {},
   "source": [
    "## 14.4 Sentence 버전 #3: 제너레이터 함수\n",
    "`SentenceIterator`를 제너레이터로 대체해보자. "
   ]
  },
  {
   "cell_type": "code",
   "execution_count": 16,
   "metadata": {},
   "outputs": [],
   "source": [
    "#Example 14-5\n",
    "import re\n",
    "import reprlib\n",
    "\n",
    "RE_WORD = re.compile('\\w+')\n",
    "\n",
    "class Sentence:\n",
    "    def __init__(self, text):\n",
    "        self.text = text\n",
    "        self.words = RE_WORD.findall(text)\n",
    "        \n",
    "    def __repr__(self):\n",
    "        return 'Sentence(%s)' % reprlib.repr(self.text)\n",
    "    \n",
    "    def __iter__(self):\n",
    "        for word in self.words:\n",
    "            yield word\n",
    "        return"
   ]
  },
  {
   "cell_type": "code",
   "execution_count": 17,
   "metadata": {},
   "outputs": [
    {
     "data": {
      "text/plain": [
       "True"
      ]
     },
     "execution_count": 17,
     "metadata": {},
     "output_type": "execute_result"
    }
   ],
   "source": [
    "issubclass(Sentence, abc.Iterable)"
   ]
  },
  {
   "cell_type": "markdown",
   "metadata": {},
   "source": [
    "### Generator는 어떻게 작동할까?\n",
    "일단 `yield`를 사용하면 generator이다. 호출되면 generator 객체를 반환한다. "
   ]
  },
  {
   "cell_type": "code",
   "execution_count": 18,
   "metadata": {},
   "outputs": [
    {
     "data": {
      "text/plain": [
       "<function __main__.gen_123()>"
      ]
     },
     "execution_count": 18,
     "metadata": {},
     "output_type": "execute_result"
    }
   ],
   "source": [
    "def gen_123():\n",
    "    yield 1\n",
    "    yield 2\n",
    "    yield 3\n",
    "gen_123"
   ]
  },
  {
   "cell_type": "code",
   "execution_count": 19,
   "metadata": {},
   "outputs": [
    {
     "data": {
      "text/plain": [
       "<generator object gen_123 at 0x7f24c0b9ffc0>"
      ]
     },
     "execution_count": 19,
     "metadata": {},
     "output_type": "execute_result"
    }
   ],
   "source": [
    "gen_123()"
   ]
  },
  {
   "cell_type": "code",
   "execution_count": 20,
   "metadata": {},
   "outputs": [
    {
     "name": "stdout",
     "output_type": "stream",
     "text": [
      "1\n",
      "2\n",
      "3\n"
     ]
    }
   ],
   "source": [
    "for i in gen_123():\n",
    "    print(i)"
   ]
  },
  {
   "cell_type": "code",
   "execution_count": 21,
   "metadata": {},
   "outputs": [
    {
     "data": {
      "text/plain": [
       "1"
      ]
     },
     "execution_count": 21,
     "metadata": {},
     "output_type": "execute_result"
    }
   ],
   "source": [
    "g = gen_123()\n",
    "next(g)"
   ]
  },
  {
   "cell_type": "code",
   "execution_count": 22,
   "metadata": {},
   "outputs": [
    {
     "data": {
      "text/plain": [
       "2"
      ]
     },
     "execution_count": 22,
     "metadata": {},
     "output_type": "execute_result"
    }
   ],
   "source": [
    "next(g)"
   ]
  },
  {
   "cell_type": "code",
   "execution_count": 23,
   "metadata": {},
   "outputs": [
    {
     "data": {
      "text/plain": [
       "3"
      ]
     },
     "execution_count": 23,
     "metadata": {},
     "output_type": "execute_result"
    }
   ],
   "source": [
    "next(g)"
   ]
  },
  {
   "cell_type": "code",
   "execution_count": 24,
   "metadata": {},
   "outputs": [
    {
     "ename": "StopIteration",
     "evalue": "",
     "output_type": "error",
     "traceback": [
      "\u001b[0;31m---------------------------------------------------------------------------\u001b[0m",
      "\u001b[0;31mStopIteration\u001b[0m                             Traceback (most recent call last)",
      "\u001b[0;32m<ipython-input-24-e734f8aca5ac>\u001b[0m in \u001b[0;36m<module>\u001b[0;34m\u001b[0m\n\u001b[0;32m----> 1\u001b[0;31m \u001b[0mnext\u001b[0m\u001b[0;34m(\u001b[0m\u001b[0mg\u001b[0m\u001b[0;34m)\u001b[0m\u001b[0;34m\u001b[0m\u001b[0;34m\u001b[0m\u001b[0m\n\u001b[0m",
      "\u001b[0;31mStopIteration\u001b[0m: "
     ]
    }
   ],
   "source": [
    "next(g)"
   ]
  },
  {
   "cell_type": "markdown",
   "metadata": {},
   "source": [
    "A generator function builds a generator object that wraps the body of the function. When we invoke next(…) on the generator object, execution advances to the next yield in the function body, and the next(…) call evaluates to the value yielded when the function body is suspended. Finally, when the function body returns, the enclosing generator object raises StopIteration, in accordance with the Iterator protocol."
   ]
  },
  {
   "cell_type": "code",
   "execution_count": 25,
   "metadata": {},
   "outputs": [],
   "source": [
    "def gen_AB():\n",
    "    print('start')\n",
    "    yield 'A'\n",
    "    print('continue')\n",
    "    yield 'B'\n",
    "    print('end.')\n",
    "    \n",
    "g = iter(gen_AB())"
   ]
  },
  {
   "cell_type": "code",
   "execution_count": 26,
   "metadata": {},
   "outputs": [
    {
     "name": "stdout",
     "output_type": "stream",
     "text": [
      "start\n",
      "continue\n",
      "end.\n"
     ]
    }
   ],
   "source": [
    "test = []\n",
    "for i in g:\n",
    "    test.append(i)"
   ]
  },
  {
   "cell_type": "code",
   "execution_count": 27,
   "metadata": {},
   "outputs": [
    {
     "data": {
      "text/plain": [
       "['A', 'B']"
      ]
     },
     "execution_count": 27,
     "metadata": {},
     "output_type": "execute_result"
    }
   ],
   "source": [
    "test"
   ]
  },
  {
   "cell_type": "markdown",
   "metadata": {},
   "source": [
    "## 14.5 Sentence 버전 #4: 느긋한 구현\n",
    "lazy의 좋은 점: 메모리를 아낄 수 있다. 고작 몇 개 iterate 하자고 전체 사이즈의 list를 만들어내고 시작하는 것은 낭비다. `re.findall` -> `re.finditer`로 바꾸면 메모리를 아낄 수 있다!"
   ]
  },
  {
   "cell_type": "code",
   "execution_count": 28,
   "metadata": {},
   "outputs": [],
   "source": [
    "#Example 14-7\n",
    "import re\n",
    "import reprlib\n",
    "\n",
    "RE_WORD = re.compile('\\w+')\n",
    "\n",
    "\n",
    "class Sentence:\n",
    "    \n",
    "    def __init__(self, next):\n",
    "        self.text = text\n",
    "        \n",
    "    def __repr__(self):\n",
    "        return 'Sentence(%s)' % reprlib.repr(self.text)\n",
    "    \n",
    "    def __iter__(self):\n",
    "        for match in RE_WORD.finditer(self.text):\n",
    "            yield match.group()"
   ]
  },
  {
   "cell_type": "markdown",
   "metadata": {},
   "source": [
    "## 14.6 Sentence 버전 #5: 제너레이터 표현식\n",
    "제너레이터 표현식을 사용하면 더 짧게 표현할 수 있다. 제너레이터 표현식은 list comprehension의 lazy version이다. 제너레이터는 on demand로 lazy하게 아이템을 생성한다."
   ]
  },
  {
   "cell_type": "code",
   "execution_count": 29,
   "metadata": {},
   "outputs": [
    {
     "name": "stdout",
     "output_type": "stream",
     "text": [
      "start\n",
      "continue\n",
      "end.\n"
     ]
    }
   ],
   "source": [
    "#Example 14-8\n",
    "def gen_AB():\n",
    "    print('start')\n",
    "    yield 'A'\n",
    "    print('continue')\n",
    "    yield 'B'\n",
    "    print('end.')\n",
    "    \n",
    "res1 = [x*3 for x in gen_AB()]"
   ]
  },
  {
   "cell_type": "code",
   "execution_count": 30,
   "metadata": {},
   "outputs": [
    {
     "name": "stdout",
     "output_type": "stream",
     "text": [
      "--> AAA\n",
      "--> BBB\n"
     ]
    }
   ],
   "source": [
    "for i in res1:\n",
    "    print('-->', i)"
   ]
  },
  {
   "cell_type": "code",
   "execution_count": 31,
   "metadata": {},
   "outputs": [
    {
     "data": {
      "text/plain": [
       "<generator object <genexpr> at 0x7f24c0bac2b0>"
      ]
     },
     "execution_count": 31,
     "metadata": {},
     "output_type": "execute_result"
    }
   ],
   "source": [
    "res2 = (x*3 for x in gen_AB())\n",
    "#소비된 결과가 아니라 generator를 return\n",
    "res2"
   ]
  },
  {
   "cell_type": "code",
   "execution_count": 32,
   "metadata": {},
   "outputs": [
    {
     "name": "stdout",
     "output_type": "stream",
     "text": [
      "start\n",
      "--> AAA\n",
      "continue\n",
      "--> BBB\n",
      "end.\n"
     ]
    }
   ],
   "source": [
    "for i in res2: #for \n",
    "    print('-->', i)"
   ]
  },
  {
   "cell_type": "code",
   "execution_count": 33,
   "metadata": {},
   "outputs": [],
   "source": [
    "#Example 14-9\n",
    "import re\n",
    "import reprlib\n",
    "\n",
    "RE_WORD = re.compile('\\w+')\n",
    "\n",
    "class Sentence:\n",
    "    \n",
    "    def __init__(self, text):\n",
    "        self.text = text\n",
    "        \n",
    "    def __repr__(self):\n",
    "        return 'Sentence(%s)' % reprlib.repr(self.text)\n",
    "    \n",
    "    def __iter__(self):\n",
    "        return (match.group() for match in RE_WORD.finditer(self.text))"
   ]
  },
  {
   "cell_type": "markdown",
   "metadata": {},
   "source": [
    "달라진 것은 `__iter__()` 뿐이다! `yield`는 없어졌지만 결과는 동일!"
   ]
  },
  {
   "cell_type": "markdown",
   "metadata": {},
   "source": [
    "## 14.7 제너레이터 표현식 : 언제 사용하나?\n",
    "일단은 앞에서 봤던 예들을 들 수가 있다. `Vector` class 선언할 때 사용했었다. `__eq__`, `__hash__`, `__abs__`,.. 이런 것들. 함수를 따로 선언하지 않고, 구문적으로 짧게 쓸 때도 사용함.(#14.9) 하지만 제너레이터 함수가 더 유연함. 당연한 얘기! 표현식 안에는 많이 넣으면 일단 해석이 어려워지고 지저분해진다. shortcut을 사용하려고 사용한 표현식이 shortcut이 아닐 수도 있다..! 표현식은 2X 레버리지 같은 존재. 심플한 건 더 심플하게, 복잡한 건 더 복잡하게 만들어버린다고 생각하면 좋을듯! 필자는 한 줄을 넘어가면 함수로 구현한다고 한다."
   ]
  },
  {
   "cell_type": "markdown",
   "metadata": {},
   "source": [
    "## 14.8 또 다른 예제 : 등차수열 제너레이터"
   ]
  },
  {
   "cell_type": "code",
   "execution_count": 34,
   "metadata": {},
   "outputs": [],
   "source": [
    "#Example 14-11\n",
    "class ArithmeticProgression:\n",
    "    \n",
    "    def __init__(self, begin, step, end=None):\n",
    "        self.begin = begin\n",
    "        self.step = step\n",
    "        self.end = end\n",
    "        \n",
    "    def __iter__(self):\n",
    "        result = type(self.begin + self.step)(self.begin)\n",
    "        #step의 type으로 강제된 self.begin의 값을 result에 저장\n",
    "        forever = self.end is None\n",
    "        index = 0\n",
    "        while forever or result < self.end:\n",
    "            yield result\n",
    "            index += 1\n",
    "            result = self.begin + self.step * index\n",
    "            #소수점을 누적하면서 생기는 문제를 막기 위해 매번 새로 계산해줌."
   ]
  },
  {
   "cell_type": "code",
   "execution_count": 35,
   "metadata": {},
   "outputs": [
    {
     "data": {
      "text/plain": [
       "[0, 1, 2]"
      ]
     },
     "execution_count": 35,
     "metadata": {},
     "output_type": "execute_result"
    }
   ],
   "source": [
    "#Example 14-10\n",
    "ap = ArithmeticProgression(0, 1, 3)\n",
    "list(ap)"
   ]
  },
  {
   "cell_type": "code",
   "execution_count": 36,
   "metadata": {},
   "outputs": [
    {
     "data": {
      "text/plain": [
       "<__main__.ArithmeticProgression at 0x7f24c0baed30>"
      ]
     },
     "execution_count": 36,
     "metadata": {},
     "output_type": "execute_result"
    }
   ],
   "source": [
    "ap"
   ]
  },
  {
   "cell_type": "code",
   "execution_count": 37,
   "metadata": {},
   "outputs": [
    {
     "data": {
      "text/plain": [
       "[1.0, 1.5, 2.0, 2.5]"
      ]
     },
     "execution_count": 37,
     "metadata": {},
     "output_type": "execute_result"
    }
   ],
   "source": [
    "ap = ArithmeticProgression(1, .5, 3)\n",
    "list(ap)"
   ]
  },
  {
   "cell_type": "code",
   "execution_count": 38,
   "metadata": {},
   "outputs": [
    {
     "data": {
      "text/plain": [
       "[0.0, 0.3333333333333333, 0.6666666666666666]"
      ]
     },
     "execution_count": 38,
     "metadata": {},
     "output_type": "execute_result"
    }
   ],
   "source": [
    "ap = ArithmeticProgression(0, 1/3, 1)\n",
    "list(ap)"
   ]
  },
  {
   "cell_type": "code",
   "execution_count": 39,
   "metadata": {},
   "outputs": [
    {
     "data": {
      "text/plain": [
       "[Fraction(0, 1), Fraction(1, 3), Fraction(2, 3)]"
      ]
     },
     "execution_count": 39,
     "metadata": {},
     "output_type": "execute_result"
    }
   ],
   "source": [
    "from fractions import Fraction\n",
    "ap = ArithmeticProgression(0, Fraction(1, 3), 1)\n",
    "list(ap)"
   ]
  },
  {
   "cell_type": "code",
   "execution_count": 40,
   "metadata": {},
   "outputs": [
    {
     "data": {
      "text/plain": [
       "[Decimal('0'), Decimal('0.1'), Decimal('0.2')]"
      ]
     },
     "execution_count": 40,
     "metadata": {},
     "output_type": "execute_result"
    }
   ],
   "source": [
    "from decimal import Decimal\n",
    "ap = ArithmeticProgression(0, Decimal('.1'), .3)\n",
    "list(ap)"
   ]
  },
  {
   "cell_type": "code",
   "execution_count": 41,
   "metadata": {},
   "outputs": [],
   "source": [
    "#Example 14-12\n",
    "def aritprog_gen(begin, step, end=None):\n",
    "    result = type(begin + step)(begin)\n",
    "    forever = end is None\n",
    "    index = 0\n",
    "    while forever or result < end:\n",
    "        yield result\n",
    "        index += 1\n",
    "        result = begin + step * index"
   ]
  },
  {
   "cell_type": "markdown",
   "metadata": {},
   "source": [
    "자, 이제 잘 만들어 놓은 거(itertools)를 갖다 써보자.\n",
    "### Arithmetic Progression with itertools"
   ]
  },
  {
   "cell_type": "code",
   "execution_count": 42,
   "metadata": {},
   "outputs": [],
   "source": [
    "import itertools\n",
    "gen = itertools.count(1, .5)"
   ]
  },
  {
   "cell_type": "code",
   "execution_count": 43,
   "metadata": {},
   "outputs": [
    {
     "data": {
      "text/plain": [
       "(1, 1.5, 2.0)"
      ]
     },
     "execution_count": 43,
     "metadata": {},
     "output_type": "execute_result"
    }
   ],
   "source": [
    "next(gen), next(gen), next(gen)"
   ]
  },
  {
   "cell_type": "markdown",
   "metadata": {},
   "source": [
    "하지만 이건 끝이 없기 때문에\n",
    "```Python\n",
    "for i in gen:\n",
    "    print(i)\n",
    "```\n",
    "같은 걸 한다던가,\n",
    "`list(gen)` 같은 것을 해버리면, 가용 메모리보다 큰 작업을 하기 때문에 실패한다. for문은 계속 돌겠지만..?  \n",
    "그러면 이제 `itertools.takewhile`을 써보자. 다른 generator를 소비해서 조건이 `False`가 될 때까지 돌려서 generator를 생성한다."
   ]
  },
  {
   "cell_type": "code",
   "execution_count": 44,
   "metadata": {},
   "outputs": [
    {
     "data": {
      "text/plain": [
       "[1, 1.5, 2.0, 2.5]"
      ]
     },
     "execution_count": 44,
     "metadata": {},
     "output_type": "execute_result"
    }
   ],
   "source": [
    "gen = itertools.takewhile(lambda n: n<3, itertools.count(1, .5))\n",
    "list(gen)"
   ]
  },
  {
   "cell_type": "markdown",
   "metadata": {},
   "source": [
    "이걸 사용해서 Example 14-12에 적용해보자."
   ]
  },
  {
   "cell_type": "code",
   "execution_count": 45,
   "metadata": {},
   "outputs": [],
   "source": [
    "#Example 14-13\n",
    "import itertools\n",
    "\n",
    "def aritprog_gen(begin, step, end=None):\n",
    "    first = type(begin + step)(begin)\n",
    "    ap_gen = itertools.count(first, step)\n",
    "    if end is not None:\n",
    "        ap_gen = itertools.takewhile(lambda n: n < end, ap_gen)\n",
    "    return ap_gen"
   ]
  },
  {
   "cell_type": "markdown",
   "metadata": {},
   "source": [
    "또, `yield`문은 사라졌지만 여전히 generator를 return한다. 결론은, 원리를 알고 있는 걸 잘 갖다 쓰자는 말!"
   ]
  },
  {
   "cell_type": "markdown",
   "metadata": {},
   "source": [
    "## 14.9 표준 라이브러리의 제너레이터 함수\n",
    "line-by-line iteration이나, `os.walk` 같은 멋있는 함수들이 있지만 좀 더 본질적인 얘기도 들어가보자. 하이레벨의 기능면에서 함수들을 나눌 수 있다.\n",
    "\n",
    "### 1. Filtering Generator\n",
    "입력 iterable로부터 부분의 값을 변경 없이 생성한다. 위에서 봤던 `itertools.takewhile` 같은 것이 포함된다. `takewhile`처럼 여기에 속하는 대부분의 함수들이 `predicate`를 가진다. 이것은 `input`이 `output`에 포함되는지를 판단하는 일변수 boolean 함수이다.\n",
    "![table14-1](../images/table_14-1.PNG)"
   ]
  },
  {
   "cell_type": "code",
   "execution_count": 46,
   "metadata": {},
   "outputs": [],
   "source": [
    "#Example 14-14\n",
    "def vowel(c):\n",
    "    return c.lower() in 'aeiou'"
   ]
  },
  {
   "cell_type": "code",
   "execution_count": 47,
   "metadata": {},
   "outputs": [
    {
     "data": {
      "text/plain": [
       "['A', 'a', 'a']"
      ]
     },
     "execution_count": 47,
     "metadata": {},
     "output_type": "execute_result"
    }
   ],
   "source": [
    "list(filter(vowel, 'Aardvark'))\n",
    "#predicate에 맞는 것들을 return"
   ]
  },
  {
   "cell_type": "code",
   "execution_count": 48,
   "metadata": {},
   "outputs": [
    {
     "data": {
      "text/plain": [
       "['r', 'd', 'v', 'r', 'k']"
      ]
     },
     "execution_count": 48,
     "metadata": {},
     "output_type": "execute_result"
    }
   ],
   "source": [
    "import itertools\n",
    "list(itertools.filterfalse(vowel, 'Aardvark'))\n",
    "#predicate가 False인 것들을 yield"
   ]
  },
  {
   "cell_type": "code",
   "execution_count": 49,
   "metadata": {},
   "outputs": [
    {
     "data": {
      "text/plain": [
       "['r', 'd', 'v', 'a', 'r', 'k']"
      ]
     },
     "execution_count": 49,
     "metadata": {},
     "output_type": "execute_result"
    }
   ],
   "source": [
    "list(itertools.dropwhile(vowel, 'Aardvark'))"
   ]
  },
  {
   "cell_type": "code",
   "execution_count": 50,
   "metadata": {},
   "outputs": [
    {
     "data": {
      "text/plain": [
       "['z', 'A', 'a', 'r', 'd', 'v', 'a', 'r', 'k']"
      ]
     },
     "execution_count": 50,
     "metadata": {},
     "output_type": "execute_result"
    }
   ],
   "source": [
    "list(itertools.dropwhile(vowel, 'zAardvark'))\n",
    "#predicate가 True일 때까지는 skip, 나머지는 그대로 yield"
   ]
  },
  {
   "cell_type": "code",
   "execution_count": 51,
   "metadata": {},
   "outputs": [
    {
     "data": {
      "text/plain": [
       "['A', 'a']"
      ]
     },
     "execution_count": 51,
     "metadata": {},
     "output_type": "execute_result"
    }
   ],
   "source": [
    "list(itertools.takewhile(vowel, 'Aardvark'))\n",
    "#predicate가 True일 때가지만 돈다."
   ]
  },
  {
   "cell_type": "code",
   "execution_count": 52,
   "metadata": {},
   "outputs": [
    {
     "data": {
      "text/plain": [
       "['A', 'r', 'd', 'a']"
      ]
     },
     "execution_count": 52,
     "metadata": {},
     "output_type": "execute_result"
    }
   ],
   "source": [
    "list(itertools.compress('Aardvark', (1,0,1,1,0,1)))\n",
    "#selector_it이 true인 것만 yield"
   ]
  },
  {
   "cell_type": "code",
   "execution_count": 53,
   "metadata": {},
   "outputs": [
    {
     "data": {
      "text/plain": [
       "['A', 'a', 'r', 'd']"
      ]
     },
     "execution_count": 53,
     "metadata": {},
     "output_type": "execute_result"
    }
   ],
   "source": [
    "list(itertools.islice('Aardvark', 4))\n",
    "#stop까지 slice해서 yield"
   ]
  },
  {
   "cell_type": "code",
   "execution_count": 54,
   "metadata": {},
   "outputs": [
    {
     "data": {
      "text/plain": [
       "['v', 'a', 'r']"
      ]
     },
     "execution_count": 54,
     "metadata": {},
     "output_type": "execute_result"
    }
   ],
   "source": [
    "list(itertools.islice('Aardvark', 4, 7))\n",
    "#start부터 stop까지 slice해서 yield"
   ]
  },
  {
   "cell_type": "code",
   "execution_count": 55,
   "metadata": {},
   "outputs": [
    {
     "data": {
      "text/plain": [
       "['a', 'd', 'a']"
      ]
     },
     "execution_count": 55,
     "metadata": {},
     "output_type": "execute_result"
    }
   ],
   "source": [
    "list(itertools.islice('Aardvark', 1, 7, 2))\n",
    "#start, stop, step"
   ]
  },
  {
   "cell_type": "markdown",
   "metadata": {},
   "source": [
    "### 2. Mapping Generator\n",
    "각각의 개별적인 input iterable로부터 계산된 값을 yield. inputdl 하나 보다 많은 iterable일 경우, output은 첫번째 iterable이 소진되면 멈춘다.\n",
    "![table14-2](../images/table_14-2.PNG)"
   ]
  },
  {
   "cell_type": "code",
   "execution_count": 56,
   "metadata": {},
   "outputs": [
    {
     "data": {
      "text/plain": [
       "[5, 9, 11, 19, 26, 32, 35, 35, 44, 45]"
      ]
     },
     "execution_count": 56,
     "metadata": {},
     "output_type": "execute_result"
    }
   ],
   "source": [
    "#Example 14-15\n",
    "sample = [5, 4, 2, 8, 7, 6, 3, 0, 9, 1]\n",
    "import itertools\n",
    "list(itertools.accumulate(sample))\n",
    "#default sum"
   ]
  },
  {
   "cell_type": "code",
   "execution_count": 57,
   "metadata": {},
   "outputs": [
    {
     "data": {
      "text/plain": [
       "[5, 4, 2, 2, 2, 2, 2, 0, 0, 0]"
      ]
     },
     "execution_count": 57,
     "metadata": {},
     "output_type": "execute_result"
    }
   ],
   "source": [
    "list(itertools.accumulate(sample, min))\n",
    "#running min"
   ]
  },
  {
   "cell_type": "code",
   "execution_count": 58,
   "metadata": {},
   "outputs": [
    {
     "data": {
      "text/plain": [
       "[5, 5, 5, 8, 8, 8, 8, 8, 9, 9]"
      ]
     },
     "execution_count": 58,
     "metadata": {},
     "output_type": "execute_result"
    }
   ],
   "source": [
    "list(itertools.accumulate(sample, max))\n",
    "#running max"
   ]
  },
  {
   "cell_type": "code",
   "execution_count": 59,
   "metadata": {},
   "outputs": [
    {
     "data": {
      "text/plain": [
       "[5, 20, 40, 320, 2240, 13440, 40320, 0, 0, 0]"
      ]
     },
     "execution_count": 59,
     "metadata": {},
     "output_type": "execute_result"
    }
   ],
   "source": [
    "import operator\n",
    "list(itertools.accumulate(sample, operator.mul))\n",
    "#running product"
   ]
  },
  {
   "cell_type": "code",
   "execution_count": 60,
   "metadata": {},
   "outputs": [
    {
     "data": {
      "text/plain": [
       "[1, 2, 6, 24, 120, 720, 5040, 40320, 362880, 3628800]"
      ]
     },
     "execution_count": 60,
     "metadata": {},
     "output_type": "execute_result"
    }
   ],
   "source": [
    "list(itertools.accumulate(range(1, 11), operator.mul))"
   ]
  },
  {
   "cell_type": "code",
   "execution_count": 61,
   "metadata": {},
   "outputs": [
    {
     "data": {
      "text/plain": [
       "[(1, 'a'),\n",
       " (2, 'l'),\n",
       " (3, 'b'),\n",
       " (4, 'a'),\n",
       " (5, 't'),\n",
       " (6, 'r'),\n",
       " (7, 'o'),\n",
       " (8, 'z')]"
      ]
     },
     "execution_count": 61,
     "metadata": {},
     "output_type": "execute_result"
    }
   ],
   "source": [
    "#Example 14-16\n",
    "list(enumerate('albatroz', 1))"
   ]
  },
  {
   "cell_type": "code",
   "execution_count": 62,
   "metadata": {},
   "outputs": [
    {
     "data": {
      "text/plain": [
       "[0, 1, 4, 9, 16, 25, 36, 49, 64, 81, 100]"
      ]
     },
     "execution_count": 62,
     "metadata": {},
     "output_type": "execute_result"
    }
   ],
   "source": [
    "import operator\n",
    "list(map(operator.mul, range(11), range(11)))\n",
    "#square"
   ]
  },
  {
   "cell_type": "code",
   "execution_count": 63,
   "metadata": {},
   "outputs": [
    {
     "data": {
      "text/plain": [
       "[0, 4, 16]"
      ]
     },
     "execution_count": 63,
     "metadata": {},
     "output_type": "execute_result"
    }
   ],
   "source": [
    "list(map(operator.mul, range(11), [2, 4, 8]))\n",
    "#stop when shortest iterable ends"
   ]
  },
  {
   "cell_type": "code",
   "execution_count": 64,
   "metadata": {},
   "outputs": [
    {
     "data": {
      "text/plain": [
       "[(0, 2), (1, 4), (2, 8)]"
      ]
     },
     "execution_count": 64,
     "metadata": {},
     "output_type": "execute_result"
    }
   ],
   "source": [
    "list(map(lambda a, b: (a, b), range(11), [2, 4, 8]))\n",
    "#built-in zip does"
   ]
  },
  {
   "cell_type": "code",
   "execution_count": 65,
   "metadata": {},
   "outputs": [
    {
     "data": {
      "text/plain": [
       "['a', 'll', 'bbb', 'aaaa', 'ttttt', 'rrrrrr', 'ooooooo', 'zzzzzzzz']"
      ]
     },
     "execution_count": 65,
     "metadata": {},
     "output_type": "execute_result"
    }
   ],
   "source": [
    "import itertools\n",
    "list(itertools.starmap(operator.mul, enumerate('albatroz', 1)))\n",
    "#func를 it의 각각에 적용"
   ]
  },
  {
   "cell_type": "code",
   "execution_count": 66,
   "metadata": {},
   "outputs": [
    {
     "data": {
      "text/plain": [
       "[5.0,\n",
       " 4.5,\n",
       " 3.6666666666666665,\n",
       " 4.75,\n",
       " 5.2,\n",
       " 5.333333333333333,\n",
       " 5.0,\n",
       " 4.375,\n",
       " 4.888888888888889,\n",
       " 4.5]"
      ]
     },
     "execution_count": 66,
     "metadata": {},
     "output_type": "execute_result"
    }
   ],
   "source": [
    "sample = [5, 4, 2, 8, 7, 6, 3, 0, 9, 1]\n",
    "list(itertools.starmap(lambda a, b: b/a,\n",
    "                       enumerate(itertools.accumulate(sample), 1)))\n",
    "#average"
   ]
  },
  {
   "cell_type": "markdown",
   "metadata": {},
   "source": [
    "### Merging Generator\n",
    "여러 개의 iterable들에서 값을 yield. `chain`과 `chain.from_iterable`은 순차적으로 iterable을 소비하고, `product`, `zip`, `zip_longest`는 병렬로 iterable을 소비한다.\n",
    "![table14-3](../images/table_14-3.PNG)"
   ]
  },
  {
   "cell_type": "code",
   "execution_count": 67,
   "metadata": {},
   "outputs": [
    {
     "data": {
      "text/plain": [
       "['A', 'B', 'C', 0, 1]"
      ]
     },
     "execution_count": 67,
     "metadata": {},
     "output_type": "execute_result"
    }
   ],
   "source": [
    "#Example 14-17\n",
    "list(itertools.chain('ABC', range(2)))\n",
    "#chain은 두 개 이상의 iterable을 호출"
   ]
  },
  {
   "cell_type": "code",
   "execution_count": 68,
   "metadata": {},
   "outputs": [
    {
     "data": {
      "text/plain": [
       "[(0, 'A'), (1, 'B'), (2, 'C')]"
      ]
     },
     "execution_count": 68,
     "metadata": {},
     "output_type": "execute_result"
    }
   ],
   "source": [
    "list(itertools.chain(enumerate('ABC')))\n",
    "#single input이면 아무것도 안함."
   ]
  },
  {
   "cell_type": "code",
   "execution_count": 69,
   "metadata": {},
   "outputs": [
    {
     "data": {
      "text/plain": [
       "[(0, 'A'), (1, 'B'), (2, 'C')]"
      ]
     },
     "execution_count": 69,
     "metadata": {},
     "output_type": "execute_result"
    }
   ],
   "source": [
    "list(enumerate('ABC'))"
   ]
  },
  {
   "cell_type": "code",
   "execution_count": 70,
   "metadata": {},
   "outputs": [
    {
     "data": {
      "text/plain": [
       "[0, 'A', 1, 'B', 2, 'C']"
      ]
     },
     "execution_count": 70,
     "metadata": {},
     "output_type": "execute_result"
    }
   ],
   "source": [
    "list(itertools.chain.from_iterable(enumerate('ABC')))\n",
    "#하지만 from_iterable은 파괴왕. 다 찢어버린다."
   ]
  },
  {
   "cell_type": "code",
   "execution_count": 71,
   "metadata": {},
   "outputs": [
    {
     "data": {
      "text/plain": [
       "[('A', 0), ('B', 1), ('C', 2)]"
      ]
     },
     "execution_count": 71,
     "metadata": {},
     "output_type": "execute_result"
    }
   ],
   "source": [
    "list(zip('ABC', range(5)))\n",
    "#앞에서 봤던 zip과의 재회. 김밥 말아서 썰어주는 함수"
   ]
  },
  {
   "cell_type": "code",
   "execution_count": 72,
   "metadata": {},
   "outputs": [
    {
     "data": {
      "text/plain": [
       "[('A', 0, 10), ('B', 1, 20), ('C', 2, 30)]"
      ]
     },
     "execution_count": 72,
     "metadata": {},
     "output_type": "execute_result"
    }
   ],
   "source": [
    "list(zip('ABC', range(5), [10, 20, 30, 40]))\n",
    "#제일 짧은 iterable이 끝나면 끝남"
   ]
  },
  {
   "cell_type": "code",
   "execution_count": 73,
   "metadata": {},
   "outputs": [
    {
     "data": {
      "text/plain": [
       "[('A', 0), ('B', 1), ('C', 2), (None, 3), (None, 4)]"
      ]
     },
     "execution_count": 73,
     "metadata": {},
     "output_type": "execute_result"
    }
   ],
   "source": [
    "list(itertools.zip_longest('ABC', range(5)))\n",
    "#zip_longest는 긴 iterable 기준. default는 None"
   ]
  },
  {
   "cell_type": "code",
   "execution_count": 74,
   "metadata": {},
   "outputs": [
    {
     "data": {
      "text/plain": [
       "[('A', 0), ('B', 1), ('C', 2), ('?', 3), ('?', 4)]"
      ]
     },
     "execution_count": 74,
     "metadata": {},
     "output_type": "execute_result"
    }
   ],
   "source": [
    "list(itertools.zip_longest('ABC', range(5), fillvalue='?'))\n",
    "#fillvalue를 설정해주면 None 대신 넣어줌."
   ]
  },
  {
   "cell_type": "code",
   "execution_count": 75,
   "metadata": {},
   "outputs": [
    {
     "data": {
      "text/plain": [
       "[('A', 0), ('A', 1), ('B', 0), ('B', 1), ('C', 0), ('C', 1)]"
      ]
     },
     "execution_count": 75,
     "metadata": {},
     "output_type": "execute_result"
    }
   ],
   "source": [
    "#Example 14-18\n",
    "list(itertools.product('ABC', range(2)))\n",
    "#Cartesian product"
   ]
  },
  {
   "cell_type": "code",
   "execution_count": 76,
   "metadata": {},
   "outputs": [
    {
     "data": {
      "text/plain": [
       "[('A', 'spades'),\n",
       " ('A', 'hearts'),\n",
       " ('A', 'diamonds'),\n",
       " ('A', 'clubs'),\n",
       " ('K', 'spades'),\n",
       " ('K', 'hearts'),\n",
       " ('K', 'diamonds'),\n",
       " ('K', 'clubs')]"
      ]
     },
     "execution_count": 76,
     "metadata": {},
     "output_type": "execute_result"
    }
   ],
   "source": [
    "suits = 'spades hearts diamonds clubs'.split()\n",
    "list(itertools.product('AK', suits))"
   ]
  },
  {
   "cell_type": "code",
   "execution_count": 77,
   "metadata": {},
   "outputs": [
    {
     "data": {
      "text/plain": [
       "[('A',), ('B',), ('C',)]"
      ]
     },
     "execution_count": 77,
     "metadata": {},
     "output_type": "execute_result"
    }
   ],
   "source": [
    "list(itertools.product('ABC'))\n",
    "#product에게 하나만 준 경우. 쓸모가 없다."
   ]
  },
  {
   "cell_type": "code",
   "execution_count": 78,
   "metadata": {},
   "outputs": [
    {
     "data": {
      "text/plain": [
       "[('A', 'A'),\n",
       " ('A', 'B'),\n",
       " ('A', 'C'),\n",
       " ('B', 'A'),\n",
       " ('B', 'B'),\n",
       " ('B', 'C'),\n",
       " ('C', 'A'),\n",
       " ('C', 'B'),\n",
       " ('C', 'C')]"
      ]
     },
     "execution_count": 78,
     "metadata": {},
     "output_type": "execute_result"
    }
   ],
   "source": [
    "list(itertools.product('ABC', repeat=2))\n",
    "#그림자 분신술"
   ]
  },
  {
   "cell_type": "code",
   "execution_count": 79,
   "metadata": {},
   "outputs": [
    {
     "data": {
      "text/plain": [
       "[(0, 0, 0),\n",
       " (0, 0, 1),\n",
       " (0, 1, 0),\n",
       " (0, 1, 1),\n",
       " (1, 0, 0),\n",
       " (1, 0, 1),\n",
       " (1, 1, 0),\n",
       " (1, 1, 1)]"
      ]
     },
     "execution_count": 79,
     "metadata": {},
     "output_type": "execute_result"
    }
   ],
   "source": [
    "list(itertools.product(range(2), repeat=3))"
   ]
  },
  {
   "cell_type": "code",
   "execution_count": 80,
   "metadata": {},
   "outputs": [
    {
     "name": "stdout",
     "output_type": "stream",
     "text": [
      "('A', 0, 'A', 0)\n",
      "('A', 0, 'A', 1)\n",
      "('A', 0, 'B', 0)\n",
      "('A', 0, 'B', 1)\n",
      "('A', 1, 'A', 0)\n",
      "('A', 1, 'A', 1)\n",
      "('A', 1, 'B', 0)\n",
      "('A', 1, 'B', 1)\n",
      "('B', 0, 'A', 0)\n",
      "('B', 0, 'A', 1)\n",
      "('B', 0, 'B', 0)\n",
      "('B', 0, 'B', 1)\n",
      "('B', 1, 'A', 0)\n",
      "('B', 1, 'A', 1)\n",
      "('B', 1, 'B', 0)\n",
      "('B', 1, 'B', 1)\n"
     ]
    }
   ],
   "source": [
    "rows = itertools.product('AB', range(2), repeat=2)\n",
    "for row in rows: print(row)"
   ]
  },
  {
   "cell_type": "markdown",
   "metadata": {},
   "source": [
    "일부 제너레이터 함수들은 입력으로부터 값을 확장한다.\n",
    "![table14-4](../images/table_14-4.PNG)"
   ]
  },
  {
   "cell_type": "code",
   "execution_count": 81,
   "metadata": {},
   "outputs": [
    {
     "data": {
      "text/plain": [
       "0"
      ]
     },
     "execution_count": 81,
     "metadata": {},
     "output_type": "execute_result"
    }
   ],
   "source": [
    "#Example 14-19\n",
    "ct = itertools.count()\n",
    "next(ct)"
   ]
  },
  {
   "cell_type": "code",
   "execution_count": 82,
   "metadata": {},
   "outputs": [
    {
     "data": {
      "text/plain": [
       "(1, 2, 3)"
      ]
     },
     "execution_count": 82,
     "metadata": {},
     "output_type": "execute_result"
    }
   ],
   "source": [
    "next(ct), next(ct), next(ct)\n",
    "#default step=1"
   ]
  },
  {
   "cell_type": "code",
   "execution_count": 83,
   "metadata": {},
   "outputs": [
    {
     "data": {
      "text/plain": [
       "[1, 1.3, 1.6]"
      ]
     },
     "execution_count": 83,
     "metadata": {},
     "output_type": "execute_result"
    }
   ],
   "source": [
    "list(itertools.islice(itertools.count(1, .3), 3))\n",
    "#step = 0.3"
   ]
  },
  {
   "cell_type": "code",
   "execution_count": 84,
   "metadata": {},
   "outputs": [
    {
     "data": {
      "text/plain": [
       "'A'"
      ]
     },
     "execution_count": 84,
     "metadata": {},
     "output_type": "execute_result"
    }
   ],
   "source": [
    "cy = itertools.cycle('ABC')\n",
    "next(cy)"
   ]
  },
  {
   "cell_type": "code",
   "execution_count": 85,
   "metadata": {},
   "outputs": [
    {
     "data": {
      "text/plain": [
       "['B', 'C', 'A', 'B', 'C', 'A', 'B']"
      ]
     },
     "execution_count": 85,
     "metadata": {},
     "output_type": "execute_result"
    }
   ],
   "source": [
    "list(itertools.islice(cy, 7))"
   ]
  },
  {
   "cell_type": "code",
   "execution_count": 86,
   "metadata": {},
   "outputs": [
    {
     "data": {
      "text/plain": [
       "(7, 7)"
      ]
     },
     "execution_count": 86,
     "metadata": {},
     "output_type": "execute_result"
    }
   ],
   "source": [
    "rp = itertools.repeat(7)\n",
    "next(rp), next(rp)"
   ]
  },
  {
   "cell_type": "code",
   "execution_count": 87,
   "metadata": {},
   "outputs": [
    {
     "data": {
      "text/plain": [
       "[8, 8, 8, 8]"
      ]
     },
     "execution_count": 87,
     "metadata": {},
     "output_type": "execute_result"
    }
   ],
   "source": [
    "list(itertools.repeat(8, 4))"
   ]
  },
  {
   "cell_type": "code",
   "execution_count": 88,
   "metadata": {},
   "outputs": [
    {
     "data": {
      "text/plain": [
       "[0, 5, 10, 15, 20, 25, 30, 35, 40, 45, 50]"
      ]
     },
     "execution_count": 88,
     "metadata": {},
     "output_type": "execute_result"
    }
   ],
   "source": [
    "list(map(operator.mul, range(11), itertools.repeat(5)))"
   ]
  },
  {
   "cell_type": "code",
   "execution_count": 89,
   "metadata": {},
   "outputs": [
    {
     "data": {
      "text/plain": [
       "[('A', 'B'), ('A', 'C'), ('B', 'C')]"
      ]
     },
     "execution_count": 89,
     "metadata": {},
     "output_type": "execute_result"
    }
   ],
   "source": [
    "#Example 14-20\n",
    "list(itertools.combinations('ABC', 2))"
   ]
  },
  {
   "cell_type": "code",
   "execution_count": 90,
   "metadata": {},
   "outputs": [
    {
     "data": {
      "text/plain": [
       "[('A', 'A'), ('A', 'B'), ('A', 'C'), ('B', 'B'), ('B', 'C'), ('C', 'C')]"
      ]
     },
     "execution_count": 90,
     "metadata": {},
     "output_type": "execute_result"
    }
   ],
   "source": [
    "list(itertools.combinations_with_replacement('ABC', 2))\n",
    "#중복 사용 허용"
   ]
  },
  {
   "cell_type": "code",
   "execution_count": 91,
   "metadata": {},
   "outputs": [
    {
     "data": {
      "text/plain": [
       "[('A', 'B'), ('A', 'C'), ('B', 'A'), ('B', 'C'), ('C', 'A'), ('C', 'B')]"
      ]
     },
     "execution_count": 91,
     "metadata": {},
     "output_type": "execute_result"
    }
   ],
   "source": [
    "list(itertools.permutations('ABC', 2))"
   ]
  },
  {
   "cell_type": "code",
   "execution_count": 92,
   "metadata": {},
   "outputs": [
    {
     "data": {
      "text/plain": [
       "[('A', 'A'),\n",
       " ('A', 'B'),\n",
       " ('A', 'C'),\n",
       " ('B', 'A'),\n",
       " ('B', 'B'),\n",
       " ('B', 'C'),\n",
       " ('C', 'A'),\n",
       " ('C', 'B'),\n",
       " ('C', 'C')]"
      ]
     },
     "execution_count": 92,
     "metadata": {},
     "output_type": "execute_result"
    }
   ],
   "source": [
    "list(itertools.product('ABC', repeat=2))"
   ]
  },
  {
   "cell_type": "markdown",
   "metadata": {},
   "source": [
    "### Rearranging Generator\n",
    "input을 모조리 yield 하지만, 재배치하는 제너레이터에 대해 알아본다. `reversed`는 이 섹션에서 유일하게 모든 iterable이 아닌 `sequence`만을 입력으로 가진다. 왜냐하면 앞뒤의 순서를 바꾸는 건데 길이가 정해져 있어야 하는 것이 당연하기 때문!  \n",
    "`itertools.groupby`는 input iterable이 그루핑 기준에 따라 정렬되어 있거나, 적어도 아이템들이 기준에 따라 군집화되어 있다고 가정한다 - 정렬되어 있지 않더라도.\n",
    "![table14-5](../images/table_14-5.PNG)"
   ]
  },
  {
   "cell_type": "code",
   "execution_count": 93,
   "metadata": {},
   "outputs": [
    {
     "data": {
      "text/plain": [
       "[('L', <itertools._grouper at 0x7f24c0b57780>),\n",
       " ('A', <itertools._grouper at 0x7f24c0b57320>),\n",
       " ('G', <itertools._grouper at 0x7f24c0b57cc0>)]"
      ]
     },
     "execution_count": 93,
     "metadata": {},
     "output_type": "execute_result"
    }
   ],
   "source": [
    "#Example 14-21\n",
    "list(itertools.groupby('LLLLAAGGG'))"
   ]
  },
  {
   "cell_type": "code",
   "execution_count": 94,
   "metadata": {},
   "outputs": [
    {
     "name": "stdout",
     "output_type": "stream",
     "text": [
      "L -> ['L', 'L', 'L', 'L']\n",
      "A -> ['A', 'A', 'A']\n",
      "G -> ['G', 'G']\n"
     ]
    }
   ],
   "source": [
    "for char, group in itertools.groupby('LLLLAAAGG'):\n",
    "    print(char, '->', list(group))"
   ]
  },
  {
   "cell_type": "code",
   "execution_count": 95,
   "metadata": {},
   "outputs": [
    {
     "data": {
      "text/plain": [
       "['rat', 'bat', 'duck', 'bear', 'lion', 'eagle', 'shark', 'giraffe', 'dolphin']"
      ]
     },
     "execution_count": 95,
     "metadata": {},
     "output_type": "execute_result"
    }
   ],
   "source": [
    "animals = ['duck', 'eagle', 'rat', 'giraffe', 'bear', 'bat', \n",
    "           'dolphin', 'shark', 'lion']\n",
    "animals.sort(key=len)\n",
    "animals"
   ]
  },
  {
   "cell_type": "code",
   "execution_count": 96,
   "metadata": {},
   "outputs": [
    {
     "name": "stdout",
     "output_type": "stream",
     "text": [
      "3 -> ['rat', 'bat']\n",
      "4 -> ['duck', 'bear', 'lion']\n",
      "5 -> ['eagle', 'shark']\n",
      "7 -> ['giraffe', 'dolphin']\n"
     ]
    }
   ],
   "source": [
    "for length, group in itertools.groupby(animals, len):\n",
    "    print(length, '->', list(group))"
   ]
  },
  {
   "cell_type": "code",
   "execution_count": 97,
   "metadata": {},
   "outputs": [
    {
     "name": "stdout",
     "output_type": "stream",
     "text": [
      "7 -> ['dolphin', 'giraffe']\n",
      "5 -> ['shark', 'eagle']\n",
      "4 -> ['lion', 'bear', 'duck']\n",
      "3 -> ['bat', 'rat']\n"
     ]
    }
   ],
   "source": [
    "for length, group in itertools.groupby(reversed(animals), len):\n",
    "    print(length, '->', list(group))"
   ]
  },
  {
   "cell_type": "markdown",
   "metadata": {},
   "source": [
    "`itertools.tee`는 하나의 입력 iterable에서 여러 개의 제너레이터로 값을 yield"
   ]
  },
  {
   "cell_type": "code",
   "execution_count": 98,
   "metadata": {},
   "outputs": [
    {
     "data": {
      "text/plain": [
       "[<itertools._tee at 0x7f24c0b55108>, <itertools._tee at 0x7f24c0b55588>]"
      ]
     },
     "execution_count": 98,
     "metadata": {},
     "output_type": "execute_result"
    }
   ],
   "source": [
    "list(itertools.tee('ABC'))"
   ]
  },
  {
   "cell_type": "code",
   "execution_count": 99,
   "metadata": {},
   "outputs": [],
   "source": [
    "g1, g2 = itertools.tee('ABC')"
   ]
  },
  {
   "cell_type": "code",
   "execution_count": 100,
   "metadata": {},
   "outputs": [
    {
     "data": {
      "text/plain": [
       "'A'"
      ]
     },
     "execution_count": 100,
     "metadata": {},
     "output_type": "execute_result"
    }
   ],
   "source": [
    "next(g1)"
   ]
  },
  {
   "cell_type": "code",
   "execution_count": 101,
   "metadata": {},
   "outputs": [
    {
     "data": {
      "text/plain": [
       "'A'"
      ]
     },
     "execution_count": 101,
     "metadata": {},
     "output_type": "execute_result"
    }
   ],
   "source": [
    "next(g2)"
   ]
  },
  {
   "cell_type": "code",
   "execution_count": 102,
   "metadata": {},
   "outputs": [
    {
     "data": {
      "text/plain": [
       "'B'"
      ]
     },
     "execution_count": 102,
     "metadata": {},
     "output_type": "execute_result"
    }
   ],
   "source": [
    "next(g2)"
   ]
  },
  {
   "cell_type": "code",
   "execution_count": 103,
   "metadata": {},
   "outputs": [
    {
     "data": {
      "text/plain": [
       "['B', 'C']"
      ]
     },
     "execution_count": 103,
     "metadata": {},
     "output_type": "execute_result"
    }
   ],
   "source": [
    "list(g1)"
   ]
  },
  {
   "cell_type": "code",
   "execution_count": 104,
   "metadata": {},
   "outputs": [
    {
     "data": {
      "text/plain": [
       "['C']"
      ]
     },
     "execution_count": 104,
     "metadata": {},
     "output_type": "execute_result"
    }
   ],
   "source": [
    "list(g2)"
   ]
  },
  {
   "cell_type": "code",
   "execution_count": 105,
   "metadata": {},
   "outputs": [
    {
     "data": {
      "text/plain": [
       "[('A', 'A'), ('B', 'B'), ('C', 'C')]"
      ]
     },
     "execution_count": 105,
     "metadata": {},
     "output_type": "execute_result"
    }
   ],
   "source": [
    "list(zip(*itertools.tee('ABC')))"
   ]
  },
  {
   "cell_type": "markdown",
   "metadata": {},
   "source": [
    "## 14.10 파이썬 3.3의 새로운 구문 : yield from\n",
    "제너레이터가 다른 제너레이터로부터 값을 받아서 만들어내려면 전통적으로는 중첩 반복문을 사용한다."
   ]
  },
  {
   "cell_type": "code",
   "execution_count": 106,
   "metadata": {},
   "outputs": [],
   "source": [
    "def chain(*iterables):\n",
    "    for it in iterables:\n",
    "        for i in it:\n",
    "            yield i"
   ]
  },
  {
   "cell_type": "code",
   "execution_count": 107,
   "metadata": {},
   "outputs": [
    {
     "data": {
      "text/plain": [
       "['A', 'B', 'C', 0, 1, 2]"
      ]
     },
     "execution_count": 107,
     "metadata": {},
     "output_type": "execute_result"
    }
   ],
   "source": [
    "s = 'ABC'\n",
    "t = tuple(range(3))\n",
    "list(chain(s, t))"
   ]
  },
  {
   "cell_type": "markdown",
   "metadata": {},
   "source": [
    "이제는 이렇게 쓰면 된다."
   ]
  },
  {
   "cell_type": "code",
   "execution_count": 108,
   "metadata": {},
   "outputs": [],
   "source": [
    "def chain(*iterables):\n",
    "    for i in iterables:\n",
    "        yield from i"
   ]
  },
  {
   "cell_type": "code",
   "execution_count": 109,
   "metadata": {},
   "outputs": [
    {
     "data": {
      "text/plain": [
       "['A', 'B', 'C', 0, 1, 2]"
      ]
     },
     "execution_count": 109,
     "metadata": {},
     "output_type": "execute_result"
    }
   ],
   "source": [
    "list(chain(s, t))"
   ]
  },
  {
   "cell_type": "markdown",
   "metadata": {},
   "source": [
    "`from i`를 사용함으로써 안쪽 반복문을 완전히 대체(_Syntactic sugar_). 하지만 이것은 반복문의 대체 그 이상의 의미가 있는데, 안쪽 제너레이터와 바깥쪽 제너레이터을 직접 연결하는 채널을 만든다. 이것은 Chapter 16에서 Coroutine과 함께 다시 설명."
   ]
  },
  {
   "cell_type": "markdown",
   "metadata": {},
   "source": [
    "## 14.11 반복형을 리듀스하는 함수\n",
    "여기 나오는 것들은 모든 input iterable을 소비해서 하나의 결과를 반환하는 함수들이다. 이런 것들을 'reducing', 'folding', 'accumulating' 함수라고 한다. \n",
    "![table14-6](../images/table_14-6.PNG)"
   ]
  },
  {
   "cell_type": "code",
   "execution_count": 110,
   "metadata": {},
   "outputs": [
    {
     "data": {
      "text/plain": [
       "True"
      ]
     },
     "execution_count": 110,
     "metadata": {},
     "output_type": "execute_result"
    }
   ],
   "source": [
    "#Example 14-23\n",
    "all([1, 2, 3])"
   ]
  },
  {
   "cell_type": "code",
   "execution_count": 111,
   "metadata": {},
   "outputs": [
    {
     "data": {
      "text/plain": [
       "False"
      ]
     },
     "execution_count": 111,
     "metadata": {},
     "output_type": "execute_result"
    }
   ],
   "source": [
    "all([1, 0, 3])"
   ]
  },
  {
   "cell_type": "code",
   "execution_count": 112,
   "metadata": {},
   "outputs": [
    {
     "data": {
      "text/plain": [
       "True"
      ]
     },
     "execution_count": 112,
     "metadata": {},
     "output_type": "execute_result"
    }
   ],
   "source": [
    "all([])"
   ]
  },
  {
   "cell_type": "code",
   "execution_count": 113,
   "metadata": {},
   "outputs": [
    {
     "data": {
      "text/plain": [
       "True"
      ]
     },
     "execution_count": 113,
     "metadata": {},
     "output_type": "execute_result"
    }
   ],
   "source": [
    "any([1, 2, 3])"
   ]
  },
  {
   "cell_type": "code",
   "execution_count": 114,
   "metadata": {},
   "outputs": [
    {
     "data": {
      "text/plain": [
       "True"
      ]
     },
     "execution_count": 114,
     "metadata": {},
     "output_type": "execute_result"
    }
   ],
   "source": [
    "any([1, 0, 3])"
   ]
  },
  {
   "cell_type": "code",
   "execution_count": 115,
   "metadata": {},
   "outputs": [
    {
     "data": {
      "text/plain": [
       "False"
      ]
     },
     "execution_count": 115,
     "metadata": {},
     "output_type": "execute_result"
    }
   ],
   "source": [
    "any([0, 0.0])"
   ]
  },
  {
   "cell_type": "code",
   "execution_count": 116,
   "metadata": {},
   "outputs": [
    {
     "data": {
      "text/plain": [
       "False"
      ]
     },
     "execution_count": 116,
     "metadata": {},
     "output_type": "execute_result"
    }
   ],
   "source": [
    "any([])"
   ]
  },
  {
   "cell_type": "code",
   "execution_count": 117,
   "metadata": {},
   "outputs": [
    {
     "data": {
      "text/plain": [
       "True"
      ]
     },
     "execution_count": 117,
     "metadata": {},
     "output_type": "execute_result"
    }
   ],
   "source": [
    "g = (n for n in [0, 0.0, 7, 8])\n",
    "any(g)"
   ]
  },
  {
   "cell_type": "code",
   "execution_count": 118,
   "metadata": {},
   "outputs": [
    {
     "data": {
      "text/plain": [
       "8"
      ]
     },
     "execution_count": 118,
     "metadata": {},
     "output_type": "execute_result"
    }
   ],
   "source": [
    "next(g)"
   ]
  },
  {
   "cell_type": "markdown",
   "metadata": {},
   "source": [
    "iterable을 소비해서 결과를 만들어내는 것은 이것 말고도 `sorted`가 있다. `reversed`는 generator를 만들어 내지만 `sorted`는 실제 list를 리턴한다. `sorted`와 다른 reducing function들도 끝이 있는 iterable에 대해서만 작동한다. 끝이 없으면 안 끝난다...!"
   ]
  },
  {
   "cell_type": "markdown",
   "metadata": {},
   "source": [
    "## 14.12 iter() 함수 들여다보기\n",
    "`iter()`는 다른 형태가 있다."
   ]
  },
  {
   "cell_type": "code",
   "execution_count": 119,
   "metadata": {},
   "outputs": [
    {
     "data": {
      "text/plain": [
       "<callable_iterator at 0x7f24c0b5a7f0>"
      ]
     },
     "execution_count": 119,
     "metadata": {},
     "output_type": "execute_result"
    }
   ],
   "source": [
    "from random import randint\n",
    "def d6():\n",
    "    return randint(1, 6)\n",
    "\n",
    "d6_iter = iter(d6, 1)\n",
    "d6_iter"
   ]
  },
  {
   "cell_type": "code",
   "execution_count": 120,
   "metadata": {},
   "outputs": [],
   "source": [
    "for roll in d6_iter:\n",
    "    print(roll)"
   ]
  },
  {
   "cell_type": "markdown",
   "metadata": {},
   "source": [
    "sentinel 값이 나오면 `StopIteration`을 발생시켜서 종료한다. 이렇게 끝나면 쓸모없어지기 때문에 다시 처음부터 만들어야 한다."
   ]
  },
  {
   "cell_type": "markdown",
   "metadata": {},
   "source": [
    "## 14.14 코루틴으로서의 제너레이터\n",
    "코루틴....이 뭔지 모르겠습니다.  \n",
    "일단 여기서는 `.__next__()`, `.send()`의 차이 정도만 짚고 넘어갑니다. `.__next__()`는 단방향으로 데이터를 받는(제너레이터->사용자코드) 반면에 `.send()`는 양방향으로 데이터를 교환할 수 있다고 합니다.. Coroutine에 대한 자세한 내용은 16장에서 다룹니다."
   ]
  }
 ],
 "metadata": {
  "kernelspec": {
   "display_name": "Python 3",
   "language": "python",
   "name": "python3"
  },
  "language_info": {
   "codemirror_mode": {
    "name": "ipython",
    "version": 3
   },
   "file_extension": ".py",
   "mimetype": "text/x-python",
   "name": "python",
   "nbconvert_exporter": "python",
   "pygments_lexer": "ipython3",
   "version": "3.6.9"
  }
 },
 "nbformat": 4,
 "nbformat_minor": 4
}
