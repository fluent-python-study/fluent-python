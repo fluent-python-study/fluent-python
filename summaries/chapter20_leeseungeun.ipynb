{
 "cells": [
  {
   "cell_type": "markdown",
   "metadata": {},
   "source": [
    "# Chapter 20. 속성 디스크립터"
   ]
  },
  {
   "cell_type": "code",
   "execution_count": 1,
   "metadata": {},
   "outputs": [],
   "source": [
    "# 지난 시간 복습\n",
    "# chapter.19 프로퍼티 팩토리 구현하기\n",
    "def quantity(storage_name):\n",
    "    \n",
    "    def qty_getter(instance):\n",
    "        return instance.__dict__[storage_name]\n",
    "    \n",
    "    def qty_setter(instance, value):\n",
    "        if value > 0:\n",
    "            instance.__dict__[storage_name] = value\n",
    "        else:\n",
    "            raise ValueError('value must be > 0')\n",
    "            \n",
    "    return property(qty_getter, qty_setter)\n",
    "\n",
    "class LineItem:\n",
    "    weight = quantity('weight')\n",
    "    price = quantity('price')\n",
    "    \n",
    "    def __init__(self, description, weight, price):\n",
    "        self.description = description\n",
    "        self.weight = weight\n",
    "        self.price = price\n",
    "        \n",
    "    def subtotal(self):\n",
    "        return self.weight * self.price"
   ]
  },
  {
   "cell_type": "code",
   "execution_count": 3,
   "metadata": {},
   "outputs": [
    {
     "ename": "ValueError",
     "evalue": "value must be > 0",
     "output_type": "error",
     "traceback": [
      "\u001b[0;31m---------------------------------------------------------------------------\u001b[0m",
      "\u001b[0;31mValueError\u001b[0m                                Traceback (most recent call last)",
      "\u001b[0;32m<ipython-input-3-b50f057f93fe>\u001b[0m in \u001b[0;36m<module>\u001b[0;34m\u001b[0m\n\u001b[0;32m----> 1\u001b[0;31m \u001b[0mli\u001b[0m \u001b[0;34m=\u001b[0m \u001b[0mLineItem\u001b[0m\u001b[0;34m(\u001b[0m\u001b[0;34m'example'\u001b[0m\u001b[0;34m,\u001b[0m \u001b[0;36m10\u001b[0m\u001b[0;34m,\u001b[0m \u001b[0;34m-\u001b[0m\u001b[0;36m1000\u001b[0m\u001b[0;34m)\u001b[0m\u001b[0;34m\u001b[0m\u001b[0m\n\u001b[0m",
      "\u001b[0;32m<ipython-input-1-8d00bff1c11f>\u001b[0m in \u001b[0;36m__init__\u001b[0;34m(self, description, weight, price)\u001b[0m\n\u001b[1;32m     20\u001b[0m         \u001b[0mself\u001b[0m\u001b[0;34m.\u001b[0m\u001b[0mdescription\u001b[0m \u001b[0;34m=\u001b[0m \u001b[0mdescription\u001b[0m\u001b[0;34m\u001b[0m\u001b[0m\n\u001b[1;32m     21\u001b[0m         \u001b[0mself\u001b[0m\u001b[0;34m.\u001b[0m\u001b[0mweight\u001b[0m \u001b[0;34m=\u001b[0m \u001b[0mweight\u001b[0m\u001b[0;34m\u001b[0m\u001b[0m\n\u001b[0;32m---> 22\u001b[0;31m         \u001b[0mself\u001b[0m\u001b[0;34m.\u001b[0m\u001b[0mprice\u001b[0m \u001b[0;34m=\u001b[0m \u001b[0mprice\u001b[0m\u001b[0;34m\u001b[0m\u001b[0m\n\u001b[0m\u001b[1;32m     23\u001b[0m \u001b[0;34m\u001b[0m\u001b[0m\n\u001b[1;32m     24\u001b[0m     \u001b[0;32mdef\u001b[0m \u001b[0msubtotal\u001b[0m\u001b[0;34m(\u001b[0m\u001b[0mself\u001b[0m\u001b[0;34m)\u001b[0m\u001b[0;34m:\u001b[0m\u001b[0;34m\u001b[0m\u001b[0m\n",
      "\u001b[0;32m<ipython-input-1-8d00bff1c11f>\u001b[0m in \u001b[0;36mqty_setter\u001b[0;34m(instance, value)\u001b[0m\n\u001b[1;32m      9\u001b[0m             \u001b[0minstance\u001b[0m\u001b[0;34m.\u001b[0m\u001b[0m__dict__\u001b[0m\u001b[0;34m[\u001b[0m\u001b[0mstorage_name\u001b[0m\u001b[0;34m]\u001b[0m \u001b[0;34m=\u001b[0m \u001b[0mvalue\u001b[0m\u001b[0;34m\u001b[0m\u001b[0m\n\u001b[1;32m     10\u001b[0m         \u001b[0;32melse\u001b[0m\u001b[0;34m:\u001b[0m\u001b[0;34m\u001b[0m\u001b[0m\n\u001b[0;32m---> 11\u001b[0;31m             \u001b[0;32mraise\u001b[0m \u001b[0mValueError\u001b[0m\u001b[0;34m(\u001b[0m\u001b[0;34m'value must be > 0'\u001b[0m\u001b[0;34m)\u001b[0m\u001b[0;34m\u001b[0m\u001b[0m\n\u001b[0m\u001b[1;32m     12\u001b[0m \u001b[0;34m\u001b[0m\u001b[0m\n\u001b[1;32m     13\u001b[0m     \u001b[0;32mreturn\u001b[0m \u001b[0mproperty\u001b[0m\u001b[0;34m(\u001b[0m\u001b[0mqty_getter\u001b[0m\u001b[0;34m,\u001b[0m \u001b[0mqty_setter\u001b[0m\u001b[0;34m)\u001b[0m\u001b[0;34m\u001b[0m\u001b[0m\n",
      "\u001b[0;31mValueError\u001b[0m: value must be > 0"
     ]
    }
   ],
   "source": [
    "li = LineItem('example', 10, -1000)"
   ]
  },
  {
   "cell_type": "markdown",
   "metadata": {},
   "source": [
    "## LineItem 버전 #1 ~ 4\n",
    "\n",
    "![LineItem MGN](../images/chap20_mgn.png)   \n",
    "\n",
    "* 공장과 장치 표기법 (Mills & Gizos Notation, MGN)\n",
    "    * 클래스는 객체를 생산하는 공장\n",
    "    * LineItem 공장은 세 가지 속성을 가진 객체를 만듦\n",
    "    * Quantity 공장에서 만든 객체는 LineItem 객체에 저장된 값을 확인\n",
    "    \n",
    "* 디스크립터 클래스\n",
    "    * 디스크립터 프로토콜을 구현하는 클래스\n",
    "    * e.g. Quantity\n",
    "* 디스크립터 객체\n",
    "    * 디스크립터 클래스의 객체\n",
    "    * 코드 상 `self`\n",
    "* 관리 대상 클래스\n",
    "    * 디스크립터 객체를 클래스 속성으로 선언하는 클래스\n",
    "    * e.g. LineItem\n",
    "* 관리 대상 객체\n",
    "    * 관리 대상 클래스의 객체\n",
    "    * 코드 상 `instance`\n",
    "* 저장소 속성\n",
    "    * 관리 대상 객체 안의 관리 대상 속성값을 담을 속성\n",
    "    * 항상 클래스 속성\n",
    "    * e.g. LineItem 객체의 weight와 price\n",
    "* 관리 대상 속성\n",
    "    * 디스크립터 객체에 의해 관리되는 괸리 대상 클래스 안의 공개 속성\n",
    "    * 저장소 속성에 저장"
   ]
  },
  {
   "cell_type": "code",
   "execution_count": 5,
   "metadata": {},
   "outputs": [],
   "source": [
    "# 별도 모듈 정의 가능한 부분\n",
    "class Quantity:\n",
    "    __counter = 0 # 디스크립터 객체를 어떤 변수에 바인딩하는지 구분하기 위해서는 이름을 지정해야 함. 자동으로 이름 지정하기 위해 변수 선언\n",
    "    \n",
    "    def __init__(self):\n",
    "        cls = self.__class__\n",
    "        prefix = cls.__name__\n",
    "        index = cls.__counter\n",
    "        # 관리 대상 속성과 비슷한 이름을 사용하기 위해서는 클래스 데커레이터나 메타 클래스 필요\n",
    "        self.storage_name = '_{}#{}'.format(prefix, index) \n",
    "        cls.__counter +=1 # Quantity 디스크립터가 관리하는 모든 클래스에서 저장소명이 겹치지 않음을 보장\n",
    "        \n",
    "    def __get__(self, instance, owner):\n",
    "        if instance is None: # 클래스에서 관리 대상 속성을 가져올 때 (e.g. LineItem.weight)의 처리\n",
    "            return self\n",
    "        else:\n",
    "            return getattr(instance, self.storage_name)\n",
    "        \n",
    "    def __set__(self, instance, value):\n",
    "        if value > 0:\n",
    "            setattr(instance, self.storage_name, value)\n",
    "        else:\n",
    "            raise ValueError('value must be > 0')\n",
    "            \n",
    "class LineItem:\n",
    "    weight = Quantity()\n",
    "    price = Quantity()\n",
    "    \n",
    "    def __init__(self, description, weight, price):\n",
    "        self.description = description\n",
    "        self.weight = weight\n",
    "        self.price = price\n",
    "        \n",
    "    def subtotal(self):\n",
    "        return self.weight * self.price\n",
    "    \n",
    "# 참고: 위의 Quantity와 동일하게 자동 명명하는 프로퍼티 팩토리\n",
    "def quantity(storage_name):\n",
    "    try:\n",
    "        quantity.counter += 1\n",
    "    except AttributeError:\n",
    "        quantity.counter = 0\n",
    "        \n",
    "    storage_name = '_{}:{}'.format('quantity', quantity.counter)\n",
    "    \n",
    "    def qty_getter(instance):\n",
    "        return instance.__dict__[storage_name]\n",
    "    \n",
    "    def qty_setter(instance, value):\n",
    "        if value > 0:\n",
    "            instance.__dict__[storage_name] = value\n",
    "        else:\n",
    "            raise ValueError('value must be > 0')\n",
    "            \n",
    "    return property(qty_getter, qty_setter)"
   ]
  },
  {
   "cell_type": "code",
   "execution_count": 6,
   "metadata": {},
   "outputs": [
    {
     "ename": "ValueError",
     "evalue": "value must be > 0",
     "output_type": "error",
     "traceback": [
      "\u001b[0;31m---------------------------------------------------------------------------\u001b[0m",
      "\u001b[0;31mValueError\u001b[0m                                Traceback (most recent call last)",
      "\u001b[0;32m<ipython-input-6-b50f057f93fe>\u001b[0m in \u001b[0;36m<module>\u001b[0;34m\u001b[0m\n\u001b[0;32m----> 1\u001b[0;31m \u001b[0mli\u001b[0m \u001b[0;34m=\u001b[0m \u001b[0mLineItem\u001b[0m\u001b[0;34m(\u001b[0m\u001b[0;34m'example'\u001b[0m\u001b[0;34m,\u001b[0m \u001b[0;36m10\u001b[0m\u001b[0;34m,\u001b[0m \u001b[0;34m-\u001b[0m\u001b[0;36m1000\u001b[0m\u001b[0;34m)\u001b[0m\u001b[0;34m\u001b[0m\u001b[0m\n\u001b[0m",
      "\u001b[0;32m<ipython-input-5-b7f0b7d10e51>\u001b[0m in \u001b[0;36m__init__\u001b[0;34m(self, description, weight, price)\u001b[0m\n\u001b[1;32m     30\u001b[0m         \u001b[0mself\u001b[0m\u001b[0;34m.\u001b[0m\u001b[0mdescription\u001b[0m \u001b[0;34m=\u001b[0m \u001b[0mdescription\u001b[0m\u001b[0;34m\u001b[0m\u001b[0m\n\u001b[1;32m     31\u001b[0m         \u001b[0mself\u001b[0m\u001b[0;34m.\u001b[0m\u001b[0mweight\u001b[0m \u001b[0;34m=\u001b[0m \u001b[0mweight\u001b[0m\u001b[0;34m\u001b[0m\u001b[0m\n\u001b[0;32m---> 32\u001b[0;31m         \u001b[0mself\u001b[0m\u001b[0;34m.\u001b[0m\u001b[0mprice\u001b[0m \u001b[0;34m=\u001b[0m \u001b[0mprice\u001b[0m\u001b[0;34m\u001b[0m\u001b[0m\n\u001b[0m\u001b[1;32m     33\u001b[0m \u001b[0;34m\u001b[0m\u001b[0m\n\u001b[1;32m     34\u001b[0m     \u001b[0;32mdef\u001b[0m \u001b[0msubtotal\u001b[0m\u001b[0;34m(\u001b[0m\u001b[0mself\u001b[0m\u001b[0;34m)\u001b[0m\u001b[0;34m:\u001b[0m\u001b[0;34m\u001b[0m\u001b[0m\n",
      "\u001b[0;32m<ipython-input-5-b7f0b7d10e51>\u001b[0m in \u001b[0;36m__set__\u001b[0;34m(self, instance, value)\u001b[0m\n\u001b[1;32m     21\u001b[0m             \u001b[0msetattr\u001b[0m\u001b[0;34m(\u001b[0m\u001b[0minstance\u001b[0m\u001b[0;34m,\u001b[0m \u001b[0mself\u001b[0m\u001b[0;34m.\u001b[0m\u001b[0mstorage_name\u001b[0m\u001b[0;34m,\u001b[0m \u001b[0mvalue\u001b[0m\u001b[0;34m)\u001b[0m\u001b[0;34m\u001b[0m\u001b[0m\n\u001b[1;32m     22\u001b[0m         \u001b[0;32melse\u001b[0m\u001b[0;34m:\u001b[0m\u001b[0;34m\u001b[0m\u001b[0m\n\u001b[0;32m---> 23\u001b[0;31m             \u001b[0;32mraise\u001b[0m \u001b[0mValueError\u001b[0m\u001b[0;34m(\u001b[0m\u001b[0;34m'value must be > 0'\u001b[0m\u001b[0;34m)\u001b[0m\u001b[0;34m\u001b[0m\u001b[0m\n\u001b[0m\u001b[1;32m     24\u001b[0m \u001b[0;34m\u001b[0m\u001b[0m\n\u001b[1;32m     25\u001b[0m \u001b[0;32mclass\u001b[0m \u001b[0mLineItem\u001b[0m\u001b[0;34m:\u001b[0m\u001b[0;34m\u001b[0m\u001b[0m\n",
      "\u001b[0;31mValueError\u001b[0m: value must be > 0"
     ]
    }
   ],
   "source": [
    "li = LineItem('example', 10, -1000)"
   ]
  },
  {
   "cell_type": "markdown",
   "metadata": {},
   "source": [
    "## LineItem 버전 #5\n",
    "\n",
    "* description에 빈 값 입력 방지     \n",
    "* (1) 관리 대상 객체의 저장소 속성을 관리, (2) 속성 설정하기 위한 값 검증 기능을 각각 AutoStorage, Validated로 나눔    \n",
    "\n",
    "![LineItem #5](../images/chap20_lineitem5.png)"
   ]
  },
  {
   "cell_type": "code",
   "execution_count": 9,
   "metadata": {},
   "outputs": [],
   "source": [
    "# 별도 모듈화 가능\n",
    "import abc\n",
    "\n",
    "\n",
    "class AutoStorage:\n",
    "    __counter = 0\n",
    "    \n",
    "    def __init__(self):\n",
    "        cls = self.__class__\n",
    "        prefix = cls.__name__\n",
    "        index = cls.__counter\n",
    "        self.storage_name = '_{}#{}'.format(prefix, index) \n",
    "        cls.__counter +=1 \n",
    "        \n",
    "    def __get__(self, instance, owner):\n",
    "        if instance is None:\n",
    "            return self\n",
    "        else:\n",
    "            return getattr(instance, self.storage_name)\n",
    "        \n",
    "    def __set__(self, instance, value):\n",
    "        setattr(instance, self.storage_name, value)\n",
    "        \n",
    "class Validated(abc.ABC, AutoStorage):\n",
    "    \n",
    "    def __set__(self, instance, value):\n",
    "        value = self.validate(instance, value)\n",
    "        super().__set__(instance, value)\n",
    "        \n",
    "    @abc.abstractmethod\n",
    "    def validate(slef, instance, value):\n",
    "        pass\n",
    "        \n",
    "class Quantity(Validated):\n",
    "    \n",
    "    def validate(self, instance, value):\n",
    "        if value < 0:\n",
    "            raise ValueError('value must be > 0')\n",
    "        return value\n",
    "    \n",
    "class NonBlank(Validated):\n",
    "    \n",
    "    def validate(self, instance, value):\n",
    "        value = value.strip()\n",
    "        if len(value) == 0:\n",
    "            raise ValueError('value cannot be empty or blank')\n",
    "        return value\n",
    "    \n",
    "class LineItem:\n",
    "    description = NonBlank()\n",
    "    weight = Quantity()\n",
    "    price = Quantity()\n",
    "    \n",
    "    def __init__(self, description, weight, price):\n",
    "        self.description = description\n",
    "        self.weight = weight\n",
    "        self.price = price\n",
    "        \n",
    "    def subtotal(self):\n",
    "        return self.weight * self.price"
   ]
  },
  {
   "cell_type": "code",
   "execution_count": 10,
   "metadata": {},
   "outputs": [
    {
     "ename": "ValueError",
     "evalue": "value cannot be empty or blank",
     "output_type": "error",
     "traceback": [
      "\u001b[0;31m---------------------------------------------------------------------------\u001b[0m",
      "\u001b[0;31mValueError\u001b[0m                                Traceback (most recent call last)",
      "\u001b[0;32m<ipython-input-10-31fbdda07bd4>\u001b[0m in \u001b[0;36m<module>\u001b[0;34m\u001b[0m\n\u001b[0;32m----> 1\u001b[0;31m \u001b[0mli\u001b[0m \u001b[0;34m=\u001b[0m \u001b[0mLineItem\u001b[0m\u001b[0;34m(\u001b[0m\u001b[0;34m''\u001b[0m\u001b[0;34m,\u001b[0m \u001b[0;36m10\u001b[0m\u001b[0;34m,\u001b[0m \u001b[0;36m1000\u001b[0m\u001b[0;34m)\u001b[0m\u001b[0;34m\u001b[0m\u001b[0m\n\u001b[0m",
      "\u001b[0;32m<ipython-input-9-7ad8df32d887>\u001b[0m in \u001b[0;36m__init__\u001b[0;34m(self, description, weight, price)\u001b[0m\n\u001b[1;32m     53\u001b[0m \u001b[0;34m\u001b[0m\u001b[0m\n\u001b[1;32m     54\u001b[0m     \u001b[0;32mdef\u001b[0m \u001b[0m__init__\u001b[0m\u001b[0;34m(\u001b[0m\u001b[0mself\u001b[0m\u001b[0;34m,\u001b[0m \u001b[0mdescription\u001b[0m\u001b[0;34m,\u001b[0m \u001b[0mweight\u001b[0m\u001b[0;34m,\u001b[0m \u001b[0mprice\u001b[0m\u001b[0;34m)\u001b[0m\u001b[0;34m:\u001b[0m\u001b[0;34m\u001b[0m\u001b[0m\n\u001b[0;32m---> 55\u001b[0;31m         \u001b[0mself\u001b[0m\u001b[0;34m.\u001b[0m\u001b[0mdescription\u001b[0m \u001b[0;34m=\u001b[0m \u001b[0mdescription\u001b[0m\u001b[0;34m\u001b[0m\u001b[0m\n\u001b[0m\u001b[1;32m     56\u001b[0m         \u001b[0mself\u001b[0m\u001b[0;34m.\u001b[0m\u001b[0mweight\u001b[0m \u001b[0;34m=\u001b[0m \u001b[0mweight\u001b[0m\u001b[0;34m\u001b[0m\u001b[0m\n\u001b[1;32m     57\u001b[0m         \u001b[0mself\u001b[0m\u001b[0;34m.\u001b[0m\u001b[0mprice\u001b[0m \u001b[0;34m=\u001b[0m \u001b[0mprice\u001b[0m\u001b[0;34m\u001b[0m\u001b[0m\n",
      "\u001b[0;32m<ipython-input-9-7ad8df32d887>\u001b[0m in \u001b[0;36m__set__\u001b[0;34m(self, instance, value)\u001b[0m\n\u001b[1;32m     25\u001b[0m \u001b[0;34m\u001b[0m\u001b[0m\n\u001b[1;32m     26\u001b[0m     \u001b[0;32mdef\u001b[0m \u001b[0m__set__\u001b[0m\u001b[0;34m(\u001b[0m\u001b[0mself\u001b[0m\u001b[0;34m,\u001b[0m \u001b[0minstance\u001b[0m\u001b[0;34m,\u001b[0m \u001b[0mvalue\u001b[0m\u001b[0;34m)\u001b[0m\u001b[0;34m:\u001b[0m\u001b[0;34m\u001b[0m\u001b[0m\n\u001b[0;32m---> 27\u001b[0;31m         \u001b[0mvalue\u001b[0m \u001b[0;34m=\u001b[0m \u001b[0mself\u001b[0m\u001b[0;34m.\u001b[0m\u001b[0mvalidate\u001b[0m\u001b[0;34m(\u001b[0m\u001b[0minstance\u001b[0m\u001b[0;34m,\u001b[0m \u001b[0mvalue\u001b[0m\u001b[0;34m)\u001b[0m\u001b[0;34m\u001b[0m\u001b[0m\n\u001b[0m\u001b[1;32m     28\u001b[0m         \u001b[0msuper\u001b[0m\u001b[0;34m(\u001b[0m\u001b[0;34m)\u001b[0m\u001b[0;34m.\u001b[0m\u001b[0m__set__\u001b[0m\u001b[0;34m(\u001b[0m\u001b[0minstance\u001b[0m\u001b[0;34m,\u001b[0m \u001b[0mvalue\u001b[0m\u001b[0;34m)\u001b[0m\u001b[0;34m\u001b[0m\u001b[0m\n\u001b[1;32m     29\u001b[0m \u001b[0;34m\u001b[0m\u001b[0m\n",
      "\u001b[0;32m<ipython-input-9-7ad8df32d887>\u001b[0m in \u001b[0;36mvalidate\u001b[0;34m(self, instance, value)\u001b[0m\n\u001b[1;32m     44\u001b[0m         \u001b[0mvalue\u001b[0m \u001b[0;34m=\u001b[0m \u001b[0mvalue\u001b[0m\u001b[0;34m.\u001b[0m\u001b[0mstrip\u001b[0m\u001b[0;34m(\u001b[0m\u001b[0;34m)\u001b[0m\u001b[0;34m\u001b[0m\u001b[0m\n\u001b[1;32m     45\u001b[0m         \u001b[0;32mif\u001b[0m \u001b[0mlen\u001b[0m\u001b[0;34m(\u001b[0m\u001b[0mvalue\u001b[0m\u001b[0;34m)\u001b[0m \u001b[0;34m==\u001b[0m \u001b[0;36m0\u001b[0m\u001b[0;34m:\u001b[0m\u001b[0;34m\u001b[0m\u001b[0m\n\u001b[0;32m---> 46\u001b[0;31m             \u001b[0;32mraise\u001b[0m \u001b[0mValueError\u001b[0m\u001b[0;34m(\u001b[0m\u001b[0;34m'value cannot be empty or blank'\u001b[0m\u001b[0;34m)\u001b[0m\u001b[0;34m\u001b[0m\u001b[0m\n\u001b[0m\u001b[1;32m     47\u001b[0m         \u001b[0;32mreturn\u001b[0m \u001b[0mvalue\u001b[0m\u001b[0;34m\u001b[0m\u001b[0m\n\u001b[1;32m     48\u001b[0m \u001b[0;34m\u001b[0m\u001b[0m\n",
      "\u001b[0;31mValueError\u001b[0m: value cannot be empty or blank"
     ]
    }
   ],
   "source": [
    "li = LineItem('', 10, 1000)"
   ]
  },
  {
   "cell_type": "markdown",
   "metadata": {},
   "source": [
    "## 오버라이딩 디스크립터와 논오버라이딩 디스크립터\n",
    "\n",
    "* 속성 처리의 비대칭성\n",
    "    * 속성을 읽을 때\n",
    "        * 객체에 정의된 속성 반환\n",
    "        * 객체에 없을 경우 클래스 속성 반환\n",
    "    * 속성 쓸 때\n",
    "        * 객체 안에 속성 만듦\n",
    "        * 클래스에 영향 미치지 않음\n",
    "        \n",
    "* 오버라이딩 디스크립터\n",
    "    * `__set__()` 메서드 구현하는 디스크립터\n",
    "    * 클래스 속성이지만 객체에 속성 할당하려는 시도 가로챔\n",
    "    * `__get__()`이 없을 수도 있음\n",
    "* 논오버라이딩 디스크립터\n",
    "    * `__set__()` 메서드 구현하지 않는 디스크립터\n",
    "    * 같은 이름의 객체 속성을 설정하면 디스크립터를 가려 디스크립터가 작동하지 않음\n",
    "    * 메서드에 이에 해당됨\n",
    "* 어떠한 디스크립터라도 클래스를 이용하면 덮어써짐 (멍키패칭)"
   ]
  },
  {
   "cell_type": "code",
   "execution_count": 17,
   "metadata": {},
   "outputs": [],
   "source": [
    "# 보조 함수\n",
    "def cls_name(obj_or_cls):\n",
    "    cls = type(obj_or_cls)\n",
    "    if cls is type:\n",
    "        cls = obj_or_cls\n",
    "    return cls.__name__.split('.')[-1]\n",
    "\n",
    "def display(obj):\n",
    "    cls = type(obj)\n",
    "    if cls is type:\n",
    "        return '<class {}>'.format(obj.__name__)\n",
    "    elif cls in [type(None), int]:\n",
    "        return repr(obj)\n",
    "    else:\n",
    "        return '{} object'.format(cls_name(obj))\n",
    "    \n",
    "def print_args(name, *args):\n",
    "    pseudo_args = ', '.join(display(x) for x in args)\n",
    "    print('-> {}.__{}__({})'.format(cls_name(args[0]), name, pseudo_args))\n",
    "    \n",
    "# 예제에서 중요한 클래스\n",
    "class Overriding:\n",
    "    \n",
    "    def __get__(self, instance, owner):\n",
    "        print_args('get', self, instance, owner)\n",
    "        \n",
    "    def __set__(self, instance, value):\n",
    "        print_args('set', self, instance, value)\n",
    "        \n",
    "class OverridingNoGet:\n",
    "    \n",
    "    def __set__(self, instance, value):\n",
    "        print_args('set', self, instance, value)\n",
    "        \n",
    "class NonOverriding:\n",
    "    \n",
    "    def __get__(self, instance, owner):\n",
    "        print_args('get', self, instance, owner)\n",
    "        \n",
    "class Managed:\n",
    "    over = Overriding()\n",
    "    over_no_get = OverridingNoGet()\n",
    "    non_over = NonOverriding()\n",
    "    \n",
    "    def spam(self):\n",
    "        print('-> Managed.spam({})'.format(display(self)))"
   ]
  },
  {
   "cell_type": "code",
   "execution_count": 21,
   "metadata": {},
   "outputs": [
    {
     "name": "stdout",
     "output_type": "stream",
     "text": [
      "-> Overriding.__get__(Overriding object, Managed object, <class Managed>)\n",
      "-> Overriding.__get__(Overriding object, None, <class Managed>)\n",
      "-> Overriding.__set__(Overriding object, Managed object, 7)\n",
      "-> Overriding.__get__(Overriding object, Managed object, <class Managed>)\n",
      "{'over': 8}\n",
      "-> Overriding.__get__(Overriding object, Managed object, <class Managed>)\n"
     ]
    }
   ],
   "source": [
    "# 오버라이딩 디스크립터\n",
    "obj = Managed()\n",
    "obj.over\n",
    "Managed.over\n",
    "obj.over = 7\n",
    "obj.over\n",
    "obj.__dict__['over'] = 8\n",
    "print(vars(obj))\n",
    "obj.over"
   ]
  },
  {
   "cell_type": "code",
   "execution_count": 23,
   "metadata": {},
   "outputs": [
    {
     "name": "stdout",
     "output_type": "stream",
     "text": [
      "-> OverridingNoGet.__set__(OverridingNoGet object, Managed object, 7)\n",
      "9\n",
      "-> OverridingNoGet.__set__(OverridingNoGet object, Managed object, 7)\n",
      "9\n"
     ]
    }
   ],
   "source": [
    "# __get__() 없는 오버라이딩 디스크립터\n",
    "obj.over_no_get\n",
    "Managed.over_no_get\n",
    "obj.over_no_get = 7\n",
    "obj.over_no_get\n",
    "obj.__dict__['over_no_get'] = 9\n",
    "print(obj.over_no_get)\n",
    "obj.over_no_get = 7\n",
    "print(obj.over_no_get)"
   ]
  },
  {
   "cell_type": "code",
   "execution_count": 24,
   "metadata": {},
   "outputs": [
    {
     "name": "stdout",
     "output_type": "stream",
     "text": [
      "-> NonOverriding.__get__(NonOverriding object, Managed object, <class Managed>)\n",
      "7\n",
      "-> NonOverriding.__get__(NonOverriding object, None, <class Managed>)\n",
      "-> NonOverriding.__get__(NonOverriding object, Managed object, <class Managed>)\n"
     ]
    }
   ],
   "source": [
    "# 논오버라이딩 디스크립터\n",
    "obj = Managed()\n",
    "obj.non_over\n",
    "obj.non_over = 7\n",
    "print(obj.non_over)\n",
    "Managed.non_over\n",
    "del obj.non_over\n",
    "obj.non_over"
   ]
  },
  {
   "cell_type": "code",
   "execution_count": 25,
   "metadata": {},
   "outputs": [
    {
     "data": {
      "text/plain": [
       "(1, 2, 3)"
      ]
     },
     "execution_count": 25,
     "metadata": {},
     "output_type": "execute_result"
    }
   ],
   "source": [
    "# 덮어쓰기\n",
    "obj = Managed()\n",
    "Managed.over = 1\n",
    "Managed.over_no_get = 2\n",
    "Managed.non_over = 3\n",
    "Managed.over, Managed.over_no_get,Managed.non_over"
   ]
  },
  {
   "cell_type": "code",
   "execution_count": 27,
   "metadata": {},
   "outputs": [
    {
     "name": "stdout",
     "output_type": "stream",
     "text": [
      "<bound method Managed.spam of <__main__.Managed object at 0x7f843403e860>>\n",
      "<function Managed.spam at 0x7f8434067048>\n",
      "7\n"
     ]
    }
   ],
   "source": [
    "# 논오버라이딩 디스크립터로서의 메소드\n",
    "obj = Managed()\n",
    "print(obj.spam) # 바인딩된 메서드 객체 반환\n",
    "print(Managed.spam)\n",
    "obj.spam = 7\n",
    "print(obj.spam)"
   ]
  },
  {
   "cell_type": "markdown",
   "metadata": {},
   "source": [
    "## 디스크립터 사용에 대한 조언\n",
    "* 코드를 간결하게 작성하기 위해 프로퍼티 사용\n",
    "* 읽기 전용 디스크립터는 `__set__()` 구현\n",
    "* 검증 디스크립터는 `__set__()`만 사용\n",
    "* 캐시는 `__get()__`에서 효율적으로 구현\n",
    "* 특별 메소드 이외 메소드는 객체 속성에 가려질 수 있음\n",
    "\n",
    "## 디스크립터의 문서화 문자열과 관리 대상 속성의 삭제\n",
    "* 디스크립터 클래스의 문서화 문자열 관리 대상 클래스에 있는 모든 디스크립터 객체를 문서화하기 사용\n",
    "* `__delete__()`를 통해 관리 대상 속성 삭제"
   ]
  }
 ],
 "metadata": {
  "kernelspec": {
   "display_name": "Python 3",
   "language": "python",
   "name": "python3"
  },
  "language_info": {
   "codemirror_mode": {
    "name": "ipython",
    "version": 3
   },
   "file_extension": ".py",
   "mimetype": "text/x-python",
   "name": "python",
   "nbconvert_exporter": "python",
   "pygments_lexer": "ipython3",
   "version": "3.6.3"
  }
 },
 "nbformat": 4,
 "nbformat_minor": 4
}
