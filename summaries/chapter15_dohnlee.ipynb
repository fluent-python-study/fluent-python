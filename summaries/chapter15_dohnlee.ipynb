{
 "cells": [
  {
   "cell_type": "code",
   "execution_count": 1,
   "metadata": {},
   "outputs": [],
   "source": [
    "import sys\n",
    "sys.path.append('../codes')"
   ]
  },
  {
   "cell_type": "markdown",
   "metadata": {},
   "source": [
    "# 15. 콘텍스트 관리자와 else 블록"
   ]
  },
  {
   "cell_type": "markdown",
   "metadata": {},
   "source": [
    "다른 언어에서 흔히 볼 수 없기 때문에 파이썬에서도 잘 사용되지 않는..(?) 기능들을 살펴봅니다.\n",
    "\n",
    "- `with`문과 콘텍스트 관리자\n",
    "- `for`, `while`, `try` 문에서의 `else` 블록"
   ]
  },
  {
   "cell_type": "markdown",
   "metadata": {},
   "source": [
    "## 15.0 `with`문"
   ]
  },
  {
   "cell_type": "markdown",
   "metadata": {},
   "source": [
    "- `with` 문은 콘텍스트 관리자 객체의 제어를 받아서 임시로 콘텍스트를 생성하고 신뢰성 있게 제어합니다.\n",
    "- 에러를 예방하고 반복되는 코드를 줄여주며, API를 안전하고 편리하게 사용할 수 있도록 만듭니다. "
   ]
  },
  {
   "cell_type": "markdown",
   "metadata": {},
   "source": [
    "## 15.1 이것 다음에 저것 : if 문 이외에서의 else 블록"
   ]
  },
  {
   "cell_type": "markdown",
   "metadata": {},
   "source": [
    "`else` 절은 `if` 문뿐만 아니라 `for`, `while`, `try` 문에서도 사용할 수 있습니다. \n",
    "\n",
    "__`for`__\n",
    "- `for`루프가 완전히 실행되면 `else` 블록이 실행됩니다."
   ]
  },
  {
   "cell_type": "code",
   "execution_count": 2,
   "metadata": {},
   "outputs": [
    {
     "ename": "ValueError",
     "evalue": "No 2 found",
     "output_type": "error",
     "traceback": [
      "\u001b[0;31m---------------------------------------------------------------------------\u001b[0m",
      "\u001b[0;31mValueError\u001b[0m                                Traceback (most recent call last)",
      "\u001b[0;32m<ipython-input-2-9078ba2327bb>\u001b[0m in \u001b[0;36m<module>\u001b[0;34m\u001b[0m\n\u001b[1;32m      4\u001b[0m         \u001b[0;32mbreak\u001b[0m\u001b[0;34m\u001b[0m\u001b[0;34m\u001b[0m\u001b[0m\n\u001b[1;32m      5\u001b[0m \u001b[0;32melse\u001b[0m\u001b[0;34m:\u001b[0m\u001b[0;34m\u001b[0m\u001b[0;34m\u001b[0m\u001b[0m\n\u001b[0;32m----> 6\u001b[0;31m     \u001b[0;32mraise\u001b[0m \u001b[0mValueError\u001b[0m\u001b[0;34m(\u001b[0m\u001b[0;34m'No 2 found'\u001b[0m\u001b[0;34m)\u001b[0m\u001b[0;34m\u001b[0m\u001b[0;34m\u001b[0m\u001b[0m\n\u001b[0m",
      "\u001b[0;31mValueError\u001b[0m: No 2 found"
     ]
    }
   ],
   "source": [
    "my_lst = [1,1,1,1,1,1]\n",
    "for item in my_lst:\n",
    "    if item == 2:\n",
    "        break\n",
    "else:\n",
    "    raise ValueError('No 2 found')"
   ]
  },
  {
   "cell_type": "markdown",
   "metadata": {},
   "source": [
    "__`while`__\n",
    "- `while` 루프를 빠져나온 후에 `else` 블록 실행"
   ]
  },
  {
   "cell_type": "code",
   "execution_count": 3,
   "metadata": {},
   "outputs": [
    {
     "name": "stdout",
     "output_type": "stream",
     "text": [
      "my_lst is empty\n"
     ]
    }
   ],
   "source": [
    "while my_lst:\n",
    "    my_lst.pop()\n",
    "else:\n",
    "    print('my_lst is empty')"
   ]
  },
  {
   "cell_type": "markdown",
   "metadata": {},
   "source": [
    "__`try`__\n",
    "- `try` 블록에서 예외가 발생하지 않을 때만 `else` 블록이 실행됩니다. \n",
    "- `else` 블록에서 발생한 예외는 `else` 블록 앞에 나오는 `except` 블록에서 처리되지 않습니다."
   ]
  },
  {
   "cell_type": "code",
   "execution_count": 4,
   "metadata": {},
   "outputs": [
    {
     "name": "stdout",
     "output_type": "stream",
     "text": [
      "name error\n"
     ]
    }
   ],
   "source": [
    "def after_call():\n",
    "    print('after call')\n",
    "try:\n",
    "    dangerous_call()\n",
    "    after_call()\n",
    "except NameError:\n",
    "    print('name error')"
   ]
  },
  {
   "cell_type": "markdown",
   "metadata": {},
   "source": [
    "`try` 문에서 `else`는 필요 없어 보일 수 있지만, 코드의 의도를 명확히 표현하기 위해 `else` 블록을 줍니다."
   ]
  },
  {
   "cell_type": "code",
   "execution_count": 5,
   "metadata": {},
   "outputs": [
    {
     "name": "stdout",
     "output_type": "stream",
     "text": [
      "name error\n"
     ]
    }
   ],
   "source": [
    "def after_call():\n",
    "    print('after call')\n",
    "try:\n",
    "    dangerous_call()\n",
    "except NameError:\n",
    "    print('name error')\n",
    "else:\n",
    "    after_call()"
   ]
  },
  {
   "cell_type": "markdown",
   "metadata": {},
   "source": [
    "파이썬에서는 `try`/`except` 를 예외 처리뿐만 아니라 일반적인 제어 흐름을 구현하기 위해서도 많이 사용합니다. "
   ]
  },
  {
   "cell_type": "markdown",
   "metadata": {},
   "source": [
    "__EAPP__\n",
    "\n",
    "_허락을 구하기보다 용서를 구하는 것이 더 쉽다._ 어떤 가정이 잘못되었을 때는 예외를 잡아서 처리하는 파이썬의 코딩스타일. `try`/`except` 문을 많이 사용합니다."
   ]
  },
  {
   "cell_type": "markdown",
   "metadata": {},
   "source": [
    "__LBYL__\n",
    "\n",
    "_누울 자리를 보고 다리를 뻗으라._ 호출이나 조회를 하기 전에 전제 조건을 명시적으로 검사합니다. EAFP와 대조적이며 `if`문을 많이 사용합니다."
   ]
  },
  {
   "cell_type": "markdown",
   "metadata": {},
   "source": [
    "## 15.2 콘텍스트 관리자와 `with` 블록"
   ]
  },
  {
   "cell_type": "markdown",
   "metadata": {},
   "source": [
    "반복자가 `for`문을 제어하기 위해 존재하는 것과 마찬가지로, 콘텍스트 관리자 객체는 `with` 문을 제어하기 위해 존재합니다."
   ]
  },
  {
   "cell_type": "markdown",
   "metadata": {},
   "source": [
    "`with` 문은 try/finally 패턴을 단순화하기 위해 설계되었습니다.\n",
    "\n",
    "> try/finally 패턴 : 예외, `return`, `sys.exit()` 호출 등의 이유로 어떤 블록의 실행이 중단되더라도 이후의 일정한 코드를 반드시 실행할 수 있도록 보장 \n",
    ">\n",
    ">일반적으로 finally 절 안에 있는 코드는 중요한 리소스를 해제하거나 임시로 변경된 상태를 복원하기 위해 사용"
   ]
  },
  {
   "cell_type": "markdown",
   "metadata": {},
   "source": [
    "콘텍스트 관리자 프로토콜은 `__enter__()`와 `__exit__()` 메서드로 구성. \n",
    "\n",
    "`with`문이 시작될 때 콘텍스트 관리자 객체의 `__enter__()` 메서드가 호출. 이 메서드는 `with` 블록의 끝에서 finally 절의 역할을 수행"
   ]
  },
  {
   "cell_type": "code",
   "execution_count": 6,
   "metadata": {},
   "outputs": [],
   "source": [
    "# ex 15.1 콘텍스트 관리자로서 파일 객체의 사용 예\n",
    "with open('../codes/zen.txt') as fp:\n",
    "    src = fp.read(60)"
   ]
  },
  {
   "cell_type": "markdown",
   "metadata": {},
   "source": [
    "파일의 `__enter__()` 메서드가 `self`를 반환하므로 `fp`는 열린 파일에 바인딩 됩니다."
   ]
  },
  {
   "cell_type": "code",
   "execution_count": 7,
   "metadata": {},
   "outputs": [
    {
     "data": {
      "text/plain": [
       "60"
      ]
     },
     "execution_count": 7,
     "metadata": {},
     "output_type": "execute_result"
    }
   ],
   "source": [
    "len(src)"
   ]
  },
  {
   "cell_type": "code",
   "execution_count": 8,
   "metadata": {},
   "outputs": [
    {
     "data": {
      "text/plain": [
       "<_io.TextIOWrapper name='../codes/zen.txt' mode='r' encoding='UTF-8'>"
      ]
     },
     "execution_count": 8,
     "metadata": {},
     "output_type": "execute_result"
    }
   ],
   "source": [
    "fp"
   ]
  },
  {
   "cell_type": "code",
   "execution_count": 9,
   "metadata": {},
   "outputs": [
    {
     "data": {
      "text/plain": [
       "(True, 'UTF-8')"
      ]
     },
     "execution_count": 9,
     "metadata": {},
     "output_type": "execute_result"
    }
   ],
   "source": [
    "fp.closed, fp.encoding"
   ]
  },
  {
   "cell_type": "markdown",
   "metadata": {},
   "source": [
    "`fp` 변수는 여전히 살아 있습니다."
   ]
  },
  {
   "cell_type": "code",
   "execution_count": 10,
   "metadata": {},
   "outputs": [
    {
     "ename": "ValueError",
     "evalue": "I/O operation on closed file.",
     "output_type": "error",
     "traceback": [
      "\u001b[0;31m---------------------------------------------------------------------------\u001b[0m",
      "\u001b[0;31mValueError\u001b[0m                                Traceback (most recent call last)",
      "\u001b[0;32m<ipython-input-10-132011e948ad>\u001b[0m in \u001b[0;36m<module>\u001b[0;34m\u001b[0m\n\u001b[0;32m----> 1\u001b[0;31m \u001b[0mfp\u001b[0m\u001b[0;34m.\u001b[0m\u001b[0mread\u001b[0m\u001b[0;34m(\u001b[0m\u001b[0;36m60\u001b[0m\u001b[0;34m)\u001b[0m\u001b[0;34m\u001b[0m\u001b[0;34m\u001b[0m\u001b[0m\n\u001b[0m",
      "\u001b[0;31mValueError\u001b[0m: I/O operation on closed file."
     ]
    }
   ],
   "source": [
    "fp.read(60)"
   ]
  },
  {
   "cell_type": "markdown",
   "metadata": {},
   "source": [
    "`with` 블록이 끝날 때 `TextIOWrapper.__exit__()` 메서드가 호출되어 파일을 닫으므로 fp를 이용해서 파일 입출력을 할 수 없습니다."
   ]
  },
  {
   "cell_type": "markdown",
   "metadata": {},
   "source": [
    "- `open()` 함수가 `TextIOWrapper` 객체를 반환하고, 이 객체의 `__enter__()` 메서드는 `self`를 반환합니다.\n",
    "- `with` 문을 빠져나온 후에는 `__enter__()` 메서드가 반환한 객체가 아니라 콘텍스트 관리자 객체의 `__exit__()` 메서드가 호출\n",
    "- `with`문의 `as`절은 선택적 `open()` 의 경우, 파일에 대한 참조가 필요하지만, 사용자에게 반환할 적절한 객체가 없어 `None`을 반환할 수도 있음"
   ]
  },
  {
   "cell_type": "code",
   "execution_count": 11,
   "metadata": {},
   "outputs": [
    {
     "name": "stdout",
     "output_type": "stream",
     "text": [
      "pordwonS dna yttiK ,ecilA\n",
      "YKCOWREBBAJ\n"
     ]
    }
   ],
   "source": [
    "# ex 15.2 LookingGlass 콘텍스트 관리자 클래스의 시험 주행\n",
    "from mirror import LookingGlass\n",
    "with LookingGlass() as what:\n",
    "    print('Alice, Kitty and Snowdrop')\n",
    "    print(what)"
   ]
  },
  {
   "cell_type": "markdown",
   "metadata": {},
   "source": [
    "`LookingGlass` 객체가 콘텍스트 관리자입니다. 파이썬은 콘텍스트 관리자의 `__enter__()` 메서드를 호출해서 반환된 값을 `what`에 바인딩합니다."
   ]
  },
  {
   "cell_type": "code",
   "execution_count": 12,
   "metadata": {},
   "outputs": [
    {
     "data": {
      "text/plain": [
       "'JABBERWOCKY'"
      ]
     },
     "execution_count": 12,
     "metadata": {},
     "output_type": "execute_result"
    }
   ],
   "source": [
    "what"
   ]
  },
  {
   "cell_type": "markdown",
   "metadata": {},
   "source": [
    "`with` 블록이 끝났으니 `__enter__()`가 반환해서 `what`에 저장한 문자열 `JABBERWOCKY`를 제대로 출력할 수 있습니다."
   ]
  },
  {
   "cell_type": "code",
   "execution_count": 13,
   "metadata": {},
   "outputs": [
    {
     "name": "stdout",
     "output_type": "stream",
     "text": [
      "Back to normal.\n"
     ]
    }
   ],
   "source": [
    "print('Back to normal.')"
   ]
  },
  {
   "cell_type": "code",
   "execution_count": 14,
   "metadata": {},
   "outputs": [
    {
     "name": "stdout",
     "output_type": "stream",
     "text": [
      "class LookingGlass:\r\n",
      "    def __enter__(self):\r\n",
      "        import sys\r\n",
      "        self.original_write = sys.stdout.write\r\n",
      "        sys.stdout.write = self.reverse_write\r\n",
      "        return 'JABBERWOCKY'\r\n",
      "\r\n",
      "    def reverse_write(self, text):\r\n",
      "        self.original_write(text[::-1])\r\n",
      "\r\n",
      "    def __exit__(self, exc_type, exc_value, traceback):\r\n",
      "        import sys\r\n",
      "        sys.stdout.write = self.original_write\r\n",
      "        if exc_type is ZeroDivisionError:\r\n",
      "            print('Please DO NOT divide by zero!')\r\n",
      "            return True\r\n"
     ]
    }
   ],
   "source": [
    "!cat ../codes/mirror.py"
   ]
  },
  {
   "cell_type": "markdown",
   "metadata": {},
   "source": [
    "파이썬 인터프리터는 `__enter__()` 메서드를 호출할 때 `self` 이외의 인수는 전달하지 않습니다. \n",
    "\n",
    "`__exit__()` 메서드를 호출할 때는 다음 세 인수를 전달합니다. \n",
    "\n",
    "- `exc_type` : `ZeroDivisionError` 등의 예외 클래스\n",
    "- `exc_value` : 예외 객체, 예외 메시지 등 `exception()` 생성자에 전달된 인수는 `exc_value.args` 속성을 이용해서 볼 수 있습니다. \n",
    "- `traceback` : traceback 객체"
   ]
  },
  {
   "cell_type": "code",
   "execution_count": 15,
   "metadata": {},
   "outputs": [
    {
     "data": {
      "text/plain": [
       "<mirror.LookingGlass at 0x7fd1fa970210>"
      ]
     },
     "execution_count": 15,
     "metadata": {},
     "output_type": "execute_result"
    }
   ],
   "source": [
    "# ex 15.4 with 블록 없이 LookingGlass 사용하기\n",
    "from mirror import LookingGlass\n",
    "manager = LookingGlass()\n",
    "manager"
   ]
  },
  {
   "cell_type": "code",
   "execution_count": 16,
   "metadata": {},
   "outputs": [
    {
     "data": {
      "text/plain": [
       "True"
      ]
     },
     "execution_count": 16,
     "metadata": {},
     "output_type": "execute_result"
    }
   ],
   "source": [
    "monster = manager.__enter__()\n",
    "monster == 'JABBERWOCKY'"
   ]
  },
  {
   "cell_type": "code",
   "execution_count": 17,
   "metadata": {},
   "outputs": [
    {
     "data": {
      "text/plain": [
       "'JABBERWOCKY'"
      ]
     },
     "execution_count": 17,
     "metadata": {},
     "output_type": "execute_result"
    }
   ],
   "source": [
    "monster"
   ]
  },
  {
   "cell_type": "code",
   "execution_count": 18,
   "metadata": {},
   "outputs": [
    {
     "data": {
      "text/plain": [
       "<mirror.LookingGlass at 0x7fd1fa970210>"
      ]
     },
     "execution_count": 18,
     "metadata": {},
     "output_type": "execute_result"
    }
   ],
   "source": [
    "manager"
   ]
  },
  {
   "cell_type": "code",
   "execution_count": 19,
   "metadata": {},
   "outputs": [],
   "source": [
    "manager.__exit__(None, None, None)"
   ]
  },
  {
   "cell_type": "code",
   "execution_count": 20,
   "metadata": {},
   "outputs": [
    {
     "data": {
      "text/plain": [
       "'JABBERWOCKY'"
      ]
     },
     "execution_count": 20,
     "metadata": {},
     "output_type": "execute_result"
    }
   ],
   "source": [
    "monster"
   ]
  },
  {
   "cell_type": "markdown",
   "metadata": {},
   "source": [
    "콘텍스트 관리자는 상당히 독특한 기능으로서, 느리지만 이 기능을 활용하기 위해 노력하고 있습니다.\n",
    "- `sqlite3` 모듈의 트랜잭션 관리\n",
    "- `threading` 코드에서 `lock`, `condition`, `semaphore` 보관\n",
    "- `Decimal` 객체의 산술 연산 환경 설정\n",
    "- 객체의 테스트를 위한 임시 패치 적용"
   ]
  },
  {
   "cell_type": "markdown",
   "metadata": {},
   "source": [
    "### 15.3 `contextlib` 유틸리티"
   ]
  },
  {
   "cell_type": "markdown",
   "metadata": {},
   "source": [
    "`contextlib` 모듈에는 `redirect_stdout` 외에도 다양하게 응용할 수 있는 클래스와 함수가 있습니다.\n",
    "\n",
    "- `closing()` :  `close()` 메서드는 제공하지만 `__enter__()`/`__exit__()` 프로토콜을 구현하지 않는 객체로부터 콘텍스트 관리자를 생성하는 함수\n",
    "\n",
    "\n",
    "- `suppress` : 지정한 예외를 임시로 무시하는 콘텍스트 관리자\n",
    "\n",
    "\n",
    "- `@contextmanager` : 클래스를 생성하고 프로토콜을 구현하는 대신, 간단한 제너레이터 함수로부터 콘텍스트 관리자를 생성할 수 있게 해주는 데커레이터\n",
    "\n",
    "\n",
    "- `ContextDecorator` : 콘텍스트 관리자를 함수 데커레이터로도 사용할 수 있게 해주는 기반 클래스\n",
    "\n",
    "\n",
    "- `ExitStack` : 여러 콘텍스트 관리자를 입력할 수 있게 해주는 콘텍스트 관리자. `with` 블록이 끝나면 `ExitStack`은 누적된 콘텍스트 관리자를 관리자들의 `__exit__()` 메서드를 LIFO순서로 호출합니다."
   ]
  },
  {
   "cell_type": "markdown",
   "metadata": {},
   "source": [
    "### 15.4 `@contextmanager` 사용하기 "
   ]
  },
  {
   "cell_type": "markdown",
   "metadata": {},
   "source": [
    "`@contextmanager` 데커레이터는 콘텍스트 관리자를 생성할 때 작성하는 코드를 줄여줍니다.\n",
    "\n",
    "`__enter__()`와 `__exit__()` 메서드를 가진 클래스 전체를 구현하는 대신 `__enter__()` 메서드가 반환할 것을 생성하는 `yield` 문 하나를 가진 제너레이터만 구현하면 됩니다. "
   ]
  },
  {
   "cell_type": "code",
   "execution_count": 21,
   "metadata": {},
   "outputs": [
    {
     "name": "stdout",
     "output_type": "stream",
     "text": [
      "import contextlib\r\n",
      "\r\n",
      "@contextlib.contextmanager #1\r\n",
      "def looking_glass():\r\n",
      "    import sys\r\n",
      "    original_write = sys.stdout.write #2\r\n",
      "    \r\n",
      "    def reverse_write(text): #3\r\n",
      "        original_write(text[::-1])\r\n",
      "        \r\n",
      "    sys.stdout.write = reverse_write #4\r\n",
      "    yield 'JABBERWOCKY' #5\r\n",
      "    sys.stdout.write = original_write #6\r\n"
     ]
    }
   ],
   "source": [
    "!cat ../codes/mirror_gen.py"
   ]
  },
  {
   "cell_type": "markdown",
   "metadata": {},
   "source": [
    "1. `@contextmanager` 데커레이터를 적용합니다.\n",
    "\n",
    "\n",
    "2. 원래의 `sys.stdout.write()` 메서드를 보관합니다.\n",
    "\n",
    "\n",
    "3. `reverse_write()` 함수를 정의. `original_write()`는 클로저를 통해 접근할 수 있습니다.\n",
    "\n",
    "\n",
    "4. `sys.stdout.write()`를 `reverse_write()`로 교체\n",
    "\n",
    "\n",
    "5. `with` 문의 `as` 절에 있는 타깃 변수에 바인딩될 값을 생성. `with` 문의 본체가 실행되는 동안 이 함수는 여기서 실행을 일시 중단\n",
    "\n",
    "\n",
    "6. 제어 흐름이 `with` 블록을 빠져나오면 `yield` 문 이후의 코드가 실행. 여기서는 원래의 `sys.stdout.write()` 메서드를 복원"
   ]
  },
  {
   "cell_type": "markdown",
   "metadata": {},
   "source": [
    "여기서 `yield`는 함수를 두 부분으로 나누기 위해 사용됩니다.\n",
    "\n",
    "`yield` 이전은 `with` 블록 앞에서 인터프리터가 `__enter__()`를 호출할 때 실행되고, 이후는 블록의 마지막에서 `__exit__()`가 호출될 때 실행됩니다."
   ]
  },
  {
   "cell_type": "code",
   "execution_count": 22,
   "metadata": {},
   "outputs": [
    {
     "name": "stdout",
     "output_type": "stream",
     "text": [
      "pordwonS dna yttiK ,ecilA\n",
      "YKCOWREBBAJ\n"
     ]
    }
   ],
   "source": [
    "## ex 15-6\n",
    "from mirror_gen import looking_glass\n",
    "with looking_glass() as what:\n",
    "    print('Alice, Kitty and Snowdrop')\n",
    "    print(what)"
   ]
  },
  {
   "cell_type": "code",
   "execution_count": 23,
   "metadata": {},
   "outputs": [
    {
     "data": {
      "text/plain": [
       "'JABBERWOCKY'"
      ]
     },
     "execution_count": 23,
     "metadata": {},
     "output_type": "execute_result"
    }
   ],
   "source": [
    "what"
   ]
  },
  {
   "cell_type": "markdown",
   "metadata": {},
   "source": [
    "이 클래스의 `__enter__()` 메서드는 다음과 같은 단계를 실행합니다.\n",
    "1. 제너레이터 함수를 호출해서 제너레이터 객체를 보관\n",
    "2. `next(gen)`을 호출해서 `yield` 키워드 앞까지 실행\n",
    "3. `next(gen)`이 생성한 값을 반환해서, 이 값이 `as` 절의 타깃 변수에 바인딩 되게 합니다."
   ]
  },
  {
   "cell_type": "markdown",
   "metadata": {},
   "source": [
    "이 클래스의 `__exit__()` 메서드는 다음과 같은 단계를 실행합니다.\n",
    "1. `exc_type`에 예외가 전달되었는지 확인. 만일 그렇다면 제너레이터 함수 본체 안에 있는 `yiled` 행에서 `gen.throw(exception)`를 실행해서 예외를 발생 시킨 것\n",
    "2. 그렇지 않다면 `next(gen)`을 호출해서 제너레이터 함수 본체 안의 `yield` 다음의 코드를 계속 실행"
   ]
  },
  {
   "cell_type": "markdown",
   "metadata": {},
   "source": [
    "#### 예외 처리를 구현한 제너레이터 기반 콘텍스트 관리자"
   ]
  },
  {
   "cell_type": "code",
   "execution_count": 24,
   "metadata": {},
   "outputs": [
    {
     "name": "stdout",
     "output_type": "stream",
     "text": [
      "import contextlib\r\n",
      "\r\n",
      "@contextlib.contextmanager\r\n",
      "def looking_glass():\r\n",
      "    import sys\r\n",
      "    original_write = sys.stdout.write\r\n",
      "    \r\n",
      "    def reverse_write(text):\r\n",
      "        original_write(text[::-1])\r\n",
      "    \r\n",
      "    sys.stdout.write = reverse_write\r\n",
      "    msg = '' #1\r\n",
      "    try:\r\n",
      "        yield 'JABBERWOCKY'\r\n",
      "    except ZeroDivisionError: #2\r\n",
      "        msg = 'Please DO NOT divice by zero !'\r\n",
      "    finally:\r\n",
      "        sys.stdout.write = original_write #3\r\n",
      "        if msg:\r\n",
      "            print(msg) #4\r\n"
     ]
    }
   ],
   "source": [
    "! cat ../codes/mirror_gen_exc.py"
   ]
  },
  {
   "cell_type": "markdown",
   "metadata": {},
   "source": [
    "1. 에러 메시지에 대한 변수\n",
    "\n",
    "\n",
    "2. 에러 메시지를 설정해서 `ZeroDivisionError` 처리\n",
    "\n",
    "\n",
    "3. 멍키 패칭한 `sys.stdout.write()` 를 원래대로 복원\n",
    "\n",
    "\n",
    "4. 에러 메시지가 설정되어 있으면 출력"
   ]
  },
  {
   "cell_type": "markdown",
   "metadata": {},
   "source": [
    "`__exit__()` 메서드는 예외 처리를 완료했음을 인터프리터에 알려주기 위해 `True`를 반환합니다.\n",
    "\n",
    "`True`가 반환되면 인터프리터는 예외를 전파하지 않고 억제합니다. 한편 `__exit__()`가 명시적으로 값을 반환하지 않으면 인터프리터가 `None`을 받으므로 예외를 전파합니다.\n",
    "\n",
    "데커레이터가 제공하는 `__exit__()` 메서드는 제너레이터에 전달된 예외가 모두 처리되었으므로 억제해야 한다고 생각합니다."
   ]
  },
  {
   "cell_type": "markdown",
   "metadata": {},
   "source": [
    "```\n",
    "## ex 15-8\n",
    "import csv\n",
    "\n",
    "with inplace(csv_fname, 'r', newline='') as (infh, outfh):\n",
    "    reader = csv.reader(infh)\n",
    "    writer = csv.writer(outfh)\n",
    "    \n",
    "    for row in reader:\n",
    "        row += ['new', 'columns']\n",
    "        writer.writerow(row)\n",
    "        \n",
    "```"
   ]
  },
  {
   "cell_type": "markdown",
   "metadata": {},
   "source": [
    "`inplace()` 함수가 콘텍스트 관리자며, 동일한 파일에 대해 두 개의 핸들(`infh`, `outfh`) 을 반환함으로써 파일을 동시에 읽고 쓸 수 있게 해줍니다. \n",
    "\n",
    "\n",
    "이 코드는 마르틴 피터스가 작성한 __파일 덮어쓰기 콘텍스트 관리자__ 입니다. http://bit.ly/1MM96aR\n",
    "\n",
    "\n",
    "이 코드를 분석하고 싶으면 `yield` 키워드를 찾아서, 앞의 코드는 콘텍스트를 설정하고, 백업 파일을 생성하고, 파일을 연 후에 `__enter__()`가 호출되면 반환할 읽기/쓰기 용 파일 핸들에 대한 참조를 생성합니다. \n",
    "\n",
    "\n",
    "`__exit__()` 가 수행하는 `yield` 뒤의 코드는 파일을 닫고, 문제가 생긴 경우에는 백업 파일로 복구하는 작업을 수행합니다. "
   ]
  },
  {
   "cell_type": "markdown",
   "metadata": {},
   "source": [
    "### 15.5 요약\n",
    "\n",
    "1. `for`, `while`, `try` 문에서 사용하는 `else` 블록\n",
    "\n",
    "\n",
    "2. 콘텍스트 관리자와 `with` 문의 의미. \n",
    "> `with`문이 단지 리소스 관리를 위한 것이 아니라, 공통적인 준비와 마무리 작업 또는 다른 프로시저의 전과 후에 수행해야 할 연산을 인수 분해하는 도구 .... ? by 레이몬드 헤팅거. PyCon US 2013\n",
    "\n",
    "\n",
    "3. `contextlib` 표준 라이브러리 모듈에 있는 함수들. 그 중 `@contextmanager`\n",
    "\n",
    "\n"
   ]
  }
 ],
 "metadata": {
  "kernelspec": {
   "display_name": "Python 3",
   "language": "python",
   "name": "python3"
  },
  "language_info": {
   "codemirror_mode": {
    "name": "ipython",
    "version": 3
   },
   "file_extension": ".py",
   "mimetype": "text/x-python",
   "name": "python",
   "nbconvert_exporter": "python",
   "pygments_lexer": "ipython3",
   "version": "3.7.6"
  }
 },
 "nbformat": 4,
 "nbformat_minor": 4
}
