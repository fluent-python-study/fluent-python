{
 "cells": [
  {
   "cell_type": "code",
   "execution_count": 1,
   "metadata": {},
   "outputs": [],
   "source": [
    "import os\n",
    "os.chdir('../')"
   ]
  },
  {
   "cell_type": "markdown",
   "metadata": {},
   "source": [
    "# 17. Future를 이용한 동시성"
   ]
  },
  {
   "cell_type": "markdown",
   "metadata": {},
   "source": [
    "이 장에서는 `futures` 패키지를 통해 사용할 수 있는 `concurrent.futures` 라이브러리를 중점적으로 알아봅니다. "
   ]
  },
  {
   "cell_type": "markdown",
   "metadata": {},
   "source": [
    "## 17.1 예제: 세 가지 스타일의 웹 내려받기"
   ]
  },
  {
   "cell_type": "markdown",
   "metadata": {},
   "source": [
    "긴 지연 시간 동안 cpu를 낭비하지 않기 위해 우리는 __동시성__을 이용해야 합니다. \n",
    "\n",
    "__네트워크에서 응답이 오는 동안 다른 일을 처리하는 것이 좋습니다.__"
   ]
  },
  {
   "cell_type": "markdown",
   "metadata": {},
   "source": [
    "#### ex 17.1 flags.py, flags_threadpool.py, flags_asyncio.py\n",
    "\n",
    "https://www.youtube.com/watch?v=A9e9Cy1UkME\n",
    "\n",
    "위는 국기 이미지를 다운 받는 코드를 수행하는 예제입니다. \n",
    "\n",
    "국기 코드의 순서에 집중하면서 영상을 보면 되는데 동시성을 지원하는 `flags_threadpool.py` 나 `flags_asyncio.py` 를 실행하면 내려받을 때마다 국기의 순서가 달라지는 것을 확인할 수 있습니다. \n",
    "\n",
    "동시성을 활용하면 순차적으로 처리하는 것보다 빠른 속도를 보여줍니다."
   ]
  },
  {
   "cell_type": "markdown",
   "metadata": {},
   "source": [
    ">웹 서버에 동시에 수많은 HTTP 요청을 보내는 경우 의도치 않게 DoS 공격으로 인식될 수 있습니다. 따라서 상당히 부하를 주는 HTTP 클라이언트를 테스트하는 경우에는 직접 서버를 만드는 것이 좋습니다."
   ]
  },
  {
   "cell_type": "markdown",
   "metadata": {},
   "source": [
    "### 17.1.1 순차 내려받기 스크립트"
   ]
  },
  {
   "cell_type": "code",
   "execution_count": 5,
   "metadata": {},
   "outputs": [
    {
     "name": "stdout",
     "output_type": "stream",
     "text": [
      "\"\"\"Download flags of top 20 countries by population\r\n",
      "\r\n",
      "Sequential version\r\n",
      "\r\n",
      "Sample run::\r\n",
      "\r\n",
      "    $ python3 flags.py\r\n",
      "    BD BR CD CN DE EG ET FR ID IN IR JP MX NG PH PK RU TR US VN\r\n",
      "    20 flags downloaded in 10.16s\r\n",
      "\r\n",
      "\"\"\"\r\n",
      "# BEGIN FLAGS_PY\r\n",
      "import os\r\n",
      "import time\r\n",
      "import sys\r\n",
      "\r\n",
      "import requests  # <1>\r\n",
      "\r\n",
      "POP20_CC = ('CN IN US ID BR PK NG BD RU JP '\r\n",
      "            'MX PH VN ET EG DE IR TR CD FR').split()  # <2>\r\n",
      "\r\n",
      "BASE_URL = 'http://flupy.org/data/flags'  # <3>\r\n",
      "\r\n",
      "DEST_DIR = 'downloads/'  # <4>\r\n",
      "\r\n",
      "\r\n",
      "def save_flag(img, filename):  # <5>\r\n",
      "    path = os.path.join(DEST_DIR, filename)\r\n",
      "    with open(path, 'wb') as fp:\r\n",
      "        fp.write(img)\r\n",
      "\r\n",
      "\r\n",
      "def get_flag(cc):  # <6>\r\n",
      "    url = '{}/{cc}/{cc}.gif'.format(BASE_URL, cc=cc.lower())\r\n",
      "    resp = requests.get(url)\r\n",
      "    return resp.content\r\n",
      "\r\n",
      "\r\n",
      "def show(text):  # <7>\r\n",
      "    print(text, end=' ')\r\n",
      "    sys.stdout.flush()\r\n",
      "\r\n",
      "\r\n",
      "def download_many(cc_list):  # <8>\r\n",
      "    for cc in sorted(cc_list):  # <9>\r\n",
      "        image = get_flag(cc)\r\n",
      "        show(cc)\r\n",
      "        save_flag(image, cc.lower() + '.gif')\r\n",
      "\r\n",
      "    return len(cc_list)\r\n",
      "\r\n",
      "\r\n",
      "def main(download_many):  # <10>\r\n",
      "    t0 = time.time()\r\n",
      "    count = download_many(POP20_CC)\r\n",
      "    elapsed = time.time() - t0\r\n",
      "    msg = '\\n{} flags downloaded in {:.2f}s'\r\n",
      "    print(msg.format(count, elapsed))\r\n",
      "\r\n",
      "\r\n",
      "if __name__ == '__main__':\r\n",
      "    main(download_many)  # <11>\r\n",
      "# END FLAGS_PY\r\n"
     ]
    }
   ],
   "source": [
    "! cat codes/flags.py"
   ]
  },
  {
   "cell_type": "markdown",
   "metadata": {},
   "source": [
    "- `requests` 라이브러리를 사용합니다.\n",
    "- `download_many` <8> 코드가 동시성을 사용하는 코드와의 큰 차이점입니다. 단순히 for loop을 통해 순차적으로 국기를 다운받고 저장합니다."
   ]
  },
  {
   "cell_type": "markdown",
   "metadata": {},
   "source": [
    "### 17.1.2 `concurrent.futures`로 내려받기"
   ]
  },
  {
   "cell_type": "markdown",
   "metadata": {},
   "source": [
    "`futures` 패키지의 가장 큰 특징\n",
    "\n",
    "- `ThreadPoolExecutor`\n",
    "- `ProcessPoolExecutor`\n",
    "\n",
    "콜러블 객체를 여러 스레드나 프로세스에서 실행하는 인터페이스를 구현"
   ]
  },
  {
   "cell_type": "code",
   "execution_count": 6,
   "metadata": {},
   "outputs": [
    {
     "name": "stdout",
     "output_type": "stream",
     "text": [
      "\"\"\"Download flags of top 20 countries by population\r\n",
      "\r\n",
      "ThreadPoolExecutor version\r\n",
      "\r\n",
      "Sample run::\r\n",
      "\r\n",
      "    $ python3 flags_threadpool.py\r\n",
      "    BD retrieved.\r\n",
      "    EG retrieved.\r\n",
      "    CN retrieved.\r\n",
      "    ...\r\n",
      "    PH retrieved.\r\n",
      "    US retrieved.\r\n",
      "    IR retrieved.\r\n",
      "    20 flags downloaded in 0.93s\r\n",
      "\r\n",
      "\"\"\"\r\n",
      "# BEGIN FLAGS_THREADPOOL\r\n",
      "from concurrent import futures\r\n",
      "\r\n",
      "from flags import save_flag, get_flag, show, main  # <1>\r\n",
      "\r\n",
      "MAX_WORKERS = 20  # <2>\r\n",
      "\r\n",
      "\r\n",
      "def download_one(cc):  # <3>\r\n",
      "    image = get_flag(cc)\r\n",
      "    show(cc)\r\n",
      "    save_flag(image, cc.lower() + '.gif')\r\n",
      "    return cc\r\n",
      "\r\n",
      "\r\n",
      "def download_many(cc_list):\r\n",
      "    workers = min(MAX_WORKERS, len(cc_list))  # <4>\r\n",
      "    with futures.ThreadPoolExecutor(workers) as executor:  # <5>\r\n",
      "        res = executor.map(download_one, sorted(cc_list))  # <6>\r\n",
      "\r\n",
      "    return len(list(res))  # <7>\r\n",
      "\r\n",
      "\r\n",
      "if __name__ == '__main__':\r\n",
      "    main(download_many)  # <8>\r\n",
      "# END FLAGS_THREADPOOL\r\n"
     ]
    }
   ],
   "source": [
    "!cat codes/flags_threadpool.py"
   ]
  },
  {
   "cell_type": "markdown",
   "metadata": {},
   "source": [
    "- <2> `ThreadPoolExecutor`에서 사용할 최대 스레드 수\n",
    "- <5> 사용할 스레드 수를 executor에 전달해서 객체를 생성 `executor.__exit__()` 메서드는 `executor.shutdown(wait=True)`를 호출\n",
    "- <6> 여러 스레드에 함수를 적용시켜 각 함수가 반환한 값을 가져오는 제너레이터 반환\n",
    "- <7> 결과 길이 반환 -- 만약 멀티 스레딩 중 에러 발생했으면 암묵적으로 호출된 `next()`에서 에러가 발생"
   ]
  },
  {
   "cell_type": "markdown",
   "metadata": {},
   "source": [
    "### 17.1.3 Future는 어디에 있나?\n",
    "\n",
    "`Future`는 `concurrent.futures`와 `asyncio`의 내부에 있는 핵심 컴퍼넌트 입니다. 암묵적으로 `Future`를 사용하지만 위의 예제에서는 드러나있지는 않습니다.\n",
    "\n",
    "파이썬 3.4 표준 라이브러리에서 `Future`라는 이름을 가진 클래스는 `concurrent.futures.Future`와 `asyncio.Future`가 있습니다. 두 클래스의 객체는 지연된 계산을 표현하기 위해 사용됩니다. \n",
    "\n",
    "`Future`는 대기 중인 작업을 큐에 넣고, 완료 상태를 조사하고, 결과를 가져올 수 있도록 캡슐화합니다. \n",
    "\n",
    "#### 일반적으로 `Future` 객체를 직접 생성하면 안됩니다. \n",
    "`Future` 객체는 `concurrent.futures`나 `asyncio` 같은 동시성 프레임워크에서만 배타적으로 생성해야 합니다. \n",
    "\n",
    "따라서 `Future` 객체는 `Executor`의 서브클래스로 실행을 스케줄링한 후에만 생성됩니다.\n",
    "> `Executor.submit()` 메서드는 콜러블을 받아서, 이 콜러블의 실행을 스케줄링하고, `Future` 객체를 반환합니다. \n",
    "\n",
    "#### `Future` 클래스는 논블로킹 방식입니다.  ( `done()` 메서드 )\n",
    "\n",
    "- 논블로킹(Non-blocking)\n",
    "\n",
    "논블러킹은 말 그대로 중단되지 않는다는 말. 통신이 완료 될 때까지 중단되는 블로킹의 반대 개념이다.\n",
    "\n",
    "논블로킹 방식은 아무래도 통신이 완료될 때까지 기다리지 않고 다른 작업을 수행할 수 있으므로 경우에 따라 효율이나 반응속도가 더 뛰어나다.\n",
    "\n",
    "이 객체에 연결된 콜러블의 실행이 완료되었는지 여부를 불리언형으로 반환합니다. (`done()` 메서드)\n",
    "\n",
    "#### `result()` 메서드\n",
    "\n",
    "수행이 완료된 경우 콜러블의 결과를 반환하거나, 콜러블이 실행될 때 발생한 예외를 발생시킵니다. \n",
    "\n",
    "- `concurrency.futures.Future` : `f.result()` 는 결과가 나올 때까지 호출자의 스레드를 블로킹합니다. 선택적으로 `timeout` 인수를 전달할 수 있으며, 지정한 시간이 초과하면 `TimeoutError`를 발생시킵니다.\n",
    "- `asyncio.Future` : 시간초과를 지원하지 않으며 `yield from`을 사용해서 `Future` 객체의 상태를 가져오는 방법을 선호합니다.\n",
    "\n",
    "\n",
    "#### `Future` 객체를 반환하는 함수\n",
    "\n",
    "`Fututre` 객체를 사용자에게 보이지 않고 내부에서 사용합니다. \n",
    "\n",
    "내부에서 `Future`객체를 사용하는 `Excutor.map()` 메서드는 반복형 객체를 반환하고 `__next__()` 메서드가 호출될 때마다 `Future` 객체의 `result()` 메서드를 호출하므로 `Future`객체의 결과를 가져올 수 있게 해줍니다.\n",
    "\n",
    "실제로 `Future` 객체를 보기 위해 `concurrent.futures.as_completed()` 함수를 사용하면 다음과 같습니다."
   ]
  },
  {
   "cell_type": "code",
   "execution_count": 7,
   "metadata": {},
   "outputs": [
    {
     "name": "stdout",
     "output_type": "stream",
     "text": [
      "\"\"\"Download flags of top 20 countries by population\r\n",
      "\r\n",
      "ThreadPoolExecutor version 2, with ``as_completed``.\r\n",
      "\r\n",
      "Sample run::\r\n",
      "\r\n",
      "    $ python3 flags_threadpool.py\r\n",
      "    BD retrieved.\r\n",
      "    EG retrieved.\r\n",
      "    CN retrieved.\r\n",
      "    ...\r\n",
      "    PH retrieved.\r\n",
      "    US retrieved.\r\n",
      "    IR retrieved.\r\n",
      "    20 flags downloaded in 0.93s\r\n",
      "\r\n",
      "\"\"\"\r\n",
      "from concurrent import futures\r\n",
      "\r\n",
      "from flags import save_flag, get_flag, show, main\r\n",
      "\r\n",
      "MAX_WORKERS = 20\r\n",
      "\r\n",
      "\r\n",
      "def download_one(cc):\r\n",
      "    image = get_flag(cc)\r\n",
      "    show(cc)\r\n",
      "    save_flag(image, cc.lower() + '.gif')\r\n",
      "    return cc\r\n",
      "\r\n",
      "\r\n",
      "# BEGIN FLAGS_THREADPOOL_AS_COMPLETED\r\n",
      "def download_many(cc_list):\r\n",
      "    cc_list = cc_list[:5]  # <1>\r\n",
      "    with futures.ThreadPoolExecutor(max_workers=3) as executor:  # <2>\r\n",
      "        to_do = []\r\n",
      "        for cc in sorted(cc_list):  # <3>\r\n",
      "            future = executor.submit(download_one, cc)  # <4>\r\n",
      "            to_do.append(future)  # <5>\r\n",
      "            msg = 'Scheduled for {}: {}'\r\n",
      "            print(msg.format(cc, future))  # <6>\r\n",
      "\r\n",
      "        results = []\r\n",
      "        for future in futures.as_completed(to_do):  # <7>\r\n",
      "            res = future.result()  # <8>\r\n",
      "            msg = '{} result: {!r}'\r\n",
      "            print(msg.format(future, res)) # <9>\r\n",
      "            results.append(res)\r\n",
      "\r\n",
      "    return len(results)\r\n",
      "# END FLAGS_THREADPOOL_AS_COMPLETED\r\n",
      "\r\n",
      "if __name__ == '__main__':\r\n",
      "    main(download_many)\r\n",
      "\r\n"
     ]
    }
   ],
   "source": [
    "! cat codes/flags_threadpool_ac.py"
   ]
  },
  {
   "cell_type": "markdown",
   "metadata": {},
   "source": [
    "- <3> 결과의 순서가 바뀌는 것을 확인해보기 위해 알파벳 순으로 정렬\n",
    "- <4> `executor.submit()`은 콜러블이 실행되도록 스케줄링하고 이 작업을 나타내는 `Future` 객체를 반환합니다.\n",
    "- <7> `as_completed()`는 `Future`가 완료될 때 해당 `Future`객체를 생성합니다. \n",
    "- <8> `Future` 객체의 결과를 가져와서  <9> `Future` 객체와 결과를 출력합니다.\n",
    "\n",
    "#### 결과\n",
    "\n",
    "```\n",
    "$ python3 flags_threadpool_ac.py\n",
    "Scheduled for BR: <Future at 0x100791518 state=running> <1>\n",
    "Scheduled for CN: <Future at 0x100791710 state=running>\n",
    "Scheduled for ID: <Future at 0x100791a90 state=running>\n",
    "Scheduled for IN: <Future at 0x101807080 state=pending> <2>\n",
    "Scheduled for US: <Future at 0x101807128 state=pending>\n",
    "CN <Future at 0x100791710 state=finished returned str> result: 'CN' <3>\n",
    "BR ID <Future at 0x100791518 state=finished returned str> result: 'BR' <4>\n",
    "<Future at 0x100791a90 state=finished returned str> result: 'ID'\n",
    "IN <Future at 0x101807080 state=finished returned str> result: 'IN' \n",
    "US <Future at 0x101807128 state=finished returned str> result: 'US'\n",
    "\n",
    "5 flags downloaded in 0.70s\n",
    "```\n",
    "\n",
    "- <1>  `FUTURE` 객체가 알파벳순으로 스케줄링, `max_workers=3`으로 지정했기 때문에 처음 세개만 실행 중\n",
    "- <2> 마지막 두 개의 `Future` 객체는 작업 스레드를 기다립니다.\n",
    "- <3> 멀티 스레딩을 했기 때문에 결과는 순서가 일정하지 않은 것을 볼 수 있습니다. 앞글자 CN은 작업자 스레드에 있는 `download_one()`이 출력한 메시지이고 그 뒤부터 `download_many()`가 출력한 것\n",
    "- <4> 주 스레드의 `download_many()` 에서 첫 스레드 BR의 결과를 출력하기 전에 BR과 ID 스레드가 국가 코드를 먼저 출력"
   ]
  },
  {
   "cell_type": "markdown",
   "metadata": {},
   "source": [
    "하지만 엄격히 말하면, 지금까지 테스트한 동시성 스크립트는 병렬로 수행하는 것이 아닙니다. 왜냐하면 `concurrent.futures`는 GIL(전역 인터프리터 락)에 의해 제한되며, `flags_asyncio.py`는 단일 스레드로 실행된다. ( ..? )\n",
    "\n",
    "- 파이썬 스레드가 한 번에 한 스레드만 실행할 수 있게 해주는 GIL에 의해 제한된다면, 어떻게 `flags_threadpool.py`가 `flags.py`보다 5배나 빠를까?\n",
    "- 둘 다 단일 스레드인데 어떻게 `asyncio`가 더 빠를까?\n",
    "\n",
    "두 번째 질문은 18장에서 답변해줍니다."
   ]
  },
  {
   "cell_type": "markdown",
   "metadata": {},
   "source": [
    "## 17.2 블로킹 I/O와 GIL\n",
    "\n",
    "#### GIL\n",
    "CPython 인터프리터는 내부적으로 스레드가 안전하지 않아서, 전역 인터프리터 락(GIL)을 가지고 있습니다. \n",
    "\n",
    "__GIL은 한 번에 한 스레드만 파이썬 바이트코드를 실행하도록 제한합니다.__ 따라서 단일 파이썬 프로세스가 동시에 다중 CPU코어를 사용할 수 없습니다. \n",
    "\n",
    "파이썬 코드를 작성할 때 우리는 GIL을 제어할 수 없지만, 내장 함수나 C로 작성된 확장은 시간이 오래 걸리는 작업을 실행할 때 GIL을 해제할 수 있습니다. \n",
    "\n",
    "사실 C로 작성된 파이썬 라이브러리는 GIL을 관리하고, 자신의 OS 스레드를 생성해서 가용한 CPU 코드를 모두 사용할 수 있습니다. 하지만 이렇게 하면 라이브러리 코드가 상당히 복잡해지기 때문에, 이런 방식으로 구현하지 않습니다. \n",
    "\n",
    "참고 : https://dgkim5360.tistory.com/entry/understanding-the-global-interpreter-lock-of-cpython\n",
    "\n",
    "#### 블로킹 I/O\n",
    "\n",
    "블로킹 입출력을 실행하는 모든 표준 라이브러리 함수는 OS에서 결과를 기다리는 동안 GIL을 해제합니다. __즉 입출력 위주의 작업을 실행하는 파이썬 프로그램은 파이썬으로 구현하더라도 스레드를 이용함으로써 이득을 볼 수 있습니다.__\n",
    "\n",
    "파이썬 스레드가 네트워크로부터의 응답을 기다리는 동안, 블로킹된 입출력 함수가 GIL을 해제함으로써 다른 스레드가 실행될 수 있습니다. \n",
    "\n",
    "_파이썬 스레드는 아주 능숙하게 게으름을 피운다. - 데이비드 비즐리_ "
   ]
  },
  {
   "cell_type": "markdown",
   "metadata": {},
   "source": [
    "## 17.3 `concurrent.futures`로 프로세스 실행하기\n",
    "\n",
    "이 `concurrent.futures`는 `ProcessPoolExecutor` 클래스를 사용해서 작업을 여러 파이썬 프로세스에 분산시켜 병렬 컴퓨팅을 가능하게 합니다.\n",
    "\n",
    "`ProcessPoolExecutor`는 _GIL을 우회하므로 계산 위주의 작업을 수행해야 하는 경우 가용한 CPU를 모두 사용합니다._\n",
    "\n",
    "> `ProcessPoolExecutor`와 `ThreadPoolExecutor`는 모두 범용 Executor 인터페이스를 구현해서 `concurrent.futures`를 사용하는 경우, 스레드 기반의 프로그램을 프로세스 기반의 프로그램으로 쉽게 변환할 수 있습니다.\n",
    "\n",
    "국기를 내려받는 예제처럼 입출력 위주의 작업은 멀티 프로세싱을 이용해도 도움이 안되는데, 멀티 프로세싱을 이용하는 경우 사용하는 프로세스 수에 한계가 있기 때문이다.(쿼드 코어 CPU -> 4개의 프로세스밖에 이용못함. 하지만 멀티 스레딩의 경우 더 많은 스레드를 이용 가능)\n",
    "\n",
    "이러한 멀티프로세싱 연산은 __계산 위주의 작업에서 진가를 발휘합니다.__\n",
    "\n",
    "이를 테스트하기 위해 다음 두가지 프로그램을 통해 실험해봅니다.\n",
    "\n",
    "- `arcfour_futures.py` : RC4 알고리즘을 이용해서 배열 10개를 암호화 복호화\n",
    "- `sha_future.py` : `hashlib`을 이용해서 배열 10개에 대한 SHA-256 해시를 계산"
   ]
  },
  {
   "cell_type": "markdown",
   "metadata": {},
   "source": [
    "![결과](../images/17_1.png)"
   ]
  },
  {
   "cell_type": "markdown",
   "metadata": {},
   "source": [
    "4개의 코어를 사용해서 멀티프로세싱을 하면 2배 정도의 성능 향상을 기대할 수 있습니다. \n",
    "\n",
    "순수 파이썬으로 구현된 RC4 예제의 경우 PyPy 인터프리터로 4개의 작업자 프로세스를 사용하면 CPython으로 4개의 작업자 프로세스를 사용하는 경우보다 3.8배 빨라집니다. __따라서 계산 위주의 작업을 수행한다면 PyPy를 사용하는 것이 좋습니다.__"
   ]
  }
 ],
 "metadata": {
  "kernelspec": {
   "display_name": "Python 3",
   "language": "python",
   "name": "python3"
  },
  "language_info": {
   "codemirror_mode": {
    "name": "ipython",
    "version": 3
   },
   "file_extension": ".py",
   "mimetype": "text/x-python",
   "name": "python",
   "nbconvert_exporter": "python",
   "pygments_lexer": "ipython3",
   "version": "3.7.6"
  }
 },
 "nbformat": 4,
 "nbformat_minor": 4
}
