{
 "cells": [
  {
   "cell_type": "markdown",
   "metadata": {},
   "source": [
    "# 18. asyncio를 이용한 동시성"
   ]
  },
  {
   "cell_type": "markdown",
   "metadata": {},
   "source": [
    "# Reminding\n",
    "\n",
    "### Coroutine\n",
    "Coroutine : 프로그램에서 순서는 일반적으로 불려지는 쪽(subroutine)이 부르는 쪽(main routine)에 속하고 있는 것이 대부분이지만 어느 쪽도 종속 관계가 아니라 대등한 관계로 서로 호출하는 것이다. 예를 들면, 게임 프로그램에서 각 플레이어 루틴은 서로 코루틴된다. 복수 프로세스 간에서 한정된 형태의 통신을 행하는 프로그램을 순차 제어로 실현한 것으로 볼 수도 있다.\n",
    "<br>\n",
    "\n",
    "__동작 과정__  \n",
    "코루틴은 함수가 종료되지 않은 상태에서 메인 루틴의 코드를 실행한 뒤 다시 돌아와서 코루틴의 코드를 실행. 코루틴이 종료된 것이 아니므로 코루틴의 내용도 계속 유지. 코루틴은 진입점이 여러 개인 함수.\n",
    "\n",
    "__Back to 16.1__  \n",
    "Generators vs Coroutines  \n",
    "\n",
    "Python 2.5부터, generator에 .send(value) method가 추가되고, yield를 표현식 내에 사용할 수 있게 됨으로써, generator를 coroutine으로 사용할 수 있게 되었다.\n",
    "쉽게 얘기하면, 코루틴은 제네레이터의 특별한 형태라고 생각하면 되는데, 제네레이터는 yield로 값을 발생시키지만, 코루틴은 yield로 값을 받아올 수 있다. 제너레이터는 next 함수를 반복 호출하여 값을 얻어내는 방식이고, 코루틴은 next 함수를 한 번만 호출(코루틴 안의 yield까지 코드 실행)한 뒤, send로 값을 주고 받는 방식.\n",
    "\n",
    "Python Documentation에서는 [asyncio를 어떻게 설명](https://docs.python.org/ko/3/library/asyncio.html)하고 있을까?  \n",
    "asyncio는 __async/await__ 구문을 사용하여 __동시성__ 코드를 작성하는 라이브러리입니다. asyncio는 고성능 네트워크 및 웹 서버, 데이터베이스 연결 라이브러리, 분산 작업 큐 등을 제공하는 여러 파이썬 비동기 프레임워크의 기반으로 사용됩니다. asyncio는 종종 I/O 병목이면서 고수준의 __구조화된__ 네트워크 코드에 가장 적합합니다. asyncio는 다음과 같은 작업을 위한 고수준 API 집합을 제공합니다:\n",
    "- 파이썬 코루틴들을 동시에 실행하고 실행을 완전히 제어할 수 있습니다.\n",
    "- 네트워크와 I/O와 IPC를 수행합니다.\n",
    "- 자식 프로세스를 제어합니다.\n",
    "- 큐를 통해 작업을 분산합니다.\n",
    "- 동시성 코드를 동기화합니다."
   ]
  },
  {
   "cell_type": "markdown",
   "metadata": {},
   "source": [
    "## Index\n",
    "- 18.1 스레드와 코루틴 비교\n",
    "- 18.2 asyncio와 aiohttp로 내려받기\n",
    "- 18.3 블로킹 호출을 에둘러 실행하기\n",
    "- 18.4 asyncio 내려받기 스크립트 개선\n",
    "- 18.5 콜백에서 Future와 코루틴으로\n",
    "- 18.6 asyncio 서버 작성\n",
    "- 18.7 요약\n",
    "- 18.8 읽을거리\n"
   ]
  },
  {
   "cell_type": "markdown",
   "metadata": {},
   "source": [
    "Concurrency is about dealing with lots of things at once.  \n",
    "Parallelism is about doing lots of things at once.  \n",
    "One is about structure, one is about execution.  \n",
    "\n",
    "Parallelism은 그만큼의 코어가 있어야 한다. 하지만 Concurrency는 프로세스 갯수만큼 코어가 있지 않아도 가능하다! `asyncio`은 이벤트 루프에 기반한 코루틴으로 Concurrency(동시성)를 구현한 패키지이다. 이 챕터에서 하는 것은,</br>\n",
    "- 스레드와 비동기 작업 간의 관계를 보여주면서 간단한 스레드 프로그램과 asyncio 동등 항목을 비교\n",
    "- `asyncio.Future` 클래스와 `concurrent.futures.Future`가 어떻게 다른지\n",
    "- Chapter 17의 플래그 다운로드 예제의 비동기 버전\n",
    "- 스레드 또는 프로세스를 사용하지 않고 비동기 프로그래밍이 네트워크 애플리케이션에서 높은 동시성을 관리하는 방법\n",
    "- 어떻게 코루틴이 비동기 프로그래밍에서 콜백에 비해 크게 개선되는지\n",
    "- 차단 작업을 스레드 풀로 오프로드하여 이벤트 루프를 차단하지 않는 방법\n",
    "- 비동기 서버 작성 및 동시성을 위해 웹 애플리케이션을 다시 생각하는 방법\n",
    "- asyncio가 Python 생태계에 큰 영향을 미치는 이유"
   ]
  },
  {
   "cell_type": "markdown",
   "metadata": {},
   "source": [
    "## 18.1 스레드와 코루틴 비교"
   ]
  },
  {
   "cell_type": "code",
   "execution_count": 3,
   "metadata": {},
   "outputs": [
    {
     "name": "stdout",
     "output_type": "stream",
     "text": [
      "spinner object: <Thread(Thread-8, initial)>\n",
      "| thinking/ thinking- thinking\\ thinking| thinking/ thinking- thinking\\ thinking| thinking/ thinking- thinking\\ thinking| thinking/ thinking- thinking\\ thinking| thinking/ thinking- thinking\\ thinking| thinking/ thinking- thinking\\ thinking| thinking/ thinking- thinking\\ thinking| thinking/ thinking          Answer: 42\n"
     ]
    }
   ],
   "source": [
    "#Example 18-1\n",
    "import threading\n",
    "import itertools\n",
    "import time\n",
    "import sys\n",
    "\n",
    "class Signal:\n",
    "    go = True\n",
    "    \n",
    "def spin(msg, signal):\n",
    "    write, flush = sys.stdout.write, sys.stdout.flush\n",
    "    for char in itertools.cycle('|/-\\\\'):\n",
    "        status = char + ' ' + msg\n",
    "        write(status)\n",
    "        flush()\n",
    "        write('\\x08' * len(status))\n",
    "        time.sleep(.1)\n",
    "        if not signal.go:\n",
    "            break\n",
    "    write(' ' * len(status) + '\\x08' * len(status))\n",
    "    \n",
    "def slow_function():\n",
    "    #pretend waiting a long time for I/O\n",
    "    time.sleep(3)\n",
    "    return 42\n",
    "\n",
    "def supervisor():\n",
    "    signal = Signal()\n",
    "    spinner = threading.Thread(target=spin, args=('thinking!', signal))\n",
    "    print('spinner object:', spinner)\n",
    "    spinner.start()\n",
    "    result = slow_function()\n",
    "    signal.go = False\n",
    "    spinner.join()\n",
    "    return result\n",
    "\n",
    "def main():\n",
    "    result = supervisor()\n",
    "    print('Answer:', result)\n",
    "    \n",
    "if __name__ == '__main__':\n",
    "    main()"
   ]
  },
  {
   "cell_type": "markdown",
   "metadata": {},
   "source": [
    "Python에는 thread를 종료하는 API가 없으므로 메세지를 보내서 종료해야 한다. 여기서는 `signal.go`를 메세지로 사용. 이번에는 `@asyncio.coroutine`으로 어떻게 쓰는지?"
   ]
  },
  {
   "cell_type": "code",
   "execution_count": 1,
   "metadata": {
    "collapsed": true
   },
   "outputs": [
    {
     "ename": "RuntimeError",
     "evalue": "This event loop is already running",
     "output_type": "error",
     "traceback": [
      "\u001b[0;31m---------------------------------------------------------------------------\u001b[0m",
      "\u001b[0;31mRuntimeError\u001b[0m                              Traceback (most recent call last)",
      "\u001b[0;32m<ipython-input-1-b8d3fc9477dd>\u001b[0m in \u001b[0;36m<module>\u001b[0;34m\u001b[0m\n\u001b[1;32m     39\u001b[0m \u001b[0;34m\u001b[0m\u001b[0m\n\u001b[1;32m     40\u001b[0m \u001b[0;32mif\u001b[0m \u001b[0m__name__\u001b[0m \u001b[0;34m==\u001b[0m \u001b[0;34m'__main__'\u001b[0m\u001b[0;34m:\u001b[0m\u001b[0;34m\u001b[0m\u001b[0;34m\u001b[0m\u001b[0m\n\u001b[0;32m---> 41\u001b[0;31m     \u001b[0mmain\u001b[0m\u001b[0;34m(\u001b[0m\u001b[0;34m)\u001b[0m\u001b[0;34m\u001b[0m\u001b[0;34m\u001b[0m\u001b[0m\n\u001b[0m",
      "\u001b[0;32m<ipython-input-1-b8d3fc9477dd>\u001b[0m in \u001b[0;36mmain\u001b[0;34m()\u001b[0m\n\u001b[1;32m     34\u001b[0m \u001b[0;32mdef\u001b[0m \u001b[0mmain\u001b[0m\u001b[0;34m(\u001b[0m\u001b[0;34m)\u001b[0m\u001b[0;34m:\u001b[0m\u001b[0;34m\u001b[0m\u001b[0;34m\u001b[0m\u001b[0m\n\u001b[1;32m     35\u001b[0m     \u001b[0mloop\u001b[0m \u001b[0;34m=\u001b[0m \u001b[0masyncio\u001b[0m\u001b[0;34m.\u001b[0m\u001b[0mget_event_loop\u001b[0m\u001b[0;34m(\u001b[0m\u001b[0;34m)\u001b[0m\u001b[0;34m\u001b[0m\u001b[0;34m\u001b[0m\u001b[0m\n\u001b[0;32m---> 36\u001b[0;31m     \u001b[0mresult\u001b[0m \u001b[0;34m=\u001b[0m \u001b[0mloop\u001b[0m\u001b[0;34m.\u001b[0m\u001b[0mrun_until_complete\u001b[0m\u001b[0;34m(\u001b[0m\u001b[0msupervisor\u001b[0m\u001b[0;34m(\u001b[0m\u001b[0;34m)\u001b[0m\u001b[0;34m)\u001b[0m\u001b[0;34m\u001b[0m\u001b[0;34m\u001b[0m\u001b[0m\n\u001b[0m\u001b[1;32m     37\u001b[0m     \u001b[0mloop\u001b[0m\u001b[0;34m.\u001b[0m\u001b[0mclose\u001b[0m\u001b[0;34m(\u001b[0m\u001b[0;34m)\u001b[0m\u001b[0;34m\u001b[0m\u001b[0;34m\u001b[0m\u001b[0m\n\u001b[1;32m     38\u001b[0m     \u001b[0mprint\u001b[0m\u001b[0;34m(\u001b[0m\u001b[0;34m'Answer:'\u001b[0m\u001b[0;34m,\u001b[0m \u001b[0mresult\u001b[0m\u001b[0;34m)\u001b[0m\u001b[0;34m\u001b[0m\u001b[0;34m\u001b[0m\u001b[0m\n",
      "\u001b[0;32m/usr/lib/python3.6/asyncio/base_events.py\u001b[0m in \u001b[0;36mrun_until_complete\u001b[0;34m(self, future)\u001b[0m\n\u001b[1;32m    469\u001b[0m         \u001b[0mfuture\u001b[0m\u001b[0;34m.\u001b[0m\u001b[0madd_done_callback\u001b[0m\u001b[0;34m(\u001b[0m\u001b[0m_run_until_complete_cb\u001b[0m\u001b[0;34m)\u001b[0m\u001b[0;34m\u001b[0m\u001b[0;34m\u001b[0m\u001b[0m\n\u001b[1;32m    470\u001b[0m         \u001b[0;32mtry\u001b[0m\u001b[0;34m:\u001b[0m\u001b[0;34m\u001b[0m\u001b[0;34m\u001b[0m\u001b[0m\n\u001b[0;32m--> 471\u001b[0;31m             \u001b[0mself\u001b[0m\u001b[0;34m.\u001b[0m\u001b[0mrun_forever\u001b[0m\u001b[0;34m(\u001b[0m\u001b[0;34m)\u001b[0m\u001b[0;34m\u001b[0m\u001b[0;34m\u001b[0m\u001b[0m\n\u001b[0m\u001b[1;32m    472\u001b[0m         \u001b[0;32mexcept\u001b[0m\u001b[0;34m:\u001b[0m\u001b[0;34m\u001b[0m\u001b[0;34m\u001b[0m\u001b[0m\n\u001b[1;32m    473\u001b[0m             \u001b[0;32mif\u001b[0m \u001b[0mnew_task\u001b[0m \u001b[0;32mand\u001b[0m \u001b[0mfuture\u001b[0m\u001b[0;34m.\u001b[0m\u001b[0mdone\u001b[0m\u001b[0;34m(\u001b[0m\u001b[0;34m)\u001b[0m \u001b[0;32mand\u001b[0m \u001b[0;32mnot\u001b[0m \u001b[0mfuture\u001b[0m\u001b[0;34m.\u001b[0m\u001b[0mcancelled\u001b[0m\u001b[0;34m(\u001b[0m\u001b[0;34m)\u001b[0m\u001b[0;34m:\u001b[0m\u001b[0;34m\u001b[0m\u001b[0;34m\u001b[0m\u001b[0m\n",
      "\u001b[0;32m/usr/lib/python3.6/asyncio/base_events.py\u001b[0m in \u001b[0;36mrun_forever\u001b[0;34m(self)\u001b[0m\n\u001b[1;32m    423\u001b[0m         \u001b[0mself\u001b[0m\u001b[0;34m.\u001b[0m\u001b[0m_check_closed\u001b[0m\u001b[0;34m(\u001b[0m\u001b[0;34m)\u001b[0m\u001b[0;34m\u001b[0m\u001b[0;34m\u001b[0m\u001b[0m\n\u001b[1;32m    424\u001b[0m         \u001b[0;32mif\u001b[0m \u001b[0mself\u001b[0m\u001b[0;34m.\u001b[0m\u001b[0mis_running\u001b[0m\u001b[0;34m(\u001b[0m\u001b[0;34m)\u001b[0m\u001b[0;34m:\u001b[0m\u001b[0;34m\u001b[0m\u001b[0;34m\u001b[0m\u001b[0m\n\u001b[0;32m--> 425\u001b[0;31m             \u001b[0;32mraise\u001b[0m \u001b[0mRuntimeError\u001b[0m\u001b[0;34m(\u001b[0m\u001b[0;34m'This event loop is already running'\u001b[0m\u001b[0;34m)\u001b[0m\u001b[0;34m\u001b[0m\u001b[0;34m\u001b[0m\u001b[0m\n\u001b[0m\u001b[1;32m    426\u001b[0m         \u001b[0;32mif\u001b[0m \u001b[0mevents\u001b[0m\u001b[0;34m.\u001b[0m\u001b[0m_get_running_loop\u001b[0m\u001b[0;34m(\u001b[0m\u001b[0;34m)\u001b[0m \u001b[0;32mis\u001b[0m \u001b[0;32mnot\u001b[0m \u001b[0;32mNone\u001b[0m\u001b[0;34m:\u001b[0m\u001b[0;34m\u001b[0m\u001b[0;34m\u001b[0m\u001b[0m\n\u001b[1;32m    427\u001b[0m             raise RuntimeError(\n",
      "\u001b[0;31mRuntimeError\u001b[0m: This event loop is already running"
     ]
    },
    {
     "name": "stdout",
     "output_type": "stream",
     "text": [
      "spinner object: <Task pending coro=<spin() running at <ipython-input-1-b8d3fc9477dd>:6>>\n",
      "| thinking/ thinking!"
     ]
    },
    {
     "name": "stderr",
     "output_type": "stream",
     "text": [
      "/usr/local/lib/python3.6/dist-packages/ipykernel_launcher.py:28: DeprecationWarning: asyncio.async() function is deprecated, use ensure_future()\n"
     ]
    },
    {
     "name": "stdout",
     "output_type": "stream",
     "text": [
      "\b- thinking\\ thinking| thinking/ thinking- thinking\\ thinking| thinking/ thinking- thinking\\ thinking| thinking/ thinking- thinking\\ thinking| thinking/ thinking- thinking\\ thinking| thinking/ thinking- thinking\\ thinking| thinking/ thinking- thinking\\ thinking| thinking/ thinking          "
     ]
    }
   ],
   "source": [
    "#Example 18-2\n",
    "import asyncio\n",
    "import itertools\n",
    "import sys\n",
    "\n",
    "@asyncio.coroutine\n",
    "def spin(msg):\n",
    "    write, flush = sys.stdout.write, sys.stdout.flush\n",
    "    for char in itertools.cycle('|/-\\\\'):\n",
    "        status = char + ' ' + msg\n",
    "        write(status)\n",
    "        flush()\n",
    "        write('\\x08' * len(status))\n",
    "        try:\n",
    "            yield from asyncio.sleep(.1)\n",
    "        except asyncio.CancelledError:\n",
    "            break\n",
    "    write(' ' * len(status) + '\\x08' * len(status))\n",
    "    \n",
    "@asyncio.coroutine\n",
    "def slow_function():\n",
    "    # pretend waiting a long time for I/O\n",
    "    yield from asyncio.sleep(3)\n",
    "    return 42\n",
    "\n",
    "@asyncio.coroutine\n",
    "def supervisor():\n",
    "    spinner = asyncio.async(spin('thinking!'))\n",
    "    print('spinner object:', spinner)\n",
    "    result = yield from slow_function()\n",
    "    spinner.cancel()\n",
    "    return result\n",
    "\n",
    "def main():\n",
    "    loop = asyncio.get_event_loop()\n",
    "    result = loop.run_until_complete(supervisor())\n",
    "    loop.close()\n",
    "    print('Answer:', result)\n",
    "    \n",
    "if __name__ == '__main__':\n",
    "    main()"
   ]
  },
  {
   "cell_type": "markdown",
   "metadata": {},
   "source": [
    "`time.sleep()`은 실행하는 동안 CPU가 유휴 상태로 들어가지만 `asyncio.sleep()`은 비동기적으로 실행하여 CPU가 다른 일을 할 수 있게 함."
   ]
  },
  {
   "cell_type": "code",
   "execution_count": 6,
   "metadata": {},
   "outputs": [],
   "source": [
    "#Example 18-3\n",
    "def supervisor():\n",
    "    signal = Signal()\n",
    "    spinner = threading.Thread(target=spin, args=('thinking!', signal))\n",
    "    print('spinner object:', spinner)\n",
    "    spinner.start()\n",
    "    result = slow_function()\n",
    "    signal.go = False\n",
    "    spinner.join()\n",
    "    return result"
   ]
  },
  {
   "cell_type": "code",
   "execution_count": 7,
   "metadata": {},
   "outputs": [
    {
     "ename": "SyntaxError",
     "evalue": "invalid syntax (<ipython-input-7-1a5c61053c86>, line 4)",
     "output_type": "error",
     "traceback": [
      "\u001b[1;36m  File \u001b[1;32m\"<ipython-input-7-1a5c61053c86>\"\u001b[1;36m, line \u001b[1;32m4\u001b[0m\n\u001b[1;33m    spinner = asyncio.async(spin('thinking!'))\u001b[0m\n\u001b[1;37m                          ^\u001b[0m\n\u001b[1;31mSyntaxError\u001b[0m\u001b[1;31m:\u001b[0m invalid syntax\n"
     ]
    }
   ],
   "source": [
    "#Example 18-4\n",
    "@asyncio.coroutine\n",
    "def supervisor():\n",
    "    spinner = asyncio.async(spin('thinking!'))\n",
    "    print('spinner object:', spinner)\n",
    "    result = yield from slow_function()\n",
    "    spinner.cancel()\n",
    "    return result"
   ]
  },
  {
   "cell_type": "markdown",
   "metadata": {},
   "source": [
    "두 구현 방식의 차이점! (디테일하게)\n",
    "- `asyncio.Task`는 대략 `threading.Thread`와 동일하다.\n",
    "- `Task`는 코루틴을 구동하고, `Thread`는 callable을 호출한다.\n",
    "- `Task`를 직접 객체화하지 않고 `asyncio.async()`나 `loop.create_task()`에 코루틴을 넘겨줌으로 받는다.\n",
    "- `Task` 객체를 받을 때, 그것은 이미 실행되기로 스케쥴되었다. `Thread` 인스턴스는 `start` 함수를 호출함으로 명시적으로 알려줘야 한다.\n",
    "- threaded `supervisor`에서는, `slow_function`은 보통 함수이고 쓰레드에 의해 직접적으로 호출된다. `asyncio supervisor`에서는 코루틴이 `yield from`에 의해 구동된다.\n",
    "- thread는 유효하지 않은 상태를 가지고 시스템을 떠나면서 어느 지점에서나 중단될 수 있기 때문에, 외부에서 중단할 수 있는 API가 없다. task는 `Task.cancel()`라는 코루틴 안에서 `CancelledError`를 발생시키는 인스턴스 메소드가 있다. 코루틴은 중단된 곳의 `yield`안에서 예외를 잡아냄으로 이것을 처리할 수 있다.\n",
    "- `supervisor` 코루틴은 `loop.run_until_complete`와 함께 `main` 함수 안에서 반드시 실행되어야 한다.\n",
    "\n",
    "<p><p>\n",
    "    \n",
    "코루틴을 사용하면 기본적으로 모든 것이 중단되지 않도록 보호됨. 프로그램의 나머지 부분을 실행하려면 명시적으로 yield 해야함. 멀티쓰레드의 동작을 동기화하기 위해 lock을 쓰기보다, 정의에 따라 '동기화'된 코루틴이 있음: 언제든지 하나만 실행됨. control을 포기하려면 `yield`나 `yield from`을 사용하면 스케쥴러로 컨트롤이 넘어감. 이것이 안전하게 코루틴을 종료할 수 있는 이유. 정의에 의하면 코루틴은 `yield` point에서 중단되었을 때만 종료가 가능하므로 `CancelledError` 예외를 처리하여 정리할 수 있음."
   ]
  },
  {
   "cell_type": "markdown",
   "metadata": {},
   "source": [
    "### asyncio.Future: Nonblocking by Design\n",
    "`asyncio.Future`와 `concurrent.futures.Future`의 비교. 두 개는 비슷하게 동작하지만 교환 가능하지는 않다. `.done()`, `.add_done_callback()`, `.result()`를 가지는데, 앞에 두개는 동일하게 동작하지만 `.result()`은 다르게 동작함. 일단 timeout을 지정할 수 없다. `.result()`를 호출했을 때, future가 끝나지 않으면 결과를 기다리는 것을 차단하지 않는다. 대신, `InvalidStateError`를 발생시킨다.\n",
    "\n",
    "`yield from`과 future를 사용하는 것은 이벤트 루프를 중단하지 않으면서 자동적으로 끝날 때까지 기다릴 수 있게 한다 - 왜냐하면, `asyncio`에서 `yield from`은 이벤트 루프로 컨트롤을 다시 돌려주는 것이기 때문에! 요약하면 `asyncio.Future`가 `yield from`과 같이 동작하도록 설계되었기 때문에 다음의 함수들은 필요없다. `my_future.add_done_callback()`, `my_future.result()`"
   ]
  },
  {
   "cell_type": "markdown",
   "metadata": {},
   "source": [
    "### Yielding from Futrues, Tasks, and Coroutines\n",
    "future와 coroutine의 관계: `yield from`해서 `asyncio.Future`에서 결과를 가져오기 때문.\n",
    "`asyncio.async()` - coroutine과 future를 하나로 만듦.\n",
    "`BaseEventLoop.create_task()` - 코루틴을 실행을 위해 스케줄하고 `asyncio.Task` 객체를 리턴한다. \n",
    "\n",
    "많은 `asyncio` 함수들이 코루틴을 받고 `asyncio`로 감싼다. "
   ]
  },
  {
   "cell_type": "code",
   "execution_count": null,
   "metadata": {},
   "outputs": [],
   "source": [
    "# Small Test\n",
    "import asyncio\n",
    "def run_sync(coro_or_future):\n",
    "    loop = asyncio.get_event_loop()\n",
    "    return loop.run_until_complete(coro_or_future)\n",
    "\n",
    "run_sync(some_coroutine())"
   ]
  },
  {
   "cell_type": "markdown",
   "metadata": {},
   "source": [
    "## 18.2 asyncio와 aiohttp로 내려받기\n",
    "Python 3.4 기준으로 `asyncio`는 TCP와 UDP만 직접 지원함. 다른 프로토콜은 써드파티 패키지를 사용해야 함."
   ]
  },
  {
   "cell_type": "markdown",
   "metadata": {},
   "source": [
    "1. We start the process in `download_many` by feeding the event loop with several coroutine objects produced by calling `download_one`.\n",
    "2. The `asyncio` event loop activates each coroutine in turn.\n",
    "3. When a client coroutine such as `get_flag` uses `yield from` to delegate to a library coroutine—such as `aiohttp.request`—control goes back to the event loop, which can execute another previously scheduled coroutine.\n",
    "4. The event loop uses low-level APIs based on callbacks to get notified when a blocking operation is completed.\n",
    "5. When that happens, the main loop sends a result to the suspended coroutine.\n",
    "6. The coroutine then advances to the next yield, for example, `yield from` `resp.read()` in `get_flag`. The event loop takes charge again. Steps 4, 5, and 6 repeat until the event loop is terminated."
   ]
  },
  {
   "cell_type": "code",
   "execution_count": 3,
   "metadata": {
    "collapsed": true
   },
   "outputs": [
    {
     "ename": "ModuleNotFoundError",
     "evalue": "No module named 'flags'",
     "output_type": "error",
     "traceback": [
      "\u001b[0;31m---------------------------------------------------------------------------\u001b[0m",
      "\u001b[0;31mModuleNotFoundError\u001b[0m                       Traceback (most recent call last)",
      "\u001b[0;32m<ipython-input-3-b538ecc9d831>\u001b[0m in \u001b[0;36m<module>\u001b[0;34m\u001b[0m\n\u001b[1;32m      1\u001b[0m \u001b[0;32mimport\u001b[0m \u001b[0masyncio\u001b[0m\u001b[0;34m\u001b[0m\u001b[0;34m\u001b[0m\u001b[0m\n\u001b[1;32m      2\u001b[0m \u001b[0;32mimport\u001b[0m \u001b[0maiohttp\u001b[0m\u001b[0;34m\u001b[0m\u001b[0;34m\u001b[0m\u001b[0m\n\u001b[0;32m----> 3\u001b[0;31m \u001b[0;32mfrom\u001b[0m \u001b[0mflags\u001b[0m \u001b[0;32mimport\u001b[0m \u001b[0mBASE_URL\u001b[0m\u001b[0;34m,\u001b[0m \u001b[0msave_flag\u001b[0m\u001b[0;34m,\u001b[0m \u001b[0mshow\u001b[0m\u001b[0;34m,\u001b[0m \u001b[0mmain\u001b[0m\u001b[0;34m\u001b[0m\u001b[0;34m\u001b[0m\u001b[0m\n\u001b[0m\u001b[1;32m      4\u001b[0m \u001b[0;34m\u001b[0m\u001b[0m\n\u001b[1;32m      5\u001b[0m \u001b[0;34m@\u001b[0m\u001b[0masyncio\u001b[0m\u001b[0;34m.\u001b[0m\u001b[0mcoroutine\u001b[0m\u001b[0;34m\u001b[0m\u001b[0;34m\u001b[0m\u001b[0m\n",
      "\u001b[0;31mModuleNotFoundError\u001b[0m: No module named 'flags'"
     ]
    }
   ],
   "source": [
    "import asyncio\n",
    "import aiohttp\n",
    "from flags import BASE_URL, save_flag, show, main\n",
    "\n",
    "@asyncio.coroutine\n",
    "def get_flag(cc):\n",
    "    url = '{}/{cc}/{cc}.gif'.format(BASE_URL, cc=cc.lower())\n",
    "    resp = yield from aiohttp.request('GET', url)\n",
    "    image = yield from resp.read()\n",
    "    return image\n",
    "\n",
    "@asyncio.coroutine\n",
    "def download_one(cc):\n",
    "    image = yield from get_flag(cc)\n",
    "    show(cc)\n",
    "    save_flag(image, cc.lower() + '.gif')\n",
    "    return cc\n",
    "\n",
    "@asyncio.coroutine\n",
    "def download_many(cc_list):\n",
    "    loop = asyncio.get_event_loop()\n",
    "    to_do = [download_one(cc) for cc in sorted(cc_list)]\n",
    "    wait_coro = asyncio.wait(to_do)\n",
    "    res, _ = loop.run_until_complete(wait_coro)\n",
    "    loop.close()\n",
    "    return len(res)\n",
    "\n",
    "if __name__ == '__main__':\n",
    "    main(download_many)"
   ]
  },
  {
   "cell_type": "markdown",
   "metadata": {},
   "source": [
    "`asyncio.wait()` 코루틴은 future나 coroutine를 받는다. `wait()`는 각각의 코루틴을 `Task`로 감싼다. \n",
    "\n",
    "`loop.run_until_complete` 함수는 future나 coroutine를 받아들인다. coroutine을 받으면, `run_until_complete`는 `wait`와 비슷하게 `Task`로 감싼다. Coroutine, future, task는 다 `yield from`을 기반으로 동작.\n",
    "\n",
    "`asyncio`를 사용할 때 `next()`나 `send()`를 사용해서 coroutine chain을 사용하지 않고, `asyncio` 이벤트 루프가 대신한다.\n",
    "가장 안쪽의 subgenerator는 실제로 I/O를 하는 라이브러리 함수\n",
    "\n",
    "요약하면: 우리가 `asyncio`를 사용할 때 우리의 비동기적인 코드는 `asyncio` 자체에서 발생한 제너레이터를 대표하거나 `asyncio` 라이브러리 코루틴을 극도로 대표하는 코루틴으로 구성된다. "
   ]
  },
  {
   "cell_type": "markdown",
   "metadata": {},
   "source": [
    "## 18.3 블로킹 호출을 에둘러 실행하기\n",
    "`blocking function`을 디스크나 네트워크 I/O를 하는 것들 중의 하나로 정의하고, 우리는 그것들을 `nonblocking function`처럼 취급할 수 없다고 주장함. 전체 애플리케이션의 진행을 중지하는 blocking call을 막는 두 가지 방법이 있다.\n",
    "- blocking operation을 분리된 쓰레드에서 실행\n",
    "- 모든 blocking operation을 nonblocking 비동기 호출로 전환\n",
    "\n",
    "우리가 수천개의 연결을 다룬다면 각각의 연결마다 thread를 생성하는 것은 어려움. Callback은 적은 메모리 오버헤드로 비동기 호출을 구현할 수 있는 전통적인 방법. 응답을 기다리기보다 무언가 발생되면 호출될 함수를 등록함. 이렇게 하면, 우리가 하는 모든 호출이 nonblocking이 된다. \n",
    "\n",
    "이벤트 루프의 관점에서 콜백을 부르거나 중단된 코루틴에서 `.send()`를 부르는 것은 거의 동일하다. 각각의 중단된 코루틴에 대한 메모리 오버헤드가 있지만 각각의 스레드에 대한 오버헤드보다는 적다.\n",
    "`flags_asyncio.py`가 `flags.py`가 5배 정도의 성능을 보이는 것이 말이 된다. `flags.py`는 각각의 다운로드를 하나씩 기다리는 곳에 수십 억개의 CPU 사이클을 사용한다. 반면에 `download_many`에서 `loop_until_complete`가 호출될 때, 이벤트 루프가 각각의 `download_one` 코루틴을 첫번째 `yield from`에 구동하고, 그러면 각 `get_flag` 코루틴을 첫 번째 `yield from`으로 구동하여 `aiohttp`를 호출한다. 이러한 호출은 차단되지 않기 때문에 모든 요청들은 빠르게 시작된다.\n",
    "\n",
    "`asyncio` 인프라가 첫번째 응답을 받으면, 이벤트 루프는 대기중인 `get_flag` 코루틴으로 보냄. `get_flag`는 응답을 받아서 `resp.read()`를 호출하는 다음 `yield from`으로 진행하여 다시 메인 루프로 컨트롤을 넘겨준다. 각각의 `get_flag`가 리턴되면, 대리 제너레이터 `download_one`이 재개되고 파일을 저장한다.\n",
    "\n",
    "순차적으로 하는 것보다 동시로 하는 것이 더 빠름. 600개의 HTTP 요청을 했을 때, 순차적으로 하는 것보다 `asyncio`를 사용하면 70배 정도 빨랐다고 한다..."
   ]
  },
  {
   "cell_type": "markdown",
   "metadata": {},
   "source": [
    "## 18.4 asyncio 내려받기 스크립트 개선\n",
    "`flags2_asyncio.py`의 구현\n",
    "\n",
    "### Using asyncio.as_completed"
   ]
  },
  {
   "cell_type": "code",
   "execution_count": 7,
   "metadata": {},
   "outputs": [],
   "source": [
    "#Example 18-7\n",
    "import asyncio\n",
    "import collections\n",
    "\n",
    "import aiohttp\n",
    "from aiohttp import web\n",
    "import tqdm\n",
    "\n",
    "from flags2_common import main, HTTPStatus, Result, save_flag\n",
    "\n",
    "DEFAULT_CONCUR_REQ = 5\n",
    "MAX_CONCUR_REQ = 1000\n",
    "\n",
    "class FetchError(Exception):\n",
    "    def __init__(self, country_code):\n",
    "        self.country_code = country_code\n",
    "        \n",
    "@asyncio.coroutine\n",
    "def get_flag(base_url, cc):\n",
    "    url = '{}/{cc}/{cc}.gif'.format(base_url, cc=cc.lower())\n",
    "    resp = yield from aiohttp.request('GET', url)\n",
    "    if resp.status == 200:\n",
    "        image = yield from resp.read()\n",
    "        return image\n",
    "    elif resp.status == 404:\n",
    "        raise web.HTTPNotFound()\n",
    "    else:\n",
    "        raise aiohttp.HttpProcessingError(\n",
    "            code = resp.status, message=resp.reason,\n",
    "            headers = resp.headers)\n",
    "        \n",
    "@asyncio.coroutine\n",
    "#semaphore -> asyncio.Semaphore: limits the number of concurrent requests\n",
    "def download_one(cc, base_url, semaphore, verbose):\n",
    "    try:\n",
    "        with (yield from semaphore):\n",
    "            image = yield from get_flag(base_url, cc)\n",
    "    except web.HTTPNotFound:\n",
    "        status = HTTPStatus.not_found\n",
    "        msg = 'not found'\n",
    "    except Exception as exc:\n",
    "        raise FetchError(cc) from exc\n",
    "    else:\n",
    "        save_flag(image, cc.lower() + '.gif')\n",
    "        status = HTTPStatus.ok\n",
    "        msg = 'OK'\n",
    "            \n",
    "    if verbose and msg:\n",
    "        print(cc, msg)\n",
    "            \n",
    "    return Result(status, cc)"
   ]
  },
  {
   "cell_type": "markdown",
   "metadata": {},
   "source": [
    "앞에서는 `concur_req` 만큼의 스레드만 가지고 시작하는 방식이었다면, 여기서는 `download_coro` 함수가 생성하는 `asyncio.Semaphore`를 `download_one`에 전달하는 방식으로 동작한다. 세마포어는 `.aquire()`가 호출되면 내부 카운터가 감소, `.release()`가 호출되면 내부 카운터가 증가하는 방식. 초기 카운터는 매개변수로 전달되는 `concur_req` 값을 가짐. 0이 되면 blocking.  \n",
    "\n",
    "`download_many`에 있던 많은 기능들이 이제 코루틴 `downloader_coro`에 있다. "
   ]
  },
  {
   "cell_type": "code",
   "execution_count": 8,
   "metadata": {
    "collapsed": true
   },
   "outputs": [
    {
     "ename": "TypeError",
     "evalue": "main() takes 0 positional arguments but 3 were given",
     "output_type": "error",
     "traceback": [
      "\u001b[0;31m---------------------------------------------------------------------------\u001b[0m",
      "\u001b[0;31mTypeError\u001b[0m                                 Traceback (most recent call last)",
      "\u001b[0;32m<ipython-input-8-fcb93ef12bc3>\u001b[0m in \u001b[0;36m<module>\u001b[0;34m\u001b[0m\n\u001b[1;32m     39\u001b[0m \u001b[0;34m\u001b[0m\u001b[0m\n\u001b[1;32m     40\u001b[0m \u001b[0;32mif\u001b[0m \u001b[0m__name__\u001b[0m \u001b[0;34m==\u001b[0m \u001b[0;34m'__main__'\u001b[0m\u001b[0;34m:\u001b[0m\u001b[0;34m\u001b[0m\u001b[0;34m\u001b[0m\u001b[0m\n\u001b[0;32m---> 41\u001b[0;31m     \u001b[0mmain\u001b[0m\u001b[0;34m(\u001b[0m\u001b[0mdownload_many\u001b[0m\u001b[0;34m,\u001b[0m \u001b[0mDEFAULT_CONCUR_REQ\u001b[0m\u001b[0;34m,\u001b[0m \u001b[0mMAX_CONCUR_REQ\u001b[0m\u001b[0;34m)\u001b[0m\u001b[0;34m\u001b[0m\u001b[0;34m\u001b[0m\u001b[0m\n\u001b[0m",
      "\u001b[0;31mTypeError\u001b[0m: main() takes 0 positional arguments but 3 were given"
     ]
    }
   ],
   "source": [
    "#Example 18-8\n",
    "@asyncio.coroutine\n",
    "def downloader_coro(cc_list, base_url, verbose, concur_req):\n",
    "    counter = collections.Counter()\n",
    "    semaphore = asyncio.Semaphore(concur_req)\n",
    "    to_do = [download_one(cc, base_url, semaphore, verbose)\n",
    "             for cc in sorted(cc_list)]\n",
    "    \n",
    "    to_do_iter = asyncio.as_completed(to_do)\n",
    "    if not verbose:\n",
    "        to_do_iter = tqdm.tqdm(to_do_iter, total=len(cc_list))\n",
    "    for future in to_do_iter:\n",
    "        try:\n",
    "            res = yield from future\n",
    "        except FetchError as exc:\n",
    "            country_code = exc.country_code\n",
    "            try:\n",
    "                error_msg = exc.__cause__.args[0]\n",
    "            except IndexError:\n",
    "                error_msg = exc.__cause__.__class__.__name__\n",
    "            if verbose and error_msg:\n",
    "                msg = '*** Error for {}: {}'\n",
    "                print(msg.format(country_code, error_msg))\n",
    "            status = HTTPStatus.error\n",
    "        else:\n",
    "            status = res.status\n",
    "            \n",
    "        counter[status] += 1\n",
    "        \n",
    "    return counter\n",
    "\n",
    "def download_many(cc_list, base_url, verbose, concur_req):\n",
    "    loop = asyncio.get_event_loop()\n",
    "    coro = downloader_coro(cc_list, base_url, verbose, concur_req)\n",
    "    counts = loop.run_until_complete(coro)\n",
    "    loop.close()\n",
    "    \n",
    "    return counts\n",
    "\n",
    "if __name__ == '__main__':\n",
    "    main(download_many, DEFAULT_CONCUR_REQ, MAX_CONCUR_REQ)"
   ]
  },
  {
   "cell_type": "markdown",
   "metadata": {},
   "source": [
    "달라진 점은 `requests`에서 `aiohttp`로 변경하면서 예외 처리의 달라짐과, `asyncio`를 사용하면서 변경된 점(`yield from` 등)이다.\n",
    "\n",
    "### Using an Executor to Avoid Blocking the Event Loop\n",
    "디스크 I/O에 사용되는 CPU 사이클이 많기 때문에 성능에 큰 중요한 영향을 미치게 된다. 17절의 방법에서는 많은 워커 스레드 중에 하나의 스레드가 중단되지만, 여기서 나오는 방법에서는 파일이 저장되는 동안 전체 어플리케이션이 중단되기 때문에 `run_in_executor` 방법을 사용한다."
   ]
  },
  {
   "cell_type": "code",
   "execution_count": null,
   "metadata": {},
   "outputs": [],
   "source": [
    "#Example 18-9\n",
    "@asyncio.coroutine\n",
    "def download_one(cc, base_url, semaphore, verbose):\n",
    "    try:\n",
    "        with (yield from semaphore):\n",
    "            image = yield from get_flag(base_url, cc)\n",
    "    except web.HTTPNotFound:\n",
    "        status = HTTPStatus.not_found\n",
    "        msg = 'not found'\n",
    "    except Exceptions as exc:\n",
    "        raise FetchError(cc) from exc\n",
    "    else:\n",
    "        loop = asyncio.get_event_loop()\n",
    "        loop.run_in_executor(None,\n",
    "                            save_flag, image, cc.lower() + '.gif')\n",
    "        status = HTTPStatus.ok\n",
    "        msg = 'OK'\n",
    "        \n",
    "    if verbose and msg:\n",
    "        print(cc, msg)\n",
    "        \n",
    "    return Result(status, cc)"
   ]
  },
  {
   "cell_type": "markdown",
   "metadata": {},
   "source": [
    "## 18.5 콜백에서 Future와 코루틴으로\n",
    "Callback? 어떤 일을 다른 객체에게 시키고, 그 일이 끝나는 것을 기다리는 것이 아니라 그 객체가 나를 다시 부를 때 까지 내 할일을 하고 있는 것. Nonblocking, asynchronous."
   ]
  },
  {
   "cell_type": "markdown",
   "metadata": {},
   "source": [
    "``` JavaScript\n",
    "//Example 18-10\n",
    "api_call1(request1, function (response1) {\n",
    "    // stage 1\n",
    "    var request2 = step1(response1);\n",
    "    \n",
    "    api_call2(request2, function (response2) {\n",
    "        //stage 2\n",
    "        var request3 = step2(response2);\n",
    "        \n",
    "        api_call3(request3, function (response3) {\n",
    "            //stage 3\n",
    "            step3(response3);\n",
    "        });\n",
    "    });\n",
    "});\n",
    "```"
   ]
  },
  {
   "cell_type": "code",
   "execution_count": 10,
   "metadata": {
    "collapsed": true
   },
   "outputs": [
    {
     "ename": "NameError",
     "evalue": "name 'api_call1' is not defined",
     "output_type": "error",
     "traceback": [
      "\u001b[0;31m---------------------------------------------------------------------------\u001b[0m",
      "\u001b[0;31mNameError\u001b[0m                                 Traceback (most recent call last)",
      "\u001b[0;32m<ipython-input-10-ce86d20bec52>\u001b[0m in \u001b[0;36m<module>\u001b[0;34m\u001b[0m\n\u001b[1;32m     12\u001b[0m     \u001b[0mstep3\u001b[0m\u001b[0;34m(\u001b[0m\u001b[0mresponse3\u001b[0m\u001b[0;34m)\u001b[0m\u001b[0;34m\u001b[0m\u001b[0;34m\u001b[0m\u001b[0m\n\u001b[1;32m     13\u001b[0m \u001b[0;34m\u001b[0m\u001b[0m\n\u001b[0;32m---> 14\u001b[0;31m \u001b[0mapi_call1\u001b[0m\u001b[0;34m(\u001b[0m\u001b[0mrequest1\u001b[0m\u001b[0;34m,\u001b[0m \u001b[0mstage1\u001b[0m\u001b[0;34m)\u001b[0m\u001b[0;34m\u001b[0m\u001b[0;34m\u001b[0m\u001b[0m\n\u001b[0m",
      "\u001b[0;31mNameError\u001b[0m: name 'api_call1' is not defined"
     ]
    }
   ],
   "source": [
    "#Example 18-11 Callback hell in Python\n",
    "\n",
    "def stage1(response1):\n",
    "    request2 = step1(response1)\n",
    "    api_call2(request2, stage2)\n",
    "    \n",
    "def stage2(response2):\n",
    "    request3 = step2(response2)\n",
    "    api_call3(request3, stage3)\n",
    "    \n",
    "def stage3(response3):\n",
    "    step3(response3)\n",
    "    \n",
    "api_call1(request1, stage1)"
   ]
  },
  {
   "cell_type": "markdown",
   "metadata": {},
   "source": [
    "콜백 지옥에서 코루틴이 도움이 된다! 이벤트 루프 관점에서는 콜백과 거의 다를 것이 없지만 사용자 입장에서는 컨텍스트도 유지하고 하나의 함수 바디 안에 세 가지 동작을 집어넣을 수 있기 때문에 큰 변화가 있다."
   ]
  },
  {
   "cell_type": "code",
   "execution_count": 11,
   "metadata": {
    "collapsed": true
   },
   "outputs": [
    {
     "ename": "NameError",
     "evalue": "name 'loop' is not defined",
     "output_type": "error",
     "traceback": [
      "\u001b[0;31m---------------------------------------------------------------------------\u001b[0m",
      "\u001b[0;31mNameError\u001b[0m                                 Traceback (most recent call last)",
      "\u001b[0;32m<ipython-input-11-b70456dcda66>\u001b[0m in \u001b[0;36m<module>\u001b[0;34m\u001b[0m\n\u001b[1;32m     12\u001b[0m     \u001b[0mstep3\u001b[0m\u001b[0;34m(\u001b[0m\u001b[0mresponse3\u001b[0m\u001b[0;34m)\u001b[0m\u001b[0;34m\u001b[0m\u001b[0;34m\u001b[0m\u001b[0m\n\u001b[1;32m     13\u001b[0m \u001b[0;34m\u001b[0m\u001b[0m\n\u001b[0;32m---> 14\u001b[0;31m \u001b[0mloop\u001b[0m\u001b[0;34m.\u001b[0m\u001b[0mcreate_task\u001b[0m\u001b[0;34m(\u001b[0m\u001b[0mthree_stages\u001b[0m\u001b[0;34m(\u001b[0m\u001b[0mrequest1\u001b[0m\u001b[0;34m)\u001b[0m\u001b[0;34m)\u001b[0m \u001b[0;31m#must explicitly schedule execution\u001b[0m\u001b[0;34m\u001b[0m\u001b[0;34m\u001b[0m\u001b[0m\n\u001b[0m",
      "\u001b[0;31mNameError\u001b[0m: name 'loop' is not defined"
     ]
    }
   ],
   "source": [
    "#Example 18-12\n",
    "@asyncio.coroutine\n",
    "def three_stages(request1):\n",
    "    response1 = yield from api_call1(request1)\n",
    "    #stage 1\n",
    "    request2 = step1(response1)\n",
    "    response2 = yield from api_call2(request2)\n",
    "    #stage 2\n",
    "    request3 = step2(response2)\n",
    "    response3 = yield from api_call3(request3)\n",
    "    #stage 3\n",
    "    step3(response3)\n",
    "    \n",
    "loop.create_task(three_stages(request1)) #must explicitly schedule execution"
   ]
  },
  {
   "cell_type": "markdown",
   "metadata": {},
   "source": [
    "callback 스타일과 달라진 점에 대해서 보면, 예외 처리를 하나의 예로 들 수 있다. callback 스타일은 비동기 호출이기 때문에 문맥이 보존되지 않아 바깥 쪽에서 예외처리를 할 수 없다. 그래서 하나의 비동기 호출에 두개의 콜백을 등록해서 하나는 성공한 결과, 하나는 에러 처리에 사용함. 딱 봐도 복잡..\n",
    "\n",
    "하지만 18-12에서는 세 단계의 모든 비동기 호출이 같은 함수 안에 있기 때문에 예외를 일으키면, 각각 `try/except`안에 `yield from`을 집어넣음으로 처리할 수 있다.\n",
    "\n",
    "일단은 `yield from`에 익숙해져야 한다. 일단 `yield from`을 적으면 일반 함수 처럼 쉽게 호출할 수도 없고, 코루틴의 실행을 명시적으로 스케줄하거나, 실행이 스케줄된 다른 코루틴에서 `yield from`을 통해 활성화해야한다. `loop.create_task(three_stages(request1))`의 호출이 없으면 아무일도 일어나지 않는다.\n",
    "\n",
    "## 각각의 다운로드에 여러 개의 요청을 수행하기\n",
    "threaded script에서는 쉽다. 하나 요청하고 다른 거 요청하고, 스레드 두번 중단하고, 지역 변수에 저장하고, 파일에 저장하면 됨.\n",
    "\n",
    "콜백을 사용하면 문맥 보존이 되지 않기 때문에 저장이 까다로움.\n",
    "\n",
    "코루틴을 사용하면 스레드 기반보다는 아니지만 그래도 좀 낫다."
   ]
  },
  {
   "cell_type": "code",
   "execution_count": 13,
   "metadata": {},
   "outputs": [],
   "source": [
    "#Example 18-13\n",
    "\n",
    "@asyncio.coroutine\n",
    "def http_def(url):\n",
    "    res = yield from aiohttp.request('GET', url)\n",
    "    if res.status == 200:\n",
    "        ctype = res.headers.get('Content-type', '').lower()\n",
    "        if 'json' in ctype or url.endswith('json'):\n",
    "            data = yield from res.json()\n",
    "        else:\n",
    "            data = yield from res.read()\n",
    "        return data\n",
    "    \n",
    "    elif res.status == 404:\n",
    "        raise web.HTTPNotFound()\n",
    "    else:\n",
    "        raise aiohttp.errors.HttpProcessingError(\n",
    "            code=res.status, message=res.reason,\n",
    "            headers=res.headers)\n",
    "        \n",
    "@asyncio.coroutine\n",
    "def get_country(base_url, cc):\n",
    "    url = '{}/{cc}/metadata.json'.format(base_url, cc=cc.lower())\n",
    "    metadata = yield from http_get(url)\n",
    "    return metadata['country']\n",
    "\n",
    "@asyncio.coroutine\n",
    "def get_flag(base_url, cc):\n",
    "    url = '{}/{cc}/{cc}.gif'.format(base_url, cc=cc.lower())\n",
    "    return (yield from http_get(url))\n",
    "\n",
    "@asyncio.coroutine\n",
    "def download_one(cc, base_url, semaphore, verbose):\n",
    "    try:\n",
    "        with (yield from semaphore):\n",
    "            image = yield from get_flag(base_url, cc)\n",
    "        with (yield from semaphore):\n",
    "            country = yield from get_country(base_url, cc)\n",
    "    except web.HTTPNotFound:\n",
    "        status = HTTPStatus.not_found\n",
    "        msg = 'not found'\n",
    "    except Exception as exc:\n",
    "        raise FetchError(cc) from exc\n",
    "    else:\n",
    "        country = country.replace(' ', '_')\n",
    "        filename = '{}-{}.gif'.format(country, cc)\n",
    "        loop = asyncio.get_event_loop()\n",
    "        loop.run_in_executor(None, save_flag, image, filename)\n",
    "        status = HTTPStatus.ok\n",
    "        msg = 'OK'\n",
    "        \n",
    "    if verbose and msg:\n",
    "        print(cc, msg)\n",
    "        \n",
    "    return Result(status, cc)"
   ]
  },
  {
   "cell_type": "markdown",
   "metadata": {},
   "source": [
    "## 18.6 asyncio 서버 작성\n",
    "처음에는 TCP, 나중에는 HTTP를 이용하여 유니코드 검색기를 만들어보자!\n",
    "### An asyncio TCP Server\n",
    "대부분의 내용들은 `charfinder.py`를 기반으로 한다."
   ]
  },
  {
   "cell_type": "code",
   "execution_count": null,
   "metadata": {},
   "outputs": [],
   "source": [
    "#Example 18-14 tcp_charfinder.py\n",
    "import sys\n",
    "import asyncio\n",
    "\n",
    "from charfinder import UnicodeNameIndex\n",
    "\n",
    "CLRF = b'\\r\\n'\n",
    "PROMPT = b'?> '\n",
    "\n",
    "index = UnicodeNameIndex()\n",
    "\n",
    "@asyncio.coroutine\n",
    "def handle_queries(reader, writer):\n",
    "    while True:\n",
    "        writer.write(PROMPT)\n",
    "        yield from writer.drain()\n",
    "        data = yield from reader.readline()\n",
    "        try:\n",
    "            query = data.decode().strip()\n",
    "        except UnicodeDecodeError:\n",
    "            query = '\\x00'\n",
    "        client = writer.get_extra_info('peername')\n",
    "        print('Received from {}: {!r}'.format(client, query))\n",
    "        if query:\n",
    "            if ord(query[:1]) < 32:\n",
    "                break\n",
    "            lines = list(index.find_description_strs(query))\n",
    "            if lines:\n",
    "                writer.writelines(line.encode() + CRLF for line in lines)\n",
    "            writer.write(index.status(query, len(lines)).encode() + CRLF)\n",
    "            \n",
    "            yield from writer.drain()\n",
    "            print('Sent {} results'.format(len(lines)))\n",
    "            \n",
    "    print('Close the client socket')\n",
    "    writer.close()"
   ]
  },
  {
   "cell_type": "markdown",
   "metadata": {},
   "source": [
    "18-14에 있는 모든 I/O는 `bytes`이다. 네트워크에서 받을 때는 디코딩하고, 다시 보낼 때는 인코딩해야 한다. 한 가지 주의해야 할 점은, 일부 I/O 함수들은 `yield from`으로 실행해야 하는 반면에 다른 것들은 간단한 함수라는 것. "
   ]
  },
  {
   "cell_type": "code",
   "execution_count": 14,
   "metadata": {
    "collapsed": true
   },
   "outputs": [
    {
     "ename": "ValueError",
     "evalue": "invalid literal for int() with base 10: '/root/.local/share/jupyter/runtime/kernel-5af35f37-c5ea-430e-bb4d-731ffec6b85a.json'",
     "output_type": "error",
     "traceback": [
      "\u001b[0;31m---------------------------------------------------------------------------\u001b[0m",
      "\u001b[0;31mValueError\u001b[0m                                Traceback (most recent call last)",
      "\u001b[0;32m<ipython-input-14-aa78e896c7d4>\u001b[0m in \u001b[0;36m<module>\u001b[0;34m\u001b[0m\n\u001b[1;32m     20\u001b[0m \u001b[0;34m\u001b[0m\u001b[0m\n\u001b[1;32m     21\u001b[0m \u001b[0;32mif\u001b[0m \u001b[0m__name__\u001b[0m \u001b[0;34m==\u001b[0m \u001b[0;34m'__main__'\u001b[0m\u001b[0;34m:\u001b[0m\u001b[0;34m\u001b[0m\u001b[0;34m\u001b[0m\u001b[0m\n\u001b[0;32m---> 22\u001b[0;31m     \u001b[0mmain\u001b[0m\u001b[0;34m(\u001b[0m\u001b[0;34m*\u001b[0m\u001b[0msys\u001b[0m\u001b[0;34m.\u001b[0m\u001b[0margv\u001b[0m\u001b[0;34m[\u001b[0m\u001b[0;36m1\u001b[0m\u001b[0;34m:\u001b[0m\u001b[0;34m]\u001b[0m\u001b[0;34m)\u001b[0m\u001b[0;34m\u001b[0m\u001b[0;34m\u001b[0m\u001b[0m\n\u001b[0m",
      "\u001b[0;32m<ipython-input-14-aa78e896c7d4>\u001b[0m in \u001b[0;36mmain\u001b[0;34m(address, port)\u001b[0m\n\u001b[1;32m      2\u001b[0m \u001b[0;34m\u001b[0m\u001b[0m\n\u001b[1;32m      3\u001b[0m \u001b[0;32mdef\u001b[0m \u001b[0mmain\u001b[0m\u001b[0;34m(\u001b[0m\u001b[0maddress\u001b[0m\u001b[0;34m=\u001b[0m\u001b[0;34m'127.0.0.1'\u001b[0m\u001b[0;34m,\u001b[0m \u001b[0mport\u001b[0m\u001b[0;34m=\u001b[0m\u001b[0;36m2323\u001b[0m\u001b[0;34m)\u001b[0m\u001b[0;34m:\u001b[0m\u001b[0;34m\u001b[0m\u001b[0;34m\u001b[0m\u001b[0m\n\u001b[0;32m----> 4\u001b[0;31m     \u001b[0mport\u001b[0m \u001b[0;34m=\u001b[0m \u001b[0mint\u001b[0m\u001b[0;34m(\u001b[0m\u001b[0mport\u001b[0m\u001b[0;34m)\u001b[0m\u001b[0;34m\u001b[0m\u001b[0;34m\u001b[0m\u001b[0m\n\u001b[0m\u001b[1;32m      5\u001b[0m     \u001b[0mloop\u001b[0m \u001b[0;34m=\u001b[0m \u001b[0masyncio\u001b[0m\u001b[0;34m.\u001b[0m\u001b[0mget_event_loop\u001b[0m\u001b[0;34m(\u001b[0m\u001b[0;34m)\u001b[0m\u001b[0;34m\u001b[0m\u001b[0;34m\u001b[0m\u001b[0m\n\u001b[1;32m      6\u001b[0m     \u001b[0mserver_coro\u001b[0m \u001b[0;34m=\u001b[0m \u001b[0masyncio\u001b[0m\u001b[0;34m.\u001b[0m\u001b[0mstart_server\u001b[0m\u001b[0;34m(\u001b[0m\u001b[0mhandle_queries\u001b[0m\u001b[0;34m,\u001b[0m \u001b[0maddress\u001b[0m\u001b[0;34m,\u001b[0m \u001b[0mport\u001b[0m\u001b[0;34m,\u001b[0m \u001b[0mloop\u001b[0m\u001b[0;34m=\u001b[0m\u001b[0mloop\u001b[0m\u001b[0;34m)\u001b[0m\u001b[0;34m\u001b[0m\u001b[0;34m\u001b[0m\u001b[0m\n",
      "\u001b[0;31mValueError\u001b[0m: invalid literal for int() with base 10: '/root/.local/share/jupyter/runtime/kernel-5af35f37-c5ea-430e-bb4d-731ffec6b85a.json'"
     ]
    }
   ],
   "source": [
    "#Example 18-15 tcp_charfinder.py\n",
    "\n",
    "def main(address='127.0.0.1', port=2323):\n",
    "    port = int(port)\n",
    "    loop = asyncio.get_event_loop()\n",
    "    server_coro = asyncio.start_server(handle_queries, address, port, loop=loop)\n",
    "    server = loop.run_until_complete(server_coro)\n",
    "    \n",
    "    host = server.sockets[0].getsockname()\n",
    "    print('Serving on {}. Hit CTRL-C to stop.'.format(host))\n",
    "    try:\n",
    "        loop.run_forever()\n",
    "    except KeyboardInterrupt:\n",
    "        pass\n",
    "    \n",
    "    print('Server shutting down.')\n",
    "    server.close()\n",
    "    loop.run_until_complete(server.wait_close())\n",
    "    loop.close()\n",
    "    \n",
    "if __name__ == '__main__':\n",
    "    main(*sys.argv[1:])"
   ]
  },
  {
   "cell_type": "markdown",
   "metadata": {},
   "source": [
    "### An aiohttp Web Server"
   ]
  },
  {
   "cell_type": "code",
   "execution_count": 16,
   "metadata": {
    "collapsed": true
   },
   "outputs": [
    {
     "ename": "ValueError",
     "evalue": "invalid literal for int() with base 10: '/root/.local/share/jupyter/runtime/kernel-5af35f37-c5ea-430e-bb4d-731ffec6b85a.json'",
     "output_type": "error",
     "traceback": [
      "\u001b[0;31m---------------------------------------------------------------------------\u001b[0m",
      "\u001b[0;31mValueError\u001b[0m                                Traceback (most recent call last)",
      "\u001b[0;32m<ipython-input-16-a0585b8b9a34>\u001b[0m in \u001b[0;36m<module>\u001b[0;34m\u001b[0m\n\u001b[1;32m     22\u001b[0m \u001b[0;34m\u001b[0m\u001b[0m\n\u001b[1;32m     23\u001b[0m \u001b[0;32mif\u001b[0m \u001b[0m__name__\u001b[0m \u001b[0;34m==\u001b[0m \u001b[0;34m'__main__'\u001b[0m\u001b[0;34m:\u001b[0m\u001b[0;34m\u001b[0m\u001b[0;34m\u001b[0m\u001b[0m\n\u001b[0;32m---> 24\u001b[0;31m     \u001b[0mmain\u001b[0m\u001b[0;34m(\u001b[0m\u001b[0;34m*\u001b[0m\u001b[0msys\u001b[0m\u001b[0;34m.\u001b[0m\u001b[0margv\u001b[0m\u001b[0;34m[\u001b[0m\u001b[0;36m1\u001b[0m\u001b[0;34m:\u001b[0m\u001b[0;34m]\u001b[0m\u001b[0;34m)\u001b[0m\u001b[0;34m\u001b[0m\u001b[0;34m\u001b[0m\u001b[0m\n\u001b[0m",
      "\u001b[0;32m<ipython-input-16-a0585b8b9a34>\u001b[0m in \u001b[0;36mmain\u001b[0;34m(address, port)\u001b[0m\n\u001b[1;32m     10\u001b[0m \u001b[0;34m\u001b[0m\u001b[0m\n\u001b[1;32m     11\u001b[0m \u001b[0;32mdef\u001b[0m \u001b[0mmain\u001b[0m\u001b[0;34m(\u001b[0m\u001b[0maddress\u001b[0m\u001b[0;34m=\u001b[0m\u001b[0;34m\"127.0.0.1\"\u001b[0m\u001b[0;34m,\u001b[0m \u001b[0mport\u001b[0m\u001b[0;34m=\u001b[0m\u001b[0;36m8888\u001b[0m\u001b[0;34m)\u001b[0m\u001b[0;34m:\u001b[0m\u001b[0;34m\u001b[0m\u001b[0;34m\u001b[0m\u001b[0m\n\u001b[0;32m---> 12\u001b[0;31m     \u001b[0mport\u001b[0m \u001b[0;34m=\u001b[0m \u001b[0mint\u001b[0m\u001b[0;34m(\u001b[0m\u001b[0mport\u001b[0m\u001b[0;34m)\u001b[0m\u001b[0;34m\u001b[0m\u001b[0;34m\u001b[0m\u001b[0m\n\u001b[0m\u001b[1;32m     13\u001b[0m     \u001b[0mloop\u001b[0m \u001b[0;34m=\u001b[0m \u001b[0masyncio\u001b[0m\u001b[0;34m.\u001b[0m\u001b[0mget_event_loop\u001b[0m\u001b[0;34m(\u001b[0m\u001b[0;34m)\u001b[0m\u001b[0;34m\u001b[0m\u001b[0;34m\u001b[0m\u001b[0m\n\u001b[1;32m     14\u001b[0m     \u001b[0mhost\u001b[0m \u001b[0;34m=\u001b[0m \u001b[0mloop\u001b[0m\u001b[0;34m.\u001b[0m\u001b[0mrun_until_complete\u001b[0m\u001b[0;34m(\u001b[0m\u001b[0minit\u001b[0m\u001b[0;34m(\u001b[0m\u001b[0mloop\u001b[0m\u001b[0;34m,\u001b[0m \u001b[0maddress\u001b[0m\u001b[0;34m,\u001b[0m \u001b[0mport\u001b[0m\u001b[0;34m)\u001b[0m\u001b[0;34m)\u001b[0m\u001b[0;34m\u001b[0m\u001b[0;34m\u001b[0m\u001b[0m\n",
      "\u001b[0;31mValueError\u001b[0m: invalid literal for int() with base 10: '/root/.local/share/jupyter/runtime/kernel-5af35f37-c5ea-430e-bb4d-731ffec6b85a.json'"
     ]
    }
   ],
   "source": [
    "#Example 18-17 http_charfinder.py\n",
    "\n",
    "@asyncio.coroutine\n",
    "def init(loop, address, port):\n",
    "    app = web.Application(loop=loop)\n",
    "    app.router.add_route('GET', '/', home)\n",
    "    handler = app.make_handler()\n",
    "    server = yield from loop.create_server(handler, address, port)\n",
    "    return server.sockets[0].getsockname()\n",
    "\n",
    "def main(address=\"127.0.0.1\", port=8888):\n",
    "    port = int(port)\n",
    "    loop = asyncio.get_event_loop()\n",
    "    host = loop.run_until_complete(init(loop, address, port))\n",
    "    print('Serving on {}. Hit CTRL-C to stop.'.format(host))\n",
    "    try:\n",
    "        loop.run_forever()\n",
    "    except KeyboardInterrupt:\n",
    "        pass\n",
    "    print('Server shutting down.')\n",
    "    loop.close()\n",
    "    \n",
    "if __name__ == '__main__':\n",
    "    main(*sys.argv[1:])"
   ]
  },
  {
   "cell_type": "markdown",
   "metadata": {},
   "source": [
    "TCP와의 비교  \n",
    "```Python\n",
    "server_coro = asyncio.start_server(handle_queries, address, port, loop=loop)\n",
    "server = loop.run_until_complete(server_coro)\n",
    "```\n",
    "TCP에서는 서버가 만들어지고 실행이 main에서 스케줄하는 것이 이렇게 작동된다.\n",
    "\n",
    "HTTP 예제에서는 `init` 함수가 서버를 이렇게 만든다.\n",
    "```Python\n",
    "server = yield from loop.create_server(handler, address, port)\n",
    "```\n",
    "하지만 `init` 자체도 코루틴이고 `main` 함수에서 실행시킨다.\n",
    "```Python\n",
    "host = loop.run_until_complete(init(loop, address, port))\n",
    "```"
   ]
  },
  {
   "cell_type": "code",
   "execution_count": 15,
   "metadata": {},
   "outputs": [],
   "source": [
    "#Example 18-18 http_charfinder.py\n",
    "\n",
    "def home(request):\n",
    "    query = request.GET.get('query', '').strip()\n",
    "    print('Query: {!r}'.format(query))\n",
    "    if query:\n",
    "        descriptions = list(index.find_descriptions(query))\n",
    "        res = '\\n'.join(ROW_TPL.format(**vars(descr))\n",
    "                       for descr in descriptions)\n",
    "        msg = index.status(query, len(descriptions))\n",
    "    else:\n",
    "        descriptions = []\n",
    "        res = ''\n",
    "        msg = 'Enter words describing characters.'\n",
    "        \n",
    "    html = template.format(query=query, result=res, message=msg)\n",
    "    print('Sending {} results'.format(len(descriptions)))\n",
    "    return web.Response(content_type=CONTENT_TYPE, text=html)"
   ]
  },
  {
   "cell_type": "markdown",
   "metadata": {},
   "source": [
    "`home`은 코루틴이 아니고 `yield from`이 없으면 그럴 필요도 없다."
   ]
  },
  {
   "cell_type": "code",
   "execution_count": null,
   "metadata": {},
   "outputs": [],
   "source": []
  }
 ],
 "metadata": {
  "kernelspec": {
   "display_name": "Python 3",
   "language": "python",
   "name": "python3"
  },
  "language_info": {
   "codemirror_mode": {
    "name": "ipython",
    "version": 3
   },
   "file_extension": ".py",
   "mimetype": "text/x-python",
   "name": "python",
   "nbconvert_exporter": "python",
   "pygments_lexer": "ipython3",
   "version": "3.6.9"
  }
 },
 "nbformat": 4,
 "nbformat_minor": 4
}
