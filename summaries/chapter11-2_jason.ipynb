{
 "cells": [
  {
   "cell_type": "markdown",
   "metadata": {},
   "source": [
    "# 11. 인터페이스 : 프로토콜에서 ABC까지"
   ]
  },
  {
   "cell_type": "markdown",
   "metadata": {},
   "source": [
    "## Index\n",
    "- 11.7 ABC의 정의와 사용\n",
    "- 11.8 Tombola 서브클래스 테스트 방법\n",
    "- 11.9 register()의 실제 용법\n",
    "- 11.10 오리처럼 행동할 수 있는 거위\n",
    "- 11.11 요약"
   ]
  },
  {
   "cell_type": "markdown",
   "metadata": {},
   "source": [
    "## Remind\n",
    "__ABC: Abstract Based Class__"
   ]
  },
  {
   "cell_type": "markdown",
   "metadata": {},
   "source": [
    "## 11.7 ABC의 정의와 사용"
   ]
  },
  {
   "cell_type": "markdown",
   "metadata": {},
   "source": [
    "상황가정: 광고가 전부 보여지기 전에는 중복 없이 랜덤으로 노출하는 광고 관리 framework ADAM을 만든다고 가정.\n",
    "\n",
    "**추상 메서드**\n",
    "- .load(...): 컨테이너에 아이템 넣기\n",
    "- .pick(): 컨테이너에서 랜덤으로 한 개의 아이템을 제거하고 리턴\n",
    "\n",
    "**구체 메서드**\n",
    "- .loaded(): 컨테이너에 적어도 하나의 아이템으 있으면 True 리턴\n",
    "- .inspect(): 내용을 변경하지 않고, 컨테이너에 있는 아이템들의 정렬된 tuple을 리턴"
   ]
  },
  {
   "cell_type": "code",
   "execution_count": 1,
   "metadata": {},
   "outputs": [],
   "source": [
    "#Example 11-9\n",
    "import abc\n",
    "\n",
    "class Tombola(abc.ABC):\n",
    "    \n",
    "    @abc.abstractclassmethod #decorator for abstract method\n",
    "    def load(self, iterable):\n",
    "        \"\"\"Add item from an iterable.\"\"\"\n",
    "        \n",
    "    @abc.abstractclassmethod\n",
    "    def pick(self):\n",
    "        \"\"\"Remove item at random, returning it.\n",
    "        \n",
    "        This method should raise 'LookupError' when the instance is empty.\n",
    "        \"\"\"\n",
    "        \n",
    "    def loaded(self):\n",
    "        \"\"\"Return 'True' if there's at least 1 item, 'False' otherwise.\"\"\"\n",
    "        return bool(self.inspect())\n",
    "    \n",
    "    def inspect(self):\n",
    "        \"\"\"Return a sorted tuple with the items currently inside.\"\"\"\n",
    "        items = []\n",
    "        while True:\n",
    "            try:\n",
    "                items.append(self.pick())\n",
    "            except LookupError:\n",
    "                break\n",
    "        self.load(items)\n",
    "        return tuple(sorted(items))"
   ]
  },
  {
   "cell_type": "markdown",
   "metadata": {},
   "source": [
    "ABC 안에서 구체 메서드를 제공하는 것이 가능하다.<br>`.inspect()`는 서브 클래스에서 더 좋은 구현을 하겠지만 그럴 필요가 없다.(이미 구현되어 있기 때문)<br>`.loaded()`는 `bool()`에 적용하려고 정렬된 tuple을 만들기 때문에 비싼 연산이다. 따라서 서브 클래스에서 더 잘 구현해야 할 것이다.<br><br>\n",
    "`LookupError`는 `IndexError`와 `KeyError`보다 상위 계층의 Error이기 때문에 둘 다 잡을 수 있다!"
   ]
  },
  {
   "cell_type": "code",
   "execution_count": 2,
   "metadata": {},
   "outputs": [],
   "source": [
    "#Example 11-11\n",
    "#from tombola import Tombola\n",
    "class Fake(Tombola):\n",
    "    def pick(self):\n",
    "        return 13"
   ]
  },
  {
   "cell_type": "code",
   "execution_count": 3,
   "metadata": {},
   "outputs": [
    {
     "data": {
      "text/plain": [
       "__main__.Fake"
      ]
     },
     "execution_count": 3,
     "metadata": {},
     "output_type": "execute_result"
    }
   ],
   "source": [
    "Fake\n",
    "#나는 왜 더 안뜨지..."
   ]
  },
  {
   "cell_type": "code",
   "execution_count": 4,
   "metadata": {},
   "outputs": [
    {
     "ename": "TypeError",
     "evalue": "Can't instantiate abstract class Fake with abstract methods load",
     "output_type": "error",
     "traceback": [
      "\u001b[0;31m---------------------------------------------------------------------------\u001b[0m",
      "\u001b[0;31mTypeError\u001b[0m                                 Traceback (most recent call last)",
      "\u001b[0;32m<ipython-input-4-747b37a45f6c>\u001b[0m in \u001b[0;36m<module>\u001b[0;34m\u001b[0m\n\u001b[0;32m----> 1\u001b[0;31m \u001b[0mf\u001b[0m \u001b[0;34m=\u001b[0m \u001b[0mFake\u001b[0m\u001b[0;34m(\u001b[0m\u001b[0;34m)\u001b[0m\u001b[0;34m\u001b[0m\u001b[0;34m\u001b[0m\u001b[0m\n\u001b[0m\u001b[1;32m      2\u001b[0m \u001b[0;31m#대충 구체화 다 안하면 객체화 할 수 없다는 말\u001b[0m\u001b[0;34m\u001b[0m\u001b[0;34m\u001b[0m\u001b[0;34m\u001b[0m\u001b[0m\n\u001b[1;32m      3\u001b[0m \u001b[0;31m#load()는...? 구체화 안할거야....??????\u001b[0m\u001b[0;34m\u001b[0m\u001b[0;34m\u001b[0m\u001b[0;34m\u001b[0m\u001b[0m\n",
      "\u001b[0;31mTypeError\u001b[0m: Can't instantiate abstract class Fake with abstract methods load"
     ]
    }
   ],
   "source": [
    "f = Fake()\n",
    "#대충 구체화 다 안하면 객체화 할 수 없다는 말\n",
    "#load()는...? 구체화 안할거야....??????"
   ]
  },
  {
   "cell_type": "markdown",
   "metadata": {},
   "source": [
    "### ABC 문법 디테일(직독직해)\n",
    "`abc.ABC` 같이 편한 건 Python 3.4나 되서야 나왔다. 그 전의 버전에서는 어떻게 ABC를 선언할까?\n",
    "\n",
    "일단,<br>\n",
    "1. Python 3.4 이상: 그냥 `abc.ABC` 쓰면 됨\n",
    "2. Python 3.4 미만의 Python 3: \n",
    "```Python\n",
    "class Tombola(metaclass=abc.ABCMeta):\n",
    "```\n",
    "이렇게 `metaclass` 키워드 인자를 사용하면 된다.\n",
    "3. Python 2\n",
    "```Python\n",
    "class Tomola(object):\n",
    "    __metaclass__ = abc.ABCMeta\n",
    "```\n",
    "이렇게 `__metaclass__` 를 사용하면 된다. (`__metaclass__`는 Chapter 21에서 다시 나온다)\n",
    "\n",
    "<br>\n",
    "원래 `@abstractclassmethod`, `@abstractstaticmethod`, `@abstractproperty` 이렇게 3개가 더 있는데 Python 3.3을 기준으로 사용하지 않는다. stack decorator를 지원하기 때문!\n",
    "\n",
    "```Python\n",
    "class MyABC(abc.ABC):\n",
    "    @classmethod\n",
    "    @abc.abstractmethod\n",
    "    def an_abstract_classmethod(cls, ...):\n",
    "        pass\n",
    "```\n",
    "이런 식으로.."
   ]
  },
  {
   "cell_type": "markdown",
   "metadata": {},
   "source": [
    "### Subclassing Tombola ABC\n",
    "주어진 Tombola ABC, 우리는 지금 발전한다 두개의 구체적인 서브클래스들 그것은 만족한다 그것의 인터페이스를."
   ]
  },
  {
   "cell_type": "code",
   "execution_count": 5,
   "metadata": {},
   "outputs": [],
   "source": [
    "#Example 11-12\n",
    "import random\n",
    "\n",
    "#from tombola import Tombola\n",
    "\n",
    "\n",
    "class BingoCage(Tombola):\n",
    "    \n",
    "    def __init__(self, items):\n",
    "        self._randomizer = random.SystemRandom()\n",
    "        self._items = []\n",
    "        self.load(items)\n",
    "        \n",
    "    def load(self, items):\n",
    "        self._items.extend(items)\n",
    "        self._randomizer.shuffle(self._items)\n",
    "        \n",
    "    def pick(self):\n",
    "        try:\n",
    "            return self._items.pop()\n",
    "        except IndexError:\n",
    "            raise LookupError('pick from empty BingoCage')\n",
    "            \n",
    "    def __call__(self):\n",
    "        self.pick()"
   ]
  },
  {
   "cell_type": "markdown",
   "metadata": {},
   "source": [
    "`BingoCage`는 비싼 `loaded`와 멍청한 `inspect`를 상속한다. 여튼 구현을 다 하지 않아도 ABC에서 구현된 메소드가 있으면 사용해도 된다. 느리고 비효율적일뿐..! 정확한 결과는 제공한다."
   ]
  },
  {
   "cell_type": "code",
   "execution_count": 6,
   "metadata": {},
   "outputs": [],
   "source": [
    "#Example 11-13\n",
    "import random\n",
    "\n",
    "#from tombola import Tombola\n",
    "\n",
    "\n",
    "class LotteryBlower(Tombola):\n",
    "    \n",
    "    def __init__(self, iterable):\n",
    "        self._balls = list(iterable)\n",
    "        \n",
    "    def load(self, iterable):\n",
    "        self._balls.extend(iterable)\n",
    "        \n",
    "    def pick(self):\n",
    "        try:\n",
    "            position = random.randrange(len(self._balls))\n",
    "        except ValueError:\n",
    "            raise LookupError('pick from empty BingoCage')\n",
    "        return self._balls.pop(position)\n",
    "    \n",
    "    def loaded(self):\n",
    "        return bool(self._balls)\n",
    "    \n",
    "    def inspect(self):\n",
    "        return tuple(sorted(self._balls))"
   ]
  },
  {
   "cell_type": "markdown",
   "metadata": {},
   "source": [
    "### A Virtual Subclass of Tombola\n",
    "Goose Typing의 필수적인 특성은 ABC로부터 아무것도 상속받지 않더라도 ABC의 가상 서브 클래스로 등록할 수 있다는 것이다. 가상 서브클래스로 등록하면 Python은 묻지도 따지지도 않고 우리를 믿어준다.<br>\n",
    "Goose Typing?"
   ]
  },
  {
   "cell_type": "code",
   "execution_count": 1,
   "metadata": {},
   "outputs": [
    {
     "ename": "NameError",
     "evalue": "name 'Tombola' is not defined",
     "output_type": "error",
     "traceback": [
      "\u001b[0;31m---------------------------------------------------------------------------\u001b[0m",
      "\u001b[0;31mNameError\u001b[0m                                 Traceback (most recent call last)",
      "\u001b[0;32m<ipython-input-1-d7038cba9205>\u001b[0m in \u001b[0;36m<module>\u001b[0;34m\u001b[0m\n\u001b[1;32m      4\u001b[0m \u001b[0;31m#from tombola import Tombola\u001b[0m\u001b[0;34m\u001b[0m\u001b[0;34m\u001b[0m\u001b[0;34m\u001b[0m\u001b[0m\n\u001b[1;32m      5\u001b[0m \u001b[0;34m\u001b[0m\u001b[0m\n\u001b[0;32m----> 6\u001b[0;31m \u001b[0;34m@\u001b[0m\u001b[0mTombola\u001b[0m\u001b[0;34m.\u001b[0m\u001b[0mregister\u001b[0m\u001b[0;34m\u001b[0m\u001b[0;34m\u001b[0m\u001b[0m\n\u001b[0m\u001b[1;32m      7\u001b[0m \u001b[0;32mclass\u001b[0m \u001b[0mTomboList\u001b[0m\u001b[0;34m(\u001b[0m\u001b[0mlist\u001b[0m\u001b[0;34m)\u001b[0m\u001b[0;34m:\u001b[0m\u001b[0;34m\u001b[0m\u001b[0;34m\u001b[0m\u001b[0m\n\u001b[1;32m      8\u001b[0m \u001b[0;34m\u001b[0m\u001b[0m\n",
      "\u001b[0;31mNameError\u001b[0m: name 'Tombola' is not defined"
     ]
    }
   ],
   "source": [
    "#Example 11-14\n",
    "from random import randrange\n",
    "\n",
    "#from tombola import Tombola\n",
    "\n",
    "@Tombola.register\n",
    "class TomboList(list):\n",
    "    \n",
    "    def pick(self):\n",
    "        if self:\n",
    "            position = randrange(len(self))\n",
    "            return self.pop(position)\n",
    "        else:\n",
    "            raise LookupError('pop from empty TomboList')\n",
    "            \n",
    "    load = list.extend\n",
    "    #Tombolist.load is the same as list.extend\n",
    "    \n",
    "    def loaded(self):\n",
    "        return bool(self)\n",
    "    \n",
    "    def inspect(self):\n",
    "        return tuple(sorted(self))\n",
    "    \n",
    "#Tombola.register(TomboList) #Legacy"
   ]
  },
  {
   "cell_type": "code",
   "execution_count": 8,
   "metadata": {},
   "outputs": [
    {
     "data": {
      "text/plain": [
       "True"
      ]
     },
     "execution_count": 8,
     "metadata": {},
     "output_type": "execute_result"
    }
   ],
   "source": [
    "issubclass(TomboList, Tombola)"
   ]
  },
  {
   "cell_type": "code",
   "execution_count": 9,
   "metadata": {},
   "outputs": [
    {
     "data": {
      "text/plain": [
       "True"
      ]
     },
     "execution_count": 9,
     "metadata": {},
     "output_type": "execute_result"
    }
   ],
   "source": [
    "t = TomboList(range(100))\n",
    "isinstance(t, Tombola)"
   ]
  },
  {
   "cell_type": "code",
   "execution_count": 10,
   "metadata": {},
   "outputs": [
    {
     "data": {
      "text/plain": [
       "(__main__.TomboList, list, object)"
      ]
     },
     "execution_count": 10,
     "metadata": {},
     "output_type": "execute_result"
    }
   ],
   "source": [
    "TomboList.__mro__ #Method Resolution Order\n",
    "#Tombola가 없다!"
   ]
  },
  {
   "cell_type": "markdown",
   "metadata": {},
   "source": [
    "## 11.8 Tombola 서브클래스 테스트 방법\n",
    "- `__subclasses__()`: 클래스의 서브 클래스의 리스트를 리턴. 가상 서브클래스는 포함되지 않음.\n",
    "- `_abc_registry`: 추상 클래스의 가상 서브 클래스를 등록하기 위한 약한 참조 데이터 속성"
   ]
  },
  {
   "cell_type": "code",
   "execution_count": null,
   "metadata": {},
   "outputs": [],
   "source": [
    "#Example 11-15\n",
    "import doctest\n",
    "\n",
    "#from tombola import Tombola\n",
    "\n",
    "#module to test\n",
    "#import bingo, lotto, tombolist, drum\n",
    "\n",
    "TEST_FILE = 'tombola_test.rst'\n",
    "TEST_MSG = '{0:16} {1.attempted:2} tests, {1.failed:2} failed - {2}'\n",
    "\n",
    "def main(argv):\n",
    "    verbose = '-v' in argv\n",
    "    real_subclasses = Tombola.__subclasses__()\n",
    "    virtual_subclasses = list(Tombola._abc_registry)\n",
    "    \n",
    "    for cls in real_subclasses + virtual_subclasses:\n",
    "        test(cls, verbose)\n",
    "        \n",
    "def test(cls, verbose=False):\n",
    "    \n",
    "    res = doctest.testfile(\n",
    "            TEST_FILE,\n",
    "            verbose=verbose,\n",
    "            optionflags=doctest.REPORT_ONLY_FIRST_FAILURE)\n",
    "    tag = 'FAIL' if res.failed else 'OK'\n",
    "    print(TEST_MSG.format(cls.__name__, res, tag))\n",
    "    \n",
    "\n",
    "if __name__ == '__main__':\n",
    "    import sys\n",
    "    main(sys.argv)"
   ]
  },
  {
   "cell_type": "markdown",
   "metadata": {},
   "source": [
    "## 11.9 register()의 실제 용법\n",
    "Example 11-14 마지막 줄의 comment.<br>\n",
    "```Python\n",
    "Tombola.register(TomboList)\n",
    "```\n",
    "Decorator가 잘 작동하지만, 위의 코드와 같이 사용하는 용례가 많다. Built-in 타입인 `tuple`,`str`,`range`,`memoryview`가 `Sequence`의 가상 서브클래스로 등록되어 있다.\n",
    "```Python\n",
    "Sequence.register(tuple)\n",
    "Sequence.register(str)\n",
    "Sequence.register(range)\n",
    "Sequence.register(memoryview)\n",
    "```"
   ]
  },
  {
   "cell_type": "markdown",
   "metadata": {},
   "source": [
    "## 11.10 오리처럼 행동할 수 있는 거위"
   ]
  },
  {
   "cell_type": "code",
   "execution_count": 11,
   "metadata": {},
   "outputs": [
    {
     "data": {
      "text/plain": [
       "True"
      ]
     },
     "execution_count": 11,
     "metadata": {},
     "output_type": "execute_result"
    }
   ],
   "source": [
    "class Struggle:\n",
    "    def __len__(self): return 23\n",
    "    \n",
    "from collections import abc\n",
    "isinstance(Struggle(), abc.Sized)"
   ]
  },
  {
   "cell_type": "code",
   "execution_count": 12,
   "metadata": {},
   "outputs": [
    {
     "data": {
      "text/plain": [
       "True"
      ]
     },
     "execution_count": 12,
     "metadata": {},
     "output_type": "execute_result"
    }
   ],
   "source": [
    "issubclass(Struggle, abc.Sized)"
   ]
  },
  {
   "cell_type": "markdown",
   "metadata": {},
   "source": [
    "음..? 가상 서브클래스로 등록하지 않았는데도 서브클래스로 인식한다. 이것은 `abc.Sized`가 `__subclasshook__`이라는 특수 클래스 메소드를 구현했기 때문이다."
   ]
  },
  {
   "cell_type": "code",
   "execution_count": 13,
   "metadata": {},
   "outputs": [],
   "source": [
    "#Example 11-17\n",
    "from abc import *\n",
    "\n",
    "class Sized(metaclass=ABCMeta):\n",
    "    \n",
    "    __slots__ = ()\n",
    "    \n",
    "    @abstractmethod\n",
    "    def __len__(self):\n",
    "        return 0\n",
    "    \n",
    "    @classmethod\n",
    "    def __subclasshook__(cls, C):\n",
    "        if cls is Sized:\n",
    "            if any(\"__len__\" in B.__dict__ for B in C.__mro__):\n",
    "                return True\n",
    "        return NotImplemented"
   ]
  },
  {
   "cell_type": "markdown",
   "metadata": {},
   "source": [
    "관심이 있다면 `ABCMeta.__subclasscheck__` 메소드를 보라는데 많은 if와 두번의 재귀가 있다네요. 전 pass!<br>\n",
    "여튼, `__subclasshook__`은 goose typing에 duck typing의 DNA를 추가합니다. 그래서 우리의 ABC에서 쓰는 게 좋을까? 필자가 본 `__subclasshook__`은 특별한 상태에서만 구현되어 있고, 이 특수한 상황조차도 위험한 가정을 동반하며, 부정적인 느낌..?"
   ]
  },
  {
   "cell_type": "markdown",
   "metadata": {},
   "source": [
    "## 11.11 요약\n",
    "### Keywords\n",
    "- interface(like protocol)\n",
    "    - Nothing to do with inheritance.\n",
    "    - Duck Typing\n",
    "- ABC(Abstract Based Class)\n",
    "    - Goose Typing\n",
    "    - Make interfaces explicit and classes may claim to implement and interface by subclassing an ABC or by registering with it."
   ]
  }
 ],
 "metadata": {
  "kernelspec": {
   "display_name": "Python 3",
   "language": "python",
   "name": "python3"
  },
  "language_info": {
   "codemirror_mode": {
    "name": "ipython",
    "version": 3
   },
   "file_extension": ".py",
   "mimetype": "text/x-python",
   "name": "python",
   "nbconvert_exporter": "python",
   "pygments_lexer": "ipython3",
   "version": "3.6.9"
  }
 },
 "nbformat": 4,
 "nbformat_minor": 4
}
